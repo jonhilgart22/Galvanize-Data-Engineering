{
 "cells": [
  {
   "cell_type": "markdown",
   "metadata": {},
   "source": [
    "<!--\n",
    "Where are we?\n",
    "-----\n",
    "\n",
    "[Let's look at the map](http://insightdataengineering.com/blog/pipeline_map.html)\n",
    "-->"
   ]
  },
  {
   "cell_type": "markdown",
   "metadata": {},
   "source": [
    "The Cloud & AWS\n",
    "==="
   ]
  },
  {
   "cell_type": "markdown",
   "metadata": {},
   "source": [
    "<!--\n",
    "\n",
    "![](images/living_in_the_cloud.jpg)\n",
    "\n",
    "By the end of this session you will be able to:\n",
    "----\n",
    "\n",
    "- Explain what Cloud Computing is\n",
    "- Provide reasons why Amazon leads in the cloud space \n",
    "- Provide pros and cons of cloud vs on-prem data systems\n",
    "- Explain what AWS, S3, EC2 are\n",
    "- Explain how cloud computing requires a different worldview\n",
    "\n",
    "What is the cloud?\n",
    "----\n",
    "\n",
    "In the simplest terms, people running computers on your behalf that you can reach over the internet\n",
    "\n",
    "What is software-as-a-service as part of the cloud (SaaS)?\n",
    "> A company gives you an API over the internet, and then handle everything else for you.\n",
    "\n",
    "<details><summary>\n",
    "Q: What is a \"no cloud\" solution?\n",
    "</summary>\n",
    "The proverbial computer under your desk. \n",
    "\n",
    "You provide the internet connection and the electricity (and maintenance).\n",
    "</details>\n",
    "\n",
    "Why is The Cloud so popular?\n",
    "---\n",
    "\n",
    "Cloud vs On-Prem\n",
    "----------------\n",
    "\n",
    "What are the pros and cons of cloud vs on-premises hosting or *on-prem*?\n",
    "\n",
    "Like Uber vs owning your own car.\n",
    "\n",
    "Feature          |Cloud                    |On-Prem\n",
    "-------          |-----                    |-------\n",
    "Cost             |Higher variable cost     |Higher fixed cost\n",
    "Capacity         |Elastic                  |Fixed\n",
    "Performance      |Moderate                 |Can be better if within\n",
    "Security         |Provider secures         |Company secures\n",
    "Office Politics  |Teams get own resources  |Teams compete for fixed resources\n",
    "Time to Setup    | Fast!   | Slow!\n",
    "\n",
    "---\n",
    "\n",
    "\n",
    "![](images/evolution_of_the_cloud.jpg)\n",
    "\n",
    "Who are the major cloud providers?\n",
    "----\n",
    "\n",
    "![](images/covering_your_.jpg)\n",
    "\n",
    "\n",
    "---\n",
    "Steve Yegge and Decoupled Design\n",
    "--------------------------------\n",
    "\n",
    "<img src=\"images/yegge.jpg\">\n",
    "\n",
    "Who is Steve Yegge?\n",
    "\n",
    "- Steve Yegge is a developer from Amazon and Google.\n",
    "\n",
    "- Steve blogged a long [rant][yegge-rant] about Amazon's APIs vs\n",
    "  Google's APIs.\n",
    "\n",
    "[yegge-rant]: https://plus.google.com/+RipRowan/posts/eVeouesvaVX\n",
    "\n",
    "What is the difference between Amazon and Google's APIs?\n",
    "\n",
    "- At Amazon developers have to use Amazon's public APIs to for their\n",
    "  internal dependencies.\n",
    "- At Google developers can use private APIs for dependencies.\n",
    "- The forced dogfooding makes Amazon's APIs more decoupled.\n",
    "\n",
    "\n",
    "---\n",
    "Why AWS?\n",
    "---\n",
    "\n",
    "![](http://www.datacenterknowledge.com/wp-content/uploads/2015/05/Screen-Shot-2015-05-28-at-10.23.03-AM-e1432833116144.png\n",
    "   )\n",
    "[Source](http://www.datacenterknowledge.com/archives/2015/05/28/gartner-aws-pulls-further-ahead-in-iaas-cloud-market/)\n",
    "\n",
    "----\n",
    "[Explore console page](https://us-west-2.console.aws.amazon.com/console/home?region=us-west-2#)\n",
    "\n",
    "----\n",
    "What are the primary services that Amazon AWS offers?\n",
    "-----\n",
    "\n",
    "| Name   | Full Name | Should have been called | Service | Use this to |\n",
    "|:-------:|:------:|:------:|:------:|\n",
    "| S3     | Simple Storage Service     | Unlimited FTP Server  | Storage | Store images and other assets for websites. Keep backups and share files between services. Host static websites. Also, many of the other AWS services write and read from S3. |\n",
    "| EC2    | Elastic Compute Cloud      | Virtual Servers | Execution | Host the bits of things you think of as a computer  |\n",
    "\n",
    "\n",
    "----\n",
    "What is AWS S3?\n",
    "----\n",
    "\n",
    "![](images/s3.png)\n",
    "\n",
    "Amazon S3 is a simple key, value store designed to store as many objects as you want. \n",
    "\n",
    "You store these objects in one or more buckets. \n",
    "\n",
    "__This is your 1st NoSQL datastore!__\n",
    "\n",
    "-->"
   ]
  },
  {
   "cell_type": "markdown",
   "metadata": {},
   "source": [
    "---\n",
    "What is AWS's EC2?\n",
    "---"
   ]
  },
  {
   "cell_type": "code",
   "execution_count": 31,
   "metadata": {
    "collapsed": false
   },
   "outputs": [
    {
     "data": {
      "image/jpeg": "[encoded data removed]",
      "text/html": [
       "\n",
       "        <iframe\n",
       "            width=\"400\"\n",
       "            height=\"300\"\n",
       "            src=\"https://www.youtube.com/embed/Px7ZPLq4AOU\"\n",
       "            frameborder=\"0\"\n",
       "            allowfullscreen\n",
       "        ></iframe>\n",
       "        "
      ],
      "text/plain": [
       "<IPython.lib.display.YouTubeVideo at 0x1044ff2d0>"
      ]
     },
     "execution_count": 31,
     "metadata": {},
     "output_type": "execute_result"
    }
   ],
   "source": [
    "from IPython.display import YouTubeVideo\n",
    "YouTubeVideo(\"Px7ZPLq4AOU\")"
   ]
  },
  {
   "cell_type": "markdown",
   "metadata": {},
   "source": [
    "But about GPUs?\n",
    "\n",
    "AWS has them - [HPC](https://aws.amazon.com/hpc/)"
   ]
  },
  {
   "cell_type": "markdown",
   "metadata": {},
   "source": [
    "Connecting to EC2\n",
    "-----------------\n",
    "\n",
    "Q: How can I connect to an EC2 instance?\n",
    "\n",
    "- Login to the AWS console.\n",
    "\n",
    "- Navigate: EC2 > Launch Instance > Community AMIs > Search community AMIs > `ami-d1737bb8`\n",
    "\n",
    "- View the instance and get its Public DNS.\n",
    "\n",
    "- This should look something like `ec2-52-3-161-43.compute-1.amazonaws.com`.\n",
    "\n",
    "- Use this command to connect to it.\n",
    "\n",
    "- `ssh -X -i ~/.ssh/keypair.pem user@domain`\n",
    "\n",
    "- Here is an example. \n",
    "\n",
    "- `ssh -X -i ~/.ssh/keypair.pem ubuntu@ec2-52-3-161-43.compute-1.amazonaws.com`\n",
    "\n",
    "- Make sure you replace the Public DNS value below with the value you\n",
    "  have for your instance.\n",
    "\n",
    "Copying Files to EC2\n",
    "--------------------\n",
    "\n",
    "Q: How can I copy files to the EC2 instance?\n",
    "\n",
    "- To copy a file `myfile.txt` to EC2, use a command like this.\n",
    "\n",
    "- `scp -i ~/.ssh/keypair.pem myfile.txt user@domain:`\n",
    "\n",
    "- To copy a directory `mydir` recursively to EC2, use a command like\n",
    "  this. \n",
    "  \n",
    "- `scp -i ~/.ssh/keypair.pem -r mydir user@domain:`"
   ]
  },
  {
   "cell_type": "markdown",
   "metadata": {},
   "source": [
    "Regions\n",
    "-------\n",
    "\n",
    "Q: What are *AWS Regions*?\n",
    "\n",
    "- AWS is hosted in different geographic locations world-wide. \n",
    "\n",
    "- For example, there are 3 regions in the US.\n",
    "\n",
    "Q: What are the regions in the US\n",
    "\n",
    "Region       |Name       |Location \n",
    "------       |----       |-------- \n",
    "us-east-1    |US East    |N. Virginia\n",
    "us-east-2    |US East 2  |Ohio\n",
    "us-west-1    |US West    |N. California\n",
    "us-west-2    |US West 2  |Oregon\n",
    "\n",
    "Q: How should I choose a region?\n",
    "\n",
    "- N. Virginia or `us-east-1` is the default region for EC2.\n",
    "\n",
    "- Using a region other than N. Virginia requires additional configuration.\n",
    "\n",
    "- If you are not sure choose N. Virginia.\n",
    "\n",
    "Availability Zones\n",
    "------------------\n",
    "\n",
    "Q: What are *AWS Availability Zones*?\n",
    "\n",
    "- Regions are divided into isolated availability zones for fault\n",
    "  tolerance.\n",
    "\n",
    "- Availability zone run on physically separate hardware and\n",
    "  infrastructure.\n",
    "\n",
    "- They do not share hardware, or generators, or cooling equipment. \n",
    "\n",
    "- Availability zones are assigned automatically to your EC2 instances\n",
    "  based on your user ID.\n",
    "\n",
    "<img src=\"images/aws_regions.png\">\n",
    "\n",
    "<details><summary>\n",
    "Q: Is it possible for two separate users to coordinate and land on the\n",
    "same availability zone?\n",
    "</summary>\n",
    "1. Availability zones are assigned automatically by the system.\n",
    "<br>\n",
    "2. It is not possible for two AWS users to coordinate and be hosted on the same\n",
    "availability zone.\n",
    "</details>\n",
    "\n"
   ]
  },
  {
   "cell_type": "markdown",
   "metadata": {},
   "source": [
    "---\n",
    "What is EBS?\n",
    "---\n",
    "\n",
    "Name   |Full Name                  |Service\n",
    "----   |---------                  |-------\n",
    "EBS    |Elastic Block Store        |Storage attached to EC2 instances"
   ]
  },
  {
   "cell_type": "markdown",
   "metadata": {},
   "source": [
    "\n",
    "S3 vs EBS\n",
    "---------\n",
    "\n",
    "What is the difference between S3 and EBS? Why would I use one versus\n",
    "the other?\n",
    "\n",
    "Feature                |S3                   |EBS\n",
    "-------                |--                   |---\n",
    "Can be accessed from   |Anywhere on the web  |Particular availability zone\n",
    "Can be accessed from   |Any EC2 instance     |EC2 instance attached to it\n",
    "Pricing                |Storage              |Storage + IOPS\n",
    "Price                  |Cheaper              |More Expensive\n",
    "Latency                |Higher               |Lower\n",
    "Throughput             |Varies More          |Varies Less\n",
    "Performance            |Slightly Worse       |Slightly Better\n",
    "Max volume size        |Unlimited            |16 TB\n",
    "Max file size          |5 TB                 |16 TB\n"
   ]
  },
  {
   "cell_type": "markdown",
   "metadata": {},
   "source": [
    "Check for understanding\n",
    "--------\n",
    "\n",
    "<details><summary>\n",
    "Q: I want to store some video files on the web. Which Amazon service\n",
    "should I use?\n",
    "</summary>\n",
    "S3\n",
    "</details>\n",
    "\n",
    "<details><summary>\n",
    "Q: I just created an iPhone app which needs to store user profiles on the\n",
    "web somewhere. Which Amazon service should I use?\n",
    "</summary>\n",
    "S3\n",
    "</details>\n",
    "\n",
    "<details><summary>\n",
    "Q: I want to create a web application in PHP. Which Amazon service\n",
    "should I use?\n",
    "</summary>\n",
    "EC2 + EBS or EC2 + S3\n",
    "</details>\n"
   ]
  },
  {
   "cell_type": "markdown",
   "metadata": {},
   "source": [
    "---\n",
    "Servers: Cattle, not cats\n",
    "---\n",
    "\n",
    "![](images/servers_pets_or_cattle.jpg)\n",
    "\n",
    "---\n",
    "\n",
    "![](images/cloudscaling_pets_cattle_servers.jpg)\n",
    "\n",
    "Don't become attached to specific instances in the cloud"
   ]
  },
  {
   "cell_type": "markdown",
   "metadata": {},
   "source": [
    "---\n",
    "Setup up monitoring for billing\n",
    "----\n",
    "\n",
    "http://docs.aws.amazon.com/awsaccountbilling/latest/aboutv2/tracking-free-tier-usage.html"
   ]
  },
  {
   "cell_type": "markdown",
   "metadata": {},
   "source": [
    "----\n",
    "Shut down clusters everyday\n",
    "---"
   ]
  },
  {
   "cell_type": "markdown",
   "metadata": {},
   "source": [
    "Summary:\n",
    "-----\n",
    "\n",
    "- The Cloud is people running computers and services on your behalf. You lease (not own). Allows for quick trying and scaling\n",
    "- Can get $$$\n",
    "- AWS is the dominant cloud provider\n",
    "- The main services are\n",
    "    - S3 - object storage\n",
    "    - EC2 - compute\n",
    "- There are many other services, including machine learning"
   ]
  },
  {
   "cell_type": "markdown",
   "metadata": {},
   "source": [
    "![](images/dilbert_cloud.jpg)"
   ]
  },
  {
   "cell_type": "markdown",
   "metadata": {},
   "source": [
    "<br>\n",
    "\n",
    "----"
   ]
  }
 ],
 "metadata": {
  "anaconda-cloud": {},
  "kernelspec": {
   "display_name": "Python [conda env:dsci6007]",
   "language": "python",
   "name": "conda-env-dsci6007-py"
  },
  "language_info": {
   "codemirror_mode": {
    "name": "ipython",
    "version": 2
   },
   "file_extension": ".py",
   "mimetype": "text/x-python",
   "name": "python",
   "nbconvert_exporter": "python",
   "pygments_lexer": "ipython2",
   "version": "2.7.13"
  }
 },
 "nbformat": 4,
 "nbformat_minor": 0
}
