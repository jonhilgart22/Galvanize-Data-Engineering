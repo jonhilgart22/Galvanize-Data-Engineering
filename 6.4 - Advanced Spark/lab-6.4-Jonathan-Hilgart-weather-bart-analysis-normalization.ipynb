{
 "cells": [
  {
   "cell_type": "code",
   "execution_count": null,
   "metadata": {
    "collapsed": true
   },
   "outputs": [],
   "source": [
    "## Here are the links to the normalized data\n",
    "## weather\n",
    "# \thttps://s3.amazonaws.com/normalized-data-weather-bart/location2017/2/26/17/part-00000-e2cbf24e-080b-42c9-816b-abc421d2bc28.csv\n",
    "# \thttps://s3.amazonaws.com/normalized-data-weather-bart/main-temp2017/2/26/17/part-00000-9ad2cc92-5776-4f21-a4a4-1f0e86cf49fc.csv\n",
    "# \thttps://s3.amazonaws.com/normalized-data-weather-bart/weather-description2017/2/26/17/part-00000-8b0d083c-f41e-4f00-95f8-1ba26d84633a.csv\n",
    "# \thttps://s3.amazonaws.com/normalized-data-weather-bart/wind_df2017/2/26/17/part-00000-87d3f008-0fdd-4c3f-ae1c-c8e3dc7061ec.csv\n",
    "## bart\n",
    "# \thttps://s3.amazonaws.com/normalized-data-weather-bart/bart-one-arrival2017/2/27/17/part-00000-7b169176-4c09-4fb4-b943-c328a64630d4.csv\n",
    "# \thttps://s3.amazonaws.com/normalized-data-weather-bart/bart-one-physical2017/2/27/17/part-00000-b3d0331e-0738-4e14-9196-2fc6d69575b3.csv\n"
   ]
  },
  {
   "cell_type": "code",
   "execution_count": 5,
   "metadata": {
    "collapsed": false,
    "deletable": true,
    "editable": true
   },
   "outputs": [],
   "source": [
    "from pyspark.sql.functions import  explode, from_unixtime, from_json\n",
    "from pyspark.sql import SQLContext,column\n",
    "from pyspark.sql import DataFrame\n",
    "import pandas as pd\n",
    "import time\n",
    "import pytz\n",
    "import datetime"
   ]
  },
  {
   "cell_type": "code",
   "execution_count": 28,
   "metadata": {
    "collapsed": true,
    "deletable": true,
    "editable": true
   },
   "outputs": [],
   "source": [
    "sqlContext = SQLContext(sc)\n"
   ]
  },
  {
   "cell_type": "code",
   "execution_count": null,
   "metadata": {
    "collapsed": true,
    "deletable": true,
    "editable": true
   },
   "outputs": [],
   "source": [
    "#\thttps://s3.amazonaws.com/current-weather-data/2017/02/25/22/current-sf-weather-2-2017-02-25-22-40-03-80004853-a662-440b-8a99-25d76fa72d82"
   ]
  },
  {
   "cell_type": "code",
   "execution_count": null,
   "metadata": {
    "collapsed": true,
    "deletable": true,
    "editable": true
   },
   "outputs": [],
   "source": [
    "#spark = spark session\n",
    "weather_df = spark.read.json(\"s3a://current-weather-data/2017/02/25/22/current-sf-weather-2-2017-02-25-22-40-03-80004853-a662-440b-8a99-25d76fa72d82\")"
   ]
  },
  {
   "cell_type": "code",
   "execution_count": null,
   "metadata": {
    "collapsed": false,
    "deletable": true,
    "editable": true
   },
   "outputs": [],
   "source": [
    "weather_df .printSchema()"
   ]
  },
  {
   "cell_type": "code",
   "execution_count": null,
   "metadata": {
    "collapsed": false,
    "deletable": true,
    "editable": true
   },
   "outputs": [],
   "source": [
    "weather_description_df = weather_df.select(from_unixtime(\"dt\").alias('dt'),explode(\"weather.main\"))"
   ]
  },
  {
   "cell_type": "code",
   "execution_count": null,
   "metadata": {
    "collapsed": false,
    "deletable": true,
    "editable": true
   },
   "outputs": [],
   "source": [
    "main_temp_df = weather_df.select(from_unixtime(\"dt\").alias('dt'),\"main.humidity\",\"main.pressure\",\"main.temp\",\"main.temp_max\",\"main.temp_min\")"
   ]
  },
  {
   "cell_type": "code",
   "execution_count": null,
   "metadata": {
    "collapsed": false,
    "deletable": true,
    "editable": true
   },
   "outputs": [],
   "source": [
    "wind_df = weather_df .select(from_unixtime(\"dt\").alias('dt'),\"wind.speed\", \"wind.deg\", \"wind.gust\")"
   ]
  },
  {
   "cell_type": "code",
   "execution_count": null,
   "metadata": {
    "collapsed": false,
    "deletable": true,
    "editable": true
   },
   "outputs": [],
   "source": [
    "location_df = weather_df .select(from_unixtime(\"dt\").alias('dt'),\"name\")"
   ]
  },
  {
   "cell_type": "code",
   "execution_count": 43,
   "metadata": {
    "collapsed": false,
    "deletable": true,
    "editable": true
   },
   "outputs": [],
   "source": [
    "SF_time = pytz.timezone('US/Pacific')\n",
    "current_sf_time = datetime.datetime.now(SF_time)\n",
    "date_sf, raw_time_sf = \\\n",
    "        time.strftime('{}'.format(current_sf_time)).split(' ')\n",
    "sf_hour, sf_minute = int(raw_time_sf[:2]), int(raw_time_sf[3:5])\n",
    "now = datetime.datetime.now()\n",
    "sf_year = now.year\n",
    "sf_month = now.month\n",
    "sf_day = now.day\n",
    "KeyFileName = \"{}/{}/{}/{}\".format(sf_year, sf_month, sf_day, sf_hour)"
   ]
  },
  {
   "cell_type": "code",
   "execution_count": 44,
   "metadata": {
    "collapsed": false,
    "deletable": true,
    "editable": true
   },
   "outputs": [
    {
     "data": {
      "text/plain": [
       "'2017/2/27/17'"
      ]
     },
     "execution_count": 44,
     "metadata": {},
     "output_type": "execute_result"
    }
   ],
   "source": [
    "KeyFileName"
   ]
  },
  {
   "cell_type": "code",
   "execution_count": null,
   "metadata": {
    "collapsed": false,
    "deletable": true,
    "editable": true
   },
   "outputs": [],
   "source": [
    "weather_description_df.write.save(\"s3a://normalized-data-weather-bart/weather-description{}\".format(KeyFileName), format=\"csv\")"
   ]
  },
  {
   "cell_type": "code",
   "execution_count": null,
   "metadata": {
    "collapsed": true,
    "deletable": true,
    "editable": true
   },
   "outputs": [],
   "source": [
    "main_temp_df.write.save(\"s3a://normalized-data-weather-bart/main-temp{}\".format(KeyFileName), format=\"csv\")"
   ]
  },
  {
   "cell_type": "code",
   "execution_count": null,
   "metadata": {
    "collapsed": true,
    "deletable": true,
    "editable": true
   },
   "outputs": [],
   "source": [
    "wind_df.write.save(\"s3a://normalized-data-weather-bart/wind_df{}\".format(KeyFileName), format=\"csv\")"
   ]
  },
  {
   "cell_type": "code",
   "execution_count": null,
   "metadata": {
    "collapsed": true,
    "deletable": true,
    "editable": true
   },
   "outputs": [],
   "source": [
    "location_df.write.save(\"s3a://normalized-data-weather-bart/location{}\".format(KeyFileName), format=\"csv\")"
   ]
  },
  {
   "cell_type": "code",
   "execution_count": null,
   "metadata": {
    "collapsed": true,
    "deletable": true,
    "editable": true
   },
   "outputs": [],
   "source": [
    "## onto bart data"
   ]
  },
  {
   "cell_type": "code",
   "execution_count": 7,
   "metadata": {
    "collapsed": false,
    "deletable": true,
    "editable": true
   },
   "outputs": [],
   "source": [
    "bart_df = spark.read.json(\"s3a://bart-data-collection/2017/02/26/*/*\")"
   ]
  },
  {
   "cell_type": "code",
   "execution_count": 8,
   "metadata": {
    "collapsed": true,
    "deletable": true,
    "editable": true
   },
   "outputs": [],
   "source": [
    "# assume each bart train can hold 200 people\n",
    "# http://www.bart.gov/about/history/cars"
   ]
  },
  {
   "cell_type": "code",
   "execution_count": 9,
   "metadata": {
    "collapsed": false,
    "deletable": true,
    "editable": true
   },
   "outputs": [],
   "source": [
    "bart_df_one = bart_df.select(\"bike_flag.0\",\n",
    "               \"color.0\",\"direction.0\",\"minutes.0\",\"time.0\",\"train_size.0\",\"unix_time.0\",\n",
    "              \"origin_station.0\",\"destination.0\",\"date.0\")"
   ]
  },
  {
   "cell_type": "code",
   "execution_count": 10,
   "metadata": {
    "collapsed": false,
    "deletable": true,
    "editable": true
   },
   "outputs": [],
   "source": [
    "pandas_bart_one = bart_df_one.toPandas()\n",
    "new_bart_one_arrival = pd.DataFrame(columns=[\"unix_time\",\"date\",\"sf_time\",\"origin_station\",\"direction\",\"destination\"\n",
    "              \"minutes_til_arrival\",\"arrival_time\"])\n",
    "new_bart_one_physical = pd.DataFrame(columns=[\"unix_time\",\"date\",\"sf_time\",\"color\",\"bike_flag\",\"train_size\",\"capacity\"])"
   ]
  },
  {
   "cell_type": "code",
   "execution_count": 11,
   "metadata": {
    "collapsed": false,
    "deletable": true,
    "editable": true
   },
   "outputs": [],
   "source": [
    "new_bart_one_physical['bike_flag']=pandas_bart_one.iloc[:,0]\n",
    "new_bart_one_physical['color']=pandas_bart_one.iloc[:,1]\n",
    "new_bart_one_arrival['direction']=pandas_bart_one.iloc[:,2]\n",
    "new_bart_one_arrival['minutes_til_arrival']=pandas_bart_one.iloc[:,3]\n",
    "new_bart_one_arrival['sf_time']=pandas_bart_one.iloc[:,4]\n",
    "new_bart_one_physical['sf_time']=pandas_bart_one.iloc[:,4]\n",
    "new_bart_one_physical['train_size']=pandas_bart_one.iloc[:,5]\n",
    "new_bart_one_physical['capacity']=new_bart_one_physical['train_size']*200\n",
    "new_bart_one_arrival['unix_time']=pandas_bart_one.iloc[:,6]\n",
    "new_bart_one_physical['unix_time']=pandas_bart_one.iloc[:,6]\n",
    "new_bart_one_arrival['origin_station']=pandas_bart_one.iloc[:,7]\n",
    "new_bart_one_arrival['destination']=pandas_bart_one.iloc[:,8]\n",
    "new_bart_one_arrival['date']=pandas_bart_one.iloc[:,9]\n",
    "new_bart_one_physical['date']=pandas_bart_one.iloc[:,9]\n",
    "\n",
    "new_bart_one_arrival['minutes_til_arrival'] = new_bart_one_arrival['minutes_til_arrival'].apply(lambda x:\n",
    "                                               pd.Timedelta(x,unit='m') )\n"
   ]
  },
  {
   "cell_type": "code",
   "execution_count": 12,
   "metadata": {
    "collapsed": false,
    "deletable": true,
    "editable": true
   },
   "outputs": [],
   "source": [
    "new_bart_one_arrival.drop('destinationminutes_til_arrival',axis=1,inplace=True)"
   ]
  },
  {
   "cell_type": "code",
   "execution_count": 13,
   "metadata": {
    "collapsed": false,
    "deletable": true,
    "editable": true
   },
   "outputs": [
    {
     "data": {
      "text/html": [
       "<div>\n",
       "<table border=\"1\" class=\"dataframe\">\n",
       "  <thead>\n",
       "    <tr style=\"text-align: right;\">\n",
       "      <th></th>\n",
       "      <th>unix_time</th>\n",
       "      <th>date</th>\n",
       "      <th>sf_time</th>\n",
       "      <th>color</th>\n",
       "      <th>bike_flag</th>\n",
       "      <th>train_size</th>\n",
       "      <th>capacity</th>\n",
       "    </tr>\n",
       "  </thead>\n",
       "  <tbody>\n",
       "    <tr>\n",
       "      <th>0</th>\n",
       "      <td>1.488143e+12</td>\n",
       "      <td>02/26/2017</td>\n",
       "      <td>01:05:01 PM PST</td>\n",
       "      <td>BLUE</td>\n",
       "      <td>1</td>\n",
       "      <td>9.0</td>\n",
       "      <td>1800.0</td>\n",
       "    </tr>\n",
       "    <tr>\n",
       "      <th>1</th>\n",
       "      <td>1.488143e+12</td>\n",
       "      <td>02/26/2017</td>\n",
       "      <td>01:05:01 PM PST</td>\n",
       "      <td>BLUE</td>\n",
       "      <td>1</td>\n",
       "      <td>9.0</td>\n",
       "      <td>1800.0</td>\n",
       "    </tr>\n",
       "    <tr>\n",
       "      <th>2</th>\n",
       "      <td>1.488143e+12</td>\n",
       "      <td>02/26/2017</td>\n",
       "      <td>01:05:01 PM PST</td>\n",
       "      <td>BLUE</td>\n",
       "      <td>1</td>\n",
       "      <td>8.0</td>\n",
       "      <td>1600.0</td>\n",
       "    </tr>\n",
       "    <tr>\n",
       "      <th>3</th>\n",
       "      <td>1.488143e+12</td>\n",
       "      <td>02/26/2017</td>\n",
       "      <td>01:05:01 PM PST</td>\n",
       "      <td>ORANGE</td>\n",
       "      <td>1</td>\n",
       "      <td>6.0</td>\n",
       "      <td>1200.0</td>\n",
       "    </tr>\n",
       "    <tr>\n",
       "      <th>4</th>\n",
       "      <td>1.488143e+12</td>\n",
       "      <td>02/26/2017</td>\n",
       "      <td>01:05:01 PM PST</td>\n",
       "      <td>ORANGE</td>\n",
       "      <td>1</td>\n",
       "      <td>6.0</td>\n",
       "      <td>1200.0</td>\n",
       "    </tr>\n",
       "  </tbody>\n",
       "</table>\n",
       "</div>"
      ],
      "text/plain": [
       "      unix_time        date          sf_time   color bike_flag  train_size  \\\n",
       "0  1.488143e+12  02/26/2017  01:05:01 PM PST    BLUE         1         9.0   \n",
       "1  1.488143e+12  02/26/2017  01:05:01 PM PST    BLUE         1         9.0   \n",
       "2  1.488143e+12  02/26/2017  01:05:01 PM PST    BLUE         1         8.0   \n",
       "3  1.488143e+12  02/26/2017  01:05:01 PM PST  ORANGE         1         6.0   \n",
       "4  1.488143e+12  02/26/2017  01:05:01 PM PST  ORANGE         1         6.0   \n",
       "\n",
       "   capacity  \n",
       "0    1800.0  \n",
       "1    1800.0  \n",
       "2    1600.0  \n",
       "3    1200.0  \n",
       "4    1200.0  "
      ]
     },
     "execution_count": 13,
     "metadata": {},
     "output_type": "execute_result"
    }
   ],
   "source": [
    "new_bart_one_physical.head()"
   ]
  },
  {
   "cell_type": "code",
   "execution_count": 14,
   "metadata": {
    "collapsed": false,
    "deletable": true,
    "editable": true
   },
   "outputs": [
    {
     "data": {
      "text/html": [
       "<div>\n",
       "<table border=\"1\" class=\"dataframe\">\n",
       "  <thead>\n",
       "    <tr style=\"text-align: right;\">\n",
       "      <th></th>\n",
       "      <th>unix_time</th>\n",
       "      <th>date</th>\n",
       "      <th>sf_time</th>\n",
       "      <th>origin_station</th>\n",
       "      <th>direction</th>\n",
       "      <th>arrival_time</th>\n",
       "      <th>minutes_til_arrival</th>\n",
       "      <th>destination</th>\n",
       "    </tr>\n",
       "  </thead>\n",
       "  <tbody>\n",
       "    <tr>\n",
       "      <th>0</th>\n",
       "      <td>1.488143e+12</td>\n",
       "      <td>02/26/2017</td>\n",
       "      <td>01:05:01 PM PST</td>\n",
       "      <td>Lake Merritt</td>\n",
       "      <td>South</td>\n",
       "      <td>NaN</td>\n",
       "      <td>00:15:00</td>\n",
       "      <td>Dublin/Pleasanton</td>\n",
       "    </tr>\n",
       "    <tr>\n",
       "      <th>1</th>\n",
       "      <td>1.488143e+12</td>\n",
       "      <td>02/26/2017</td>\n",
       "      <td>01:05:01 PM PST</td>\n",
       "      <td>24th St. Mission</td>\n",
       "      <td>North</td>\n",
       "      <td>NaN</td>\n",
       "      <td>00:14:00</td>\n",
       "      <td>Dublin/Pleasanton</td>\n",
       "    </tr>\n",
       "    <tr>\n",
       "      <th>2</th>\n",
       "      <td>1.488143e+12</td>\n",
       "      <td>02/26/2017</td>\n",
       "      <td>01:05:01 PM PST</td>\n",
       "      <td>24th St. Mission</td>\n",
       "      <td>South</td>\n",
       "      <td>NaN</td>\n",
       "      <td>00:13:00</td>\n",
       "      <td>Daly City</td>\n",
       "    </tr>\n",
       "    <tr>\n",
       "      <th>3</th>\n",
       "      <td>1.488143e+12</td>\n",
       "      <td>02/26/2017</td>\n",
       "      <td>01:05:01 PM PST</td>\n",
       "      <td>Downtown Berkeley</td>\n",
       "      <td>North</td>\n",
       "      <td>NaN</td>\n",
       "      <td>00:00:00</td>\n",
       "      <td>Richmond</td>\n",
       "    </tr>\n",
       "    <tr>\n",
       "      <th>4</th>\n",
       "      <td>1.488143e+12</td>\n",
       "      <td>02/26/2017</td>\n",
       "      <td>01:05:01 PM PST</td>\n",
       "      <td>Downtown Berkeley</td>\n",
       "      <td>South</td>\n",
       "      <td>NaN</td>\n",
       "      <td>00:04:00</td>\n",
       "      <td>Fremont</td>\n",
       "    </tr>\n",
       "  </tbody>\n",
       "</table>\n",
       "</div>"
      ],
      "text/plain": [
       "      unix_time        date          sf_time     origin_station direction  \\\n",
       "0  1.488143e+12  02/26/2017  01:05:01 PM PST       Lake Merritt     South   \n",
       "1  1.488143e+12  02/26/2017  01:05:01 PM PST   24th St. Mission     North   \n",
       "2  1.488143e+12  02/26/2017  01:05:01 PM PST   24th St. Mission     South   \n",
       "3  1.488143e+12  02/26/2017  01:05:01 PM PST  Downtown Berkeley     North   \n",
       "4  1.488143e+12  02/26/2017  01:05:01 PM PST  Downtown Berkeley     South   \n",
       "\n",
       "  arrival_time  minutes_til_arrival        destination  \n",
       "0          NaN             00:15:00  Dublin/Pleasanton  \n",
       "1          NaN             00:14:00  Dublin/Pleasanton  \n",
       "2          NaN             00:13:00          Daly City  \n",
       "3          NaN             00:00:00           Richmond  \n",
       "4          NaN             00:04:00            Fremont  "
      ]
     },
     "execution_count": 14,
     "metadata": {},
     "output_type": "execute_result"
    }
   ],
   "source": [
    "new_bart_one_arrival.head()"
   ]
  },
  {
   "cell_type": "code",
   "execution_count": 15,
   "metadata": {
    "collapsed": false,
    "deletable": true,
    "editable": true
   },
   "outputs": [],
   "source": [
    "arrival_data_bart_one = []\n",
    "for idx,row in enumerate(new_bart_one_arrival['sf_time']):\n",
    "    \n",
    "    arrival_data_bart_one.append(row+new_bart_one_arrival['minutes_til_arrival'][idx])"
   ]
  },
  {
   "cell_type": "code",
   "execution_count": 24,
   "metadata": {
    "collapsed": false,
    "deletable": true,
    "editable": true
   },
   "outputs": [],
   "source": [
    "new_bart_one_arrival['arrival_time']=arrival_data_bart_one"
   ]
  },
  {
   "cell_type": "code",
   "execution_count": 25,
   "metadata": {
    "collapsed": true,
    "deletable": true,
    "editable": true
   },
   "outputs": [],
   "source": [
    "new_bart_one_physical.dropna(inplace=True)\n",
    "new_bart_one_arrival.dropna(inplace=True)"
   ]
  },
  {
   "cell_type": "code",
   "execution_count": 29,
   "metadata": {
    "collapsed": false,
    "deletable": true,
    "editable": true
   },
   "outputs": [],
   "source": [
    "bart_one_df_final_arrival = sqlContext.createDataFrame(new_bart_one_arrival)\n",
    "bart_one_df_final_physical = sqlContext.createDataFrame(new_bart_one_physical)"
   ]
  },
  {
   "cell_type": "code",
   "execution_count": 30,
   "metadata": {
    "collapsed": false,
    "deletable": true,
    "editable": true
   },
   "outputs": [
    {
     "name": "stdout",
     "output_type": "stream",
     "text": [
      "+-----------------+----------+---------------+--------------------+---------+-------------+-------------------+-------------------+\n",
      "|        unix_time|      date|        sf_time|      origin_station|direction| arrival_time|minutes_til_arrival|        destination|\n",
      "+-----------------+----------+---------------+--------------------+---------+-------------+-------------------+-------------------+\n",
      "|1.488143115776E12|02/26/2017|01:05:01 PM PST|        Lake Merritt|    South|4801000000000|       900000000000|  Dublin/Pleasanton|\n",
      "|1.488143115844E12|02/26/2017|01:05:01 PM PST|    24th St. Mission|    North|4741000000000|       840000000000|  Dublin/Pleasanton|\n",
      "|1.488143115988E12|02/26/2017|01:05:01 PM PST|    24th St. Mission|    South|4681000000000|       780000000000|          Daly City|\n",
      "|1.488143116056E12|02/26/2017|01:05:01 PM PST|   Downtown Berkeley|    North|3901000000000|                  0|           Richmond|\n",
      "|1.488143116121E12|02/26/2017|01:05:01 PM PST|   Downtown Berkeley|    South|4141000000000|       240000000000|            Fremont|\n",
      "|1.488143116189E12|02/26/2017|01:05:01 PM PST|         Embarcadero|    North|4081000000000|       180000000000|  Dublin/Pleasanton|\n",
      "|1.488143116256E12|02/26/2017|01:05:01 PM PST|         Embarcadero|    South|4201000000000|       300000000000|          Daly City|\n",
      "|1.488143116324E12|02/26/2017|01:05:01 PM PST|El Cerrito del Norte|    North|4441000000000|       540000000000|           Richmond|\n",
      "|1.488143116395E12|02/26/2017|01:05:16 PM PST|El Cerrito del Norte|    South|4816000000000|       900000000000|            Fremont|\n",
      "|1.488143116467E12|02/26/2017|01:05:16 PM PST|      Montgomery St.|    North|3976000000000|        60000000000|  Dublin/Pleasanton|\n",
      "|1.488143116539E12|02/26/2017|01:05:16 PM PST|      Montgomery St.|    South|4276000000000|       360000000000|          Daly City|\n",
      "|1.488143116611E12|02/26/2017|01:05:16 PM PST|           Lafayette|    North|4276000000000|       360000000000|Pittsburg/Bay Point|\n",
      "|1.488143116683E12|02/26/2017|01:05:16 PM PST|           Lafayette|    South|4876000000000|       960000000000|       SFO/Millbrae|\n",
      "|1.488143116886E12|02/26/2017|01:05:16 PM PST|           MacArthur|    North|4756000000000|       840000000000|Pittsburg/Bay Point|\n",
      "|1.488143116953E12|02/26/2017|01:05:16 PM PST|           MacArthur|    South|4696000000000|       780000000000|            Fremont|\n",
      "|1.488143117023E12|02/26/2017|01:05:16 PM PST|           Rockridge|    North|4876000000000|       960000000000|Pittsburg/Bay Point|\n",
      "|1.488143117091E12|02/26/2017|01:05:16 PM PST|           Rockridge|    South|4276000000000|       360000000000|       SFO/Millbrae|\n",
      "| 1.48814311716E12|02/26/2017|01:05:16 PM PST|           Daly City|    North|3916000000000|                  0|  Dublin/Pleasanton|\n",
      "|1.488143117229E12|02/26/2017|01:05:16 PM PST|           Daly City|    South|4216000000000|       300000000000|       SFO/Millbrae|\n",
      "|1.488143117297E12|02/26/2017|01:05:16 PM PST|          Union City|    North|4756000000000|       840000000000|           Richmond|\n",
      "+-----------------+----------+---------------+--------------------+---------+-------------+-------------------+-------------------+\n",
      "only showing top 20 rows\n",
      "\n"
     ]
    }
   ],
   "source": [
    "bart_one_df_final_arrival.show()"
   ]
  },
  {
   "cell_type": "code",
   "execution_count": null,
   "metadata": {
    "collapsed": true,
    "deletable": true,
    "editable": true
   },
   "outputs": [],
   "source": []
  },
  {
   "cell_type": "code",
   "execution_count": null,
   "metadata": {
    "collapsed": true,
    "deletable": true,
    "editable": true
   },
   "outputs": [],
   "source": [
    "## find the next arriving trains"
   ]
  },
  {
   "cell_type": "code",
   "execution_count": 31,
   "metadata": {
    "collapsed": true,
    "deletable": true,
    "editable": true
   },
   "outputs": [],
   "source": [
    "bart_df_two = bart_df.select(\"bike_flag.1\",\n",
    "               \"color.1\",\"direction.1\",\"minutes.1\",\"time.1\",\"train_size.1\",\"unix_time.1\",\n",
    "              \"origin_station.1\",\"destination.1\",\"date.1\")"
   ]
  },
  {
   "cell_type": "code",
   "execution_count": 32,
   "metadata": {
    "collapsed": true,
    "deletable": true,
    "editable": true
   },
   "outputs": [],
   "source": [
    "pandas_bart_two = bart_df_two.toPandas()\n",
    "new_bart_two_arrival = pd.DataFrame(columns=[\"unix_time\",\"date\",\"sf_time\",\"origin_station\",\"direction\",\"destination\"\n",
    "              \"minutes_til_arrival\"])\n",
    "new_bart_two_physical = pd.DataFrame(columns=[\"unix_time\",\"date\",\"sf_time\",\"color\",\"bike_flag\",\"train_size\",\"capacity\"])"
   ]
  },
  {
   "cell_type": "code",
   "execution_count": 33,
   "metadata": {
    "collapsed": false,
    "deletable": true,
    "editable": true
   },
   "outputs": [],
   "source": [
    "new_bart_two_physical['bike_flag']=pandas_bart_two.iloc[:,0]\n",
    "new_bart_two_physical['color']=pandas_bart_two.iloc[:,1]\n",
    "new_bart_two_arrival['direction']=pandas_bart_two.iloc[:,2]\n",
    "new_bart_two_arrival['minutes_til_arrival']=pandas_bart_two.iloc[:,3]\n",
    "new_bart_two_arrival['sf_time']=pandas_bart_two.iloc[:,4]\n",
    "new_bart_two_physical['sf_time']=pandas_bart_two.iloc[:,4]\n",
    "new_bart_two_physical['train_size']=pandas_bart_two.iloc[:,5]\n",
    "new_bart_two_physical['capacity']=new_bart_two_physical['train_size']*200\n",
    "new_bart_two_arrival['unix_time']=pandas_bart_two.iloc[:,6]\n",
    "new_bart_two_physical['unix_time']=pandas_bart_two.iloc[:,6]\n",
    "new_bart_two_arrival['origin_station']=pandas_bart_two.iloc[:,7]\n",
    "new_bart_two_arrival['destination']=pandas_bart_two.iloc[:,8]\n",
    "new_bart_two_arrival['date']=pandas_bart_two.iloc[:,9]\n",
    "new_bart_two_physical['date']=pandas_bart_two.iloc[:,9]\n",
    "\n",
    "new_bart_two_arrival['minutes_til_arrival'] = new_bart_two_arrival['minutes_til_arrival'].apply(lambda x:\n",
    "                                               pd.Timedelta(x,unit='m') )"
   ]
  },
  {
   "cell_type": "code",
   "execution_count": 34,
   "metadata": {
    "collapsed": false,
    "deletable": true,
    "editable": true
   },
   "outputs": [],
   "source": [
    "new_bart_two_arrival.drop('destinationminutes_til_arrival',axis=1,inplace=True)"
   ]
  },
  {
   "cell_type": "code",
   "execution_count": 35,
   "metadata": {
    "collapsed": true,
    "deletable": true,
    "editable": true
   },
   "outputs": [],
   "source": [
    "arrival_data_bart_two = []\n",
    "for idx,row in enumerate(new_bart_two_arrival['sf_time']):\n",
    "    \n",
    "    arrival_data_bart_two.append(row+new_bart_two_arrival['minutes_til_arrival'][idx])\n",
    "new_bart_two_arrival['arrival_time']=arrival_data_bart_two"
   ]
  },
  {
   "cell_type": "code",
   "execution_count": null,
   "metadata": {
    "collapsed": true,
    "deletable": true,
    "editable": true
   },
   "outputs": [],
   "source": [
    "pd.to"
   ]
  },
  {
   "cell_type": "code",
   "execution_count": 36,
   "metadata": {
    "collapsed": false,
    "deletable": true,
    "editable": true
   },
   "outputs": [
    {
     "data": {
      "text/html": [
       "<div>\n",
       "<table border=\"1\" class=\"dataframe\">\n",
       "  <thead>\n",
       "    <tr style=\"text-align: right;\">\n",
       "      <th></th>\n",
       "      <th>unix_time</th>\n",
       "      <th>date</th>\n",
       "      <th>sf_time</th>\n",
       "      <th>origin_station</th>\n",
       "      <th>direction</th>\n",
       "      <th>minutes_til_arrival</th>\n",
       "      <th>destination</th>\n",
       "      <th>arrival_time</th>\n",
       "    </tr>\n",
       "  </thead>\n",
       "  <tbody>\n",
       "    <tr>\n",
       "      <th>0</th>\n",
       "      <td>1.488143e+12</td>\n",
       "      <td>02/26/2017</td>\n",
       "      <td>01:05:01 PM PST</td>\n",
       "      <td>Lake Merritt</td>\n",
       "      <td>South</td>\n",
       "      <td>00:35:00</td>\n",
       "      <td>Dublin/Pleasanton</td>\n",
       "      <td>01:40:01</td>\n",
       "    </tr>\n",
       "    <tr>\n",
       "      <th>1</th>\n",
       "      <td>1.488143e+12</td>\n",
       "      <td>02/26/2017</td>\n",
       "      <td>01:05:01 PM PST</td>\n",
       "      <td>24th St. Mission</td>\n",
       "      <td>North</td>\n",
       "      <td>00:34:00</td>\n",
       "      <td>Dublin/Pleasanton</td>\n",
       "      <td>01:39:01</td>\n",
       "    </tr>\n",
       "    <tr>\n",
       "      <th>2</th>\n",
       "      <td>1.488143e+12</td>\n",
       "      <td>02/26/2017</td>\n",
       "      <td>01:05:01 PM PST</td>\n",
       "      <td>24th St. Mission</td>\n",
       "      <td>South</td>\n",
       "      <td>00:30:00</td>\n",
       "      <td>Daly City</td>\n",
       "      <td>01:35:01</td>\n",
       "    </tr>\n",
       "    <tr>\n",
       "      <th>3</th>\n",
       "      <td>1.488143e+12</td>\n",
       "      <td>02/26/2017</td>\n",
       "      <td>01:05:01 PM PST</td>\n",
       "      <td>Downtown Berkeley</td>\n",
       "      <td>North</td>\n",
       "      <td>00:19:00</td>\n",
       "      <td>Richmond</td>\n",
       "      <td>01:24:01</td>\n",
       "    </tr>\n",
       "    <tr>\n",
       "      <th>4</th>\n",
       "      <td>1.488143e+12</td>\n",
       "      <td>02/26/2017</td>\n",
       "      <td>01:05:01 PM PST</td>\n",
       "      <td>Downtown Berkeley</td>\n",
       "      <td>South</td>\n",
       "      <td>00:24:00</td>\n",
       "      <td>Fremont</td>\n",
       "      <td>01:29:01</td>\n",
       "    </tr>\n",
       "  </tbody>\n",
       "</table>\n",
       "</div>"
      ],
      "text/plain": [
       "      unix_time        date          sf_time     origin_station direction  \\\n",
       "0  1.488143e+12  02/26/2017  01:05:01 PM PST       Lake Merritt     South   \n",
       "1  1.488143e+12  02/26/2017  01:05:01 PM PST   24th St. Mission     North   \n",
       "2  1.488143e+12  02/26/2017  01:05:01 PM PST   24th St. Mission     South   \n",
       "3  1.488143e+12  02/26/2017  01:05:01 PM PST  Downtown Berkeley     North   \n",
       "4  1.488143e+12  02/26/2017  01:05:01 PM PST  Downtown Berkeley     South   \n",
       "\n",
       "   minutes_til_arrival        destination  arrival_time  \n",
       "0             00:35:00  Dublin/Pleasanton      01:40:01  \n",
       "1             00:34:00  Dublin/Pleasanton      01:39:01  \n",
       "2             00:30:00          Daly City      01:35:01  \n",
       "3             00:19:00           Richmond      01:24:01  \n",
       "4             00:24:00            Fremont      01:29:01  "
      ]
     },
     "execution_count": 36,
     "metadata": {},
     "output_type": "execute_result"
    }
   ],
   "source": [
    "new_bart_two_arrival.head()"
   ]
  },
  {
   "cell_type": "code",
   "execution_count": 37,
   "metadata": {
    "collapsed": true,
    "deletable": true,
    "editable": true
   },
   "outputs": [],
   "source": [
    "new_bart_two_physical.dropna(inplace=True)\n",
    "new_bart_two_arrival.dropna(inplace=True)"
   ]
  },
  {
   "cell_type": "code",
   "execution_count": 38,
   "metadata": {
    "collapsed": false,
    "deletable": true,
    "editable": true
   },
   "outputs": [],
   "source": [
    "bart_two_df_final_arrival = sqlContext.createDataFrame(new_bart_two_arrival)"
   ]
  },
  {
   "cell_type": "code",
   "execution_count": 39,
   "metadata": {
    "collapsed": false,
    "deletable": true,
    "editable": true
   },
   "outputs": [
    {
     "name": "stdout",
     "output_type": "stream",
     "text": [
      "+-----------------+----------+---------------+------+---------+----------+--------+\n",
      "|        unix_time|      date|        sf_time| color|bike_flag|train_size|capacity|\n",
      "+-----------------+----------+---------------+------+---------+----------+--------+\n",
      "|1.488143115776E12|02/26/2017|01:05:01 PM PST|  BLUE|        1|       9.0|  1800.0|\n",
      "|1.488143115844E12|02/26/2017|01:05:01 PM PST|  BLUE|        1|       9.0|  1800.0|\n",
      "|1.488143115988E12|02/26/2017|01:05:01 PM PST|  BLUE|        1|       8.0|  1600.0|\n",
      "|1.488143116056E12|02/26/2017|01:05:01 PM PST|ORANGE|        1|       6.0|  1200.0|\n",
      "|1.488143116121E12|02/26/2017|01:05:01 PM PST|ORANGE|        1|       6.0|  1200.0|\n",
      "|1.488143116189E12|02/26/2017|01:05:01 PM PST|  BLUE|        1|       9.0|  1800.0|\n",
      "|1.488143116256E12|02/26/2017|01:05:01 PM PST|  BLUE|        1|       8.0|  1600.0|\n",
      "|1.488143116324E12|02/26/2017|01:05:01 PM PST|ORANGE|        1|       6.0|  1200.0|\n",
      "|1.488143116395E12|02/26/2017|01:05:16 PM PST|ORANGE|        1|       6.0|  1200.0|\n",
      "|1.488143116467E12|02/26/2017|01:05:16 PM PST|  BLUE|        1|       9.0|  1800.0|\n",
      "|1.488143116539E12|02/26/2017|01:05:16 PM PST|  BLUE|        1|       8.0|  1600.0|\n",
      "|1.488143116611E12|02/26/2017|01:05:16 PM PST|YELLOW|        1|      10.0|  2000.0|\n",
      "|1.488143116683E12|02/26/2017|01:05:16 PM PST|YELLOW|        1|       9.0|  1800.0|\n",
      "|1.488143116886E12|02/26/2017|01:05:16 PM PST|YELLOW|        1|      10.0|  2000.0|\n",
      "|1.488143116953E12|02/26/2017|01:05:16 PM PST|ORANGE|        1|       6.0|  1200.0|\n",
      "|1.488143117023E12|02/26/2017|01:05:16 PM PST|YELLOW|        1|      10.0|  2000.0|\n",
      "|1.488143117091E12|02/26/2017|01:05:16 PM PST|YELLOW|        1|      10.0|  2000.0|\n",
      "| 1.48814311716E12|02/26/2017|01:05:16 PM PST|  BLUE|        1|       9.0|  1800.0|\n",
      "|1.488143117229E12|02/26/2017|01:05:16 PM PST|YELLOW|        1|      10.0|  2000.0|\n",
      "|1.488143117297E12|02/26/2017|01:05:16 PM PST|ORANGE|        1|       6.0|  1200.0|\n",
      "+-----------------+----------+---------------+------+---------+----------+--------+\n",
      "only showing top 20 rows\n",
      "\n"
     ]
    }
   ],
   "source": [
    "bart_two_df_final_physical = sqlContext.createDataFrame(new_bart_two_physical)\n",
    "bart_two_df_final_physical.show()"
   ]
  },
  {
   "cell_type": "code",
   "execution_count": 40,
   "metadata": {
    "collapsed": false,
    "deletable": true,
    "editable": true
   },
   "outputs": [
    {
     "name": "stdout",
     "output_type": "stream",
     "text": [
      "+-----------------+----------+---------------+--------------------+---------+-------------------+-------------------+-------------+\n",
      "|        unix_time|      date|        sf_time|      origin_station|direction|minutes_til_arrival|        destination| arrival_time|\n",
      "+-----------------+----------+---------------+--------------------+---------+-------------------+-------------------+-------------+\n",
      "|1.488143115776E12|02/26/2017|01:05:01 PM PST|        Lake Merritt|    South|      2100000000000|  Dublin/Pleasanton|6001000000000|\n",
      "|1.488143115844E12|02/26/2017|01:05:01 PM PST|    24th St. Mission|    North|      2040000000000|  Dublin/Pleasanton|5941000000000|\n",
      "|1.488143115988E12|02/26/2017|01:05:01 PM PST|    24th St. Mission|    South|      1800000000000|          Daly City|5701000000000|\n",
      "|1.488143116056E12|02/26/2017|01:05:01 PM PST|   Downtown Berkeley|    North|      1140000000000|           Richmond|5041000000000|\n",
      "|1.488143116121E12|02/26/2017|01:05:01 PM PST|   Downtown Berkeley|    South|      1440000000000|            Fremont|5341000000000|\n",
      "|1.488143116189E12|02/26/2017|01:05:01 PM PST|         Embarcadero|    North|      1380000000000|  Dublin/Pleasanton|5281000000000|\n",
      "|1.488143116256E12|02/26/2017|01:05:01 PM PST|         Embarcadero|    South|      1320000000000|          Daly City|5221000000000|\n",
      "|1.488143116324E12|02/26/2017|01:05:01 PM PST|El Cerrito del Norte|    North|      1620000000000|           Richmond|5521000000000|\n",
      "|1.488143116395E12|02/26/2017|01:05:16 PM PST|El Cerrito del Norte|    South|      2100000000000|            Fremont|6016000000000|\n",
      "|1.488143116467E12|02/26/2017|01:05:16 PM PST|      Montgomery St.|    North|      1260000000000|  Dublin/Pleasanton|5176000000000|\n",
      "|1.488143116539E12|02/26/2017|01:05:16 PM PST|      Montgomery St.|    South|      1380000000000|          Daly City|5296000000000|\n",
      "|1.488143116611E12|02/26/2017|01:05:16 PM PST|           Lafayette|    North|      1560000000000|Pittsburg/Bay Point|5476000000000|\n",
      "|1.488143116683E12|02/26/2017|01:05:16 PM PST|           Lafayette|    South|      2160000000000|       SFO/Millbrae|6076000000000|\n",
      "|1.488143116886E12|02/26/2017|01:05:16 PM PST|           MacArthur|    North|      2040000000000|Pittsburg/Bay Point|5956000000000|\n",
      "|1.488143116953E12|02/26/2017|01:05:16 PM PST|           MacArthur|    South|      1980000000000|            Fremont|5896000000000|\n",
      "|1.488143117023E12|02/26/2017|01:05:16 PM PST|           Rockridge|    North|      2160000000000|Pittsburg/Bay Point|6076000000000|\n",
      "|1.488143117091E12|02/26/2017|01:05:16 PM PST|           Rockridge|    South|      1560000000000|       SFO/Millbrae|5476000000000|\n",
      "| 1.48814311716E12|02/26/2017|01:05:16 PM PST|           Daly City|    North|      1500000000000|  Dublin/Pleasanton|5416000000000|\n",
      "|1.488143117229E12|02/26/2017|01:05:16 PM PST|           Daly City|    South|      1500000000000|       SFO/Millbrae|5416000000000|\n",
      "|1.488143117297E12|02/26/2017|01:05:16 PM PST|          Union City|    North|      2040000000000|           Richmond|5956000000000|\n",
      "+-----------------+----------+---------------+--------------------+---------+-------------------+-------------------+-------------+\n",
      "only showing top 20 rows\n",
      "\n"
     ]
    }
   ],
   "source": [
    "bart_two_df_final_arrival.show()"
   ]
  },
  {
   "cell_type": "code",
   "execution_count": 45,
   "metadata": {
    "collapsed": false,
    "deletable": true,
    "editable": true
   },
   "outputs": [],
   "source": [
    "bart_one_df_final_arrival.write.save(\"s3a://normalized-data-weather-bart/bart-one-arrival{}\".format(KeyFileName),\n",
    "                                     format=\"csv\")"
   ]
  },
  {
   "cell_type": "code",
   "execution_count": 46,
   "metadata": {
    "collapsed": false,
    "deletable": true,
    "editable": true
   },
   "outputs": [],
   "source": [
    "bart_one_df_final_physical.write.save(\"s3a://normalized-data-weather-bart/bart-one-physical{}\".format(KeyFileName),\n",
    "                                      format=\"csv\")"
   ]
  },
  {
   "cell_type": "code",
   "execution_count": 47,
   "metadata": {
    "collapsed": true,
    "deletable": true,
    "editable": true
   },
   "outputs": [],
   "source": [
    "bart_two_df_final_arrival.write.save(\"s3a://normalized-data-weather-bart/bart-two-arrival{}\".format(KeyFileName),\n",
    "                                     format=\"csv\")\n",
    "bart_two_df_final_physical.write.save(\"s3a://normalized-data-weather-bart/bart-two-physical{}\".format(KeyFileName),\n",
    "                                      format=\"csv\")"
   ]
  },
  {
   "cell_type": "code",
   "execution_count": null,
   "metadata": {
    "collapsed": true,
    "deletable": true,
    "editable": true
   },
   "outputs": [],
   "source": []
  }
 ],
 "metadata": {
  "kernelspec": {
   "display_name": "Python 2",
   "language": "python",
   "name": "python2"
  },
  "language_info": {
   "codemirror_mode": {
    "name": "ipython",
    "version": 2
   },
   "file_extension": ".py",
   "mimetype": "text/x-python",
   "name": "python",
   "nbconvert_exporter": "python",
   "pygments_lexer": "ipython2",
   "version": "2.7.12"
  }
 },
 "nbformat": 4,
 "nbformat_minor": 2
}
