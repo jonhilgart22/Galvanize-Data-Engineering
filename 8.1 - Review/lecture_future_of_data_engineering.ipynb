{
 "cells": [
  {
   "cell_type": "markdown",
   "metadata": {
    "nbpresent": {
     "id": "4f2a1da9-1fff-4c2f-bf5c-c4130f51813c"
    }
   },
   "source": [
    "----\n",
    "Data Engineering Wrapup\n",
    "====\n",
    "\n",
    "<img src=\"https://s3.amazonaws.com/external_clips/attachments/35309/original/data-scientist-vs-data-engineer.jpg?1417662433\" style=\"width: 400px;\"/>"
   ]
  },
  {
   "cell_type": "markdown",
   "metadata": {
    "nbpresent": {
     "id": "de1af012-c473-4310-803e-7ffb9bfabaa8"
    }
   },
   "source": [
    "---\n",
    "Course Reflection\n",
    "---"
   ]
  },
  {
   "cell_type": "markdown",
   "metadata": {
    "nbpresent": {
     "id": "9a4cdf3b-5705-4d57-95c6-352e792d3bbe"
    }
   },
   "source": [
    "### Student Questions\n",
    "\n",
    "- Your definition of data engineering\n",
    "- Your metaphor for data engineerring\n",
    "- Your definition of Big Data"
   ]
  },
  {
   "cell_type": "markdown",
   "metadata": {
    "nbpresent": {
     "id": "2b611bb0-3cd3-4265-be5d-8a2945297eed"
    }
   },
   "source": [
    "---\n",
    "Go back to Day 1\n",
    "--\n",
    "\n",
    "[Day 1 Notebook](https://github.com/zipfian/DSCI6007-student/blob/master/week1/1_1_course_overview_sql_fundamentals/lecture_intro_to_data_engineering.ipynb)\n",
    "\n",
    "Let's compare to 1st day of class. Search your email.\n",
    "\n",
    "### Share reflections"
   ]
  },
  {
   "cell_type": "markdown",
   "metadata": {
    "nbpresent": {
     "id": "9a7e0dc5-3f60-4a4d-8ab5-ccf82a3ddeb4"
    }
   },
   "source": [
    "---\n",
    "Data Engineering Topics Not Covered in 6007\n",
    "---\n",
    "\n",
    "- Data Warehousing\n",
    "    - Star Schema\n",
    "    - OLTP vs OLAP\n",
    "    - Data Lake\n",
    "    - ETL\n",
    "- Data pipelines\n",
    "    - Lugi\n",
    "    - Airflow\n",
    "- DevOps\n",
    "    - Deployment \n",
    "    - Monitoring \n",
    "    - Auto-scaling\n",
    "    - Sharding\n",
    "    - Orchestration (e.g., Airflow)\n",
    "- Advanced programming and scripting\n",
    "    - Consensus algorithms (e.g., Paxos)\n",
    "    - Java & Scala\n",
    "- Technologies\n",
    "    - Caching (e.g., Redis)\n",
    "    - Mesos\n",
    "    - FlinkML the \"Spark Killer\""
   ]
  },
  {
   "cell_type": "markdown",
   "metadata": {
    "nbpresent": {
     "id": "be0260a6-d1ef-4e9c-aa70-d859f5e07035"
    }
   },
   "source": [
    "---\n",
    "The Future of Data Engineering\n",
    "---"
   ]
  },
  {
   "cell_type": "markdown",
   "metadata": {
    "nbpresent": {
     "id": "4709b71f-9025-4cb8-abf0-01dc17289544"
    }
   },
   "source": [
    "Brian's Quesses\n",
    "-----\n",
    "\n",
    "1. Data Engineering will get simplier \n",
    "2. There will be a \"killer\" streaming solution\n",
    "3. Bet on Memory\n",
    "4. Rise of atoms"
   ]
  },
  {
   "cell_type": "markdown",
   "metadata": {
    "nbpresent": {
     "id": "432d77e7-8698-4952-9a8b-2e4f53b7ba44"
    }
   },
   "source": [
    "---\n",
    "Data Engineering will get simplier\n",
    "----"
   ]
  },
  {
   "cell_type": "markdown",
   "metadata": {
    "nbpresent": {
     "id": "1404c3ab-6997-4265-bc1e-114a9004453d"
    }
   },
   "source": [
    "<img src=\"images/analysis.jpg\" style=\"width: 400px;\"/>"
   ]
  },
  {
   "cell_type": "markdown",
   "metadata": {
    "nbpresent": {
     "id": "38d010ca-908e-4527-ab22-0c5e0eec43fe"
    }
   },
   "source": [
    "<img src=\"images/big_data_design_pattern.png\" style=\"width: 400px;\"/>"
   ]
  },
  {
   "cell_type": "markdown",
   "metadata": {
    "nbpresent": {
     "id": "18011d59-f7f3-4216-b2ce-a503aa9cf416"
    }
   },
   "source": [
    "<img src=\"images/pattern.png\" style=\"width: 400px;\"/>"
   ]
  },
  {
   "cell_type": "markdown",
   "metadata": {
    "nbpresent": {
     "id": "633d29b6-8671-4056-8a13-6120a44e510b"
    }
   },
   "source": [
    "---\n",
    "ETL sux!\n",
    "--\n",
    "\n",
    "ETL is out of date\n",
    "\n",
    "CTP: “Consume, Transform, Produce” "
   ]
  },
  {
   "cell_type": "markdown",
   "metadata": {
    "nbpresent": {
     "id": "489a9f52-0157-42ca-a238-06b87cc628fd"
    }
   },
   "source": [
    "<img src=\"images/issues.png\" style=\"width: 400px;\"/>"
   ]
  },
  {
   "cell_type": "markdown",
   "metadata": {
    "nbpresent": {
     "id": "df874a97-ab5f-4270-9840-f9efbcbfa321"
    }
   },
   "source": [
    "---\n",
    "Landscape will get more complicated\n",
    "---\n",
    "\n",
    "<img src=\"http://mattturck.com/wp-content/uploads/2016/01/matt_turck_big_data_landscape_full.png\" style=\"width: 400px;\"/>"
   ]
  },
  {
   "cell_type": "markdown",
   "metadata": {
    "nbpresent": {
     "id": "6d98c280-d061-4e30-9dfb-7e2aeadaad35"
    }
   },
   "source": [
    "---\n",
    "The landscape will continue to evolve\n",
    "---"
   ]
  },
  {
   "cell_type": "markdown",
   "metadata": {
    "nbpresent": {
     "id": "3f58fb2b-3fdf-4c09-be65-5745d6e45cfc"
    }
   },
   "source": [
    "<img src=\"images/innovation.jpg\" style=\"width: 400px;\"/>"
   ]
  },
  {
   "cell_type": "markdown",
   "metadata": {
    "nbpresent": {
     "id": "43cb7b4c-11e8-4194-8225-7950fb33627e"
    }
   },
   "source": [
    "---\n",
    "Bet on Memory\n",
    "---"
   ]
  },
  {
   "cell_type": "markdown",
   "metadata": {
    "nbpresent": {
     "id": "b0f8a4e6-23d1-43e8-ae30-c004cc3a0146"
    }
   },
   "source": [
    "<img src=\"images/memory.png\" style=\"width: 400px;\"/>"
   ]
  },
  {
   "cell_type": "markdown",
   "metadata": {
    "nbpresent": {
     "id": "75efc2b1-e6f5-4d94-80c2-9a2731227619"
    }
   },
   "source": [
    "### Bet on Spark\n",
    "\n",
    "__2.0 FTW!__\n",
    "\n",
    "1. Embrace Dataset/ Dataframe API over RDD API\n",
    "2. Structured Stream processing\n",
    "3. Dataset is the new single abstraction\n",
    "4. Performance improvements\n",
    "\n",
    "[Source](http://blog.madhukaraphatak.com/introduction-to-spark-2.0/)"
   ]
  },
  {
   "cell_type": "markdown",
   "metadata": {
    "nbpresent": {
     "id": "3ececa51-2596-412c-8ad9-af89feedd0bc"
    }
   },
   "source": [
    "Elements of scale: composing and scaling data platforms\n",
    "------\n",
    "\n",
    "<img src=\"http://www.azquotes.com/picture-quotes/quote-i-tend-to-approach-things-from-a-physics-framework-and-physics-teaches-you-to-reason-elon-musk-21-0-095.jpg\" style=\"width: 400px;\"/>\n",
    "\n",
    "[video](https://vimeo.com/144809340)  \n",
    "[blog post](http://www.benstopford.com/2015/04/28/elements-of-scale-composing-and-scaling-data-platforms/)"
   ]
  },
  {
   "cell_type": "markdown",
   "metadata": {
    "nbpresent": {
     "id": "65b291e8-adbd-48f1-a1b9-903883958888"
    }
   },
   "source": [
    "---\n",
    "\"Big Data\" has no value\n",
    "---"
   ]
  },
  {
   "cell_type": "markdown",
   "metadata": {
    "nbpresent": {
     "id": "9b3a5a9a-4dc1-440d-b980-401e98882a3a"
    }
   },
   "source": [
    "<img src=\"images/big data copy.jpg\" style=\"width: 400px;\"/>"
   ]
  },
  {
   "cell_type": "markdown",
   "metadata": {
    "nbpresent": {
     "id": "04fe72f8-4c78-45f6-a0d5-e8c2bfcecdac"
    }
   },
   "source": [
    "<img src=\"images/wisdom.jpg\" style=\"width: 400px;\"/>"
   ]
  },
  {
   "cell_type": "markdown",
   "metadata": {
    "nbpresent": {
     "id": "44e46481-321c-4024-8208-3b09f1526151"
    }
   },
   "source": [
    "---\n",
    "Make useful stuff\n",
    "---"
   ]
  },
  {
   "cell_type": "markdown",
   "metadata": {
    "nbpresent": {
     "id": "ab92032f-7b23-4f07-9931-8408c86ee091"
    }
   },
   "source": [
    "<img src=\"images/data do something.png\" style=\"width: 400px;\"/>"
   ]
  },
  {
   "cell_type": "markdown",
   "metadata": {
    "nbpresent": {
     "id": "59b03a07-a872-453a-b531-437b25dbcf7f"
    }
   },
   "source": [
    "<img src=\"images/tools.png\" style=\"width: 400px;\"/>"
   ]
  },
  {
   "cell_type": "markdown",
   "metadata": {
    "nbpresent": {
     "id": "0f015f97-b286-48c3-8c05-1878dd4b3618"
    }
   },
   "source": [
    "### We don't need another Python web framework"
   ]
  },
  {
   "cell_type": "markdown",
   "metadata": {
    "nbpresent": {
     "id": "7d85ee72-8e06-4686-8544-95161a91b8e9"
    }
   },
   "source": [
    "---\n",
    "atoms > bits\n",
    "----"
   ]
  },
  {
   "cell_type": "markdown",
   "metadata": {
    "nbpresent": {
     "id": "9219d5f7-89f1-4db3-bf8d-bced018e38d9"
    }
   },
   "source": [
    "__Andy Rubin__\n",
    "\n",
    "<img src=\"http://www.wired.com/wp-content/uploads/2016/02/playground_andy_rubin1.jpg\" style=\"width: 400px;\"/>\n",
    "\n",
    "Created Andriod (general purpose OS for phones), now is creating a general purpose OS for robots\n",
    "\n",
    "[Read more here](http://www.wired.com/2016/02/android-inventor-andy-rubin-playground-artificial-intelligence/)"
   ]
  },
  {
   "cell_type": "markdown",
   "metadata": {
    "nbpresent": {
     "id": "b2a44a64-eae9-4ecd-ac7c-95aaee8d016c"
    }
   },
   "source": [
    "<br>\n",
    "<br>\n",
    "<br>\n",
    "----"
   ]
  },
  {
   "cell_type": "markdown",
   "metadata": {
    "nbpresent": {
     "id": "845c87e1-799c-4ecc-b157-010770a6f860"
    }
   },
   "source": [
    "### You are going to use (possibly make) the future of data engineering. \n",
    "\n",
    "### What do you think it will be?\n",
    "\n",
    "<br>\n",
    "<br> \n",
    "<br>\n",
    "\n",
    "----"
   ]
  }
 ],
 "metadata": {
  "anaconda-cloud": {},
  "kernelspec": {
   "display_name": "Python [default]",
   "language": "python",
   "name": "python2"
  },
  "language_info": {
   "codemirror_mode": {
    "name": "ipython",
    "version": 2
   },
   "file_extension": ".py",
   "mimetype": "text/x-python",
   "name": "python",
   "nbconvert_exporter": "python",
   "pygments_lexer": "ipython2",
   "version": "2.7.12"
  },
  "nbpresent": {
   "slides": {
    "51bed16f-52bf-41dc-b0eb-02345579a941": {
     "id": "51bed16f-52bf-41dc-b0eb-02345579a941",
     "prev": null,
     "regions": {
      "c455eb35-71d8-4a46-9c8c-628a0b065e91": {
       "attrs": {
        "height": 1,
        "width": 1,
        "x": 0,
        "y": 0
       },
       "id": "c455eb35-71d8-4a46-9c8c-628a0b065e91"
      }
     }
    }
   },
   "themes": {}
  }
 },
 "nbformat": 4,
 "nbformat_minor": 0
}
