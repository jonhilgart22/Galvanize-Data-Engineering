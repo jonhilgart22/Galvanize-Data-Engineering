{
 "cells": [
  {
   "cell_type": "markdown",
   "metadata": {},
   "source": [
    "---\n",
    "Review\n",
    "----\n",
    "\n",
    "<img src=\"http://www.bigdata-madesimple.com/wp-content/uploads/2015/01/bigdata-knows-everything.jpg\" style=\"width: 400px;\"/>"
   ]
  },
  {
   "cell_type": "markdown",
   "metadata": {},
   "source": [
    "---\n",
    "By the end of this session, you should be able to:\n",
    "----\n",
    "\n",
    "- Explain all the concepts we have covered so far in Plain English\n",
    "- Identify the function of Big Data components in real-world architectures\n",
    "- List the most important themes so far\n",
    "- Apply discernment when relational modeling "
   ]
  },
  {
   "cell_type": "markdown",
   "metadata": {},
   "source": [
    "---\n",
    "Data Engineering Map\n",
    "----\n",
    "\n",
    "<img src=\"images/data_pipeline_map.png\" style=\"width: 400px;\"/>\n",
    "\n",
    "[Source](http://insightdataengineering.com/blog/pipeline_map.html)"
   ]
  },
  {
   "cell_type": "markdown",
   "metadata": {
    "collapsed": true
   },
   "source": [
    "---\n",
    "Real-life Architectures\n",
    "----"
   ]
  },
  {
   "cell_type": "markdown",
   "metadata": {
    "collapsed": true
   },
   "source": [
    "### Oldy but Goodie\n",
    "\n",
    "![](http://2.bp.blogspot.com/-S0Vi81DUQRI/UVOROqs4JGI/AAAAAAAAAZg/Io2MRCNUfgs/s1600/MachineLearningArchitecture-v3.png)\n",
    "\n",
    "[Source](http://techblog.netflix.com/2013/03/system-architectures-for.html)"
   ]
  },
  {
   "cell_type": "markdown",
   "metadata": {
    "collapsed": false
   },
   "source": [
    "----\n",
    "\n",
    "### [architecture circa 2013](http://www.slideshare.net/JeffMagnusson/qcon-sf-netflix-hadoop-platform-as-a-service)"
   ]
  },
  {
   "cell_type": "markdown",
   "metadata": {
    "collapsed": true
   },
   "source": [
    "---\n",
    "New & Shiny\n",
    "---\n",
    "\n",
    "![](http://4.bp.blogspot.com/-p6tepE4NgaM/VP9pyzNQ19I/AAAAAAAAAmw/--fXvtJluAE/s1600/Screen%2BShot%2B2015-03-10%2Bat%2B3.01.34%2BPM.png)\n",
    "\n",
    "http://techblog.netflix.com/2015/03/can-spark-streaming-survive-chaos-monkey.html\n",
    "\n",
    "[Complete Netflix Tech Stack](http://highscalability.com/blog/2015/11/9/a-360-degree-view-of-the-entire-netflix-stack.html)\n",
    "\n",
    "---\n",
    "Move to Streaming\n",
    "----\n",
    "\n",
    "<img src=\"images/netflix_2016.png\" style=\"width: 400px;\"/>\n",
    "\n",
    "[Source](https://www.youtube.com/watch?list=PLGeM09tlguZQ3ouijqG4r1YIIZYxCKsLp&v=hTfIAWhd3qI)\n",
    "\n",
    "600 Billion events every day!\n",
    "40 PB of data in data warehouse\n",
    "\n",
    "---\n",
    "Data Engineering supporting Data Science\n",
    "---\n",
    "\n",
    "![](http://4.bp.blogspot.com/-1kayZmhTWGY/VNzXRqCLx0I/AAAAAAAAAjM/cKh3bp4kMGk/s1600/Image5.png)\n",
    "http://techblog.netflix.com/2015/02/whats-trending-on-netflix.html"
   ]
  },
  {
   "cell_type": "markdown",
   "metadata": {},
   "source": [
    "---\n",
    "What 3 tools/concepts learned thus far should we remember and/or master?\n",
    "----\n",
    "\n",
    "Break into small groups.\n",
    "\n",
    "Create a list and logic for your choices.\n",
    "\n",
    "You have 7 minutes."
   ]
  },
  {
   "cell_type": "markdown",
   "metadata": {},
   "source": [
    "<br>\n",
    "<br> \n",
    "<br>\n",
    "\n",
    "----"
   ]
  },
  {
   "cell_type": "markdown",
   "metadata": {},
   "source": [
    "---\n",
    "Brian's List\n",
    "----\n",
    "\n",
    "### 1) Distrbuted Computing is hard. Don't think you really understand it.\n",
    "\n",
    "<img src=\"http://www.climbstrong.com/custom/3%20stages%20of%20expertise.jpg\" style=\"width: 400px;\"/>\n",
    "\n",
    "### 2) Frameworks are the way to go.\n",
    "\n",
    "<img src=\"http://www.ukhempcrete.com/wp-content/uploads/2015/04/churchill_4.png\" style=\"width: 400px;\"/>\n",
    "\n",
    "### 3) Balance \"Tried & True\" with \"Shiny & New\"\n",
    "__Must haves__:\n",
    "\n",
    "- SQL\n",
    "- Linux\n",
    "\n",
    "The rest of the tools are getting out of date as I speak.\n",
    "\n",
    "> In Data Engineering, there are 2 ways of doing things...\n",
    ">\n",
    ">1. The way that is deprecated.\n",
    ">\n",
    "> 2. The way that doesn't work yet.\n"
   ]
  },
  {
   "cell_type": "markdown",
   "metadata": {},
   "source": [
    "---\n",
    "Why is it important to normalize a relational database? \n",
    "---\n",
    "\n",
    "<img src=\"https://upload.wikimedia.org/wikipedia/commons/7/75/NormalFormDiagram.png\" style=\"width: 400px;\"/>\n",
    "\n",
    "> The normalization rules are designed to prevent update anomalies and data inconsistencies. \n",
    "\n",
    ">With respect to performance tradeoffs, these guidelines are biased toward the assumption that all non-key fields will be updated frequently. They tend to penalize retrieval, since data which may have been retrievable from one record in an unnormalized design may have to be retrieved from several records in the normalized form. \n",
    "\n",
    "> There is no obligation to fully normalize all records when actual performance requirements are taken into account.\n",
    "\n",
    "[Source](https://en.wikipedia.org/wiki/Database_normalization)\n",
    "\n",
    "[There are more ways to normalize!](http://www.bkent.net/Doc/simple5.htm)\n"
   ]
  },
  {
   "cell_type": "markdown",
   "metadata": {},
   "source": [
    "### Remember:\n",
    "Relational forms can kinda suck for SQL quering"
   ]
  },
  {
   "cell_type": "markdown",
   "metadata": {},
   "source": [
    "---\n",
    "Check for understanding\n",
    "---\n",
    "\n",
    "<details><summary>\n",
    "Are the relational forms just for space efficiency?\n",
    "</summary>\n",
    "No. It is sometimes takes up more room for appropriate relational modeling. \n",
    "</details>"
   ]
  },
  {
   "cell_type": "markdown",
   "metadata": {},
   "source": [
    "---\n",
    "Elastic MapReduce (EMR)\n",
    "----\n",
    "\n",
    "<img src=\"https://conceptdraw.com/a1765c3/p11/preview/640/pict--amazon-elastic-mapreduce-aws-simple-icons-v2.0-vector-stencils-library\" style=\"width: 400px;\"/>"
   ]
  },
  {
   "cell_type": "markdown",
   "metadata": {},
   "source": [
    "----\n",
    "3 ways to launch a EMR cluster (or use any AWS service)\n",
    "----\n",
    "\n",
    "1. GUI web console\n",
    "2. aws cli\n",
    "3. Framework (e.g., mrjob)\n",
    "\n",
    "[Source](http://docs.aws.amazon.com/ElasticMapReduce/latest/DeveloperGuide/gsg-launch-cluster.html)"
   ]
  },
  {
   "cell_type": "markdown",
   "metadata": {
    "collapsed": true
   },
   "source": [
    "1. GUI Web Console\n",
    "------\n",
    "\n",
    "<img src=\"images/emr.png\" style=\"width: 400px;\"/>\n",
    "\n",
    "Goto [console](https://console.aws.amazon.com/console/home)"
   ]
  },
  {
   "cell_type": "markdown",
   "metadata": {},
   "source": [
    "2. aws cli\n",
    "----\n",
    "\n",
    "[RTFM](https://aws.amazon.com/cli/)"
   ]
  },
  {
   "cell_type": "code",
   "execution_count": 13,
   "metadata": {
    "collapsed": false
   },
   "outputs": [],
   "source": [
    "# ! aws help"
   ]
  },
  {
   "cell_type": "code",
   "execution_count": 14,
   "metadata": {
    "collapsed": false
   },
   "outputs": [],
   "source": [
    "# ! aws ec2 help"
   ]
  },
  {
   "cell_type": "markdown",
   "metadata": {},
   "source": [
    "3. Use a framework\n",
    "----\n",
    "\n",
    "[mrjob can deploy to aws emr](https://pythonhosted.org/mrjob/guides/emr-quickstart.html)\n",
    "\n",
    "[Step-by-step guide](https://zonca.github.io/2013/09/run-hadoop-python-jobs-on-amazon-with-mrjob.html)"
   ]
  },
  {
   "cell_type": "markdown",
   "metadata": {},
   "source": [
    "<br>\n",
    "<br> \n",
    "<br>\n",
    "\n",
    "---\n",
    "Review Questions\n",
    "---"
   ]
  },
  {
   "cell_type": "markdown",
   "metadata": {},
   "source": [
    "<br>\n",
    "<details><summary>\n",
    "How do you set up a Hadoop cluster without autobuilding one on AWS?\n",
    "</summary>\n",
    "__You don't__\n",
    "<br>\n",
    "You hire someone!\n",
    "</details>"
   ]
  },
  {
   "cell_type": "markdown",
   "metadata": {},
   "source": [
    "----\n",
    "\n",
    "<details><summary>\n",
    "True, False, or Null: <br>\n",
    "<br>\n",
    "- Linux is open source <br>\n",
    "- GitHub is open source <br>\n",
    "- AWS is open source <br>\n",
    "- Docker is open source <br>\n",
    "</summary>\n",
    "<br>\n",
    "<br>\n",
    "- Linux is open source. __True__<br>\n",
    "- GitHub is open source. __False__ <br>\n",
    "- AWS is open source. __False__ <br>\n",
    "- Docker is open source. __True__ <br>\n",
    "<br>\n",
    "</details>"
   ]
  },
  {
   "cell_type": "markdown",
   "metadata": {},
   "source": [
    "---\n",
    "\n",
    "<details><summary>\n",
    "What are containers?\n",
    "</summary>\n",
    "Light weight Virtual Machines (VMs). <br>\n",
    "<br>\n",
    "Let someone else manage the base OS image and not worry about lower-level sysadmin details of keeping the system up-to-date.\n",
    "</details>"
   ]
  },
  {
   "cell_type": "markdown",
   "metadata": {
    "collapsed": true
   },
   "source": [
    "---\n",
    "\n",
    "<details><summary>\n",
    "What is the best container framework?\n",
    "</summary>\n",
    "Docker\n",
    "</details>"
   ]
  },
  {
   "cell_type": "markdown",
   "metadata": {},
   "source": [
    "---\n",
    "\n",
    "<details><summary>\n",
    "What is commodity-class hardware? Why is it important for data?\n",
    "</summary>\n",
    "Interchangeable, therefore cheap, nodes for distrubted systems. <br>\n",
    "<br>\n",
    "These are in contrast to high-cost supercomputers (aka, High Performance Computing (HPC) or boutique computers (e.g., quantum computers)\n",
    "</details>"
   ]
  },
  {
   "cell_type": "markdown",
   "metadata": {},
   "source": [
    "----\n",
    "\n",
    "<details><summary>\n",
    "There is no cloud. It's just `_________`.\n",
    "</summary>\n",
    "someone else's computer\n",
    "</details>"
   ]
  },
  {
   "cell_type": "markdown",
   "metadata": {},
   "source": [
    "---\n",
    "\n",
    "<details><summary>\n",
    "What are Hadoop's two main components?\n",
    "</summary>\n",
    "1) Distributed file system (HDFS)<br>\n",
    "2) An API for processing those files via MapReduce <br>\n",
    "</details>"
   ]
  },
  {
   "cell_type": "markdown",
   "metadata": {},
   "source": [
    "----\n",
    "\n",
    "<details><summary>\n",
    "The fundamental idea of `______` is to split up the functionalities of resource management and job scheduling/monitoring into separate daemons. The idea is to have a global ResourceManager (RM) and per-application ApplicationMaster (AM).\n",
    "</summary>\n",
    "YARN\n",
    "<br>\n",
    "</details>"
   ]
  },
  {
   "cell_type": "markdown",
   "metadata": {},
   "source": [
    "----\n",
    "\n",
    "<details><summary>\n",
    "What is the relationship between RDD and DataFrame?\n",
    "</summary>\n",
    "RDD is the core data structure in Spark that all other data structures are made out of.\n",
    "<br>\n",
    "DataFrame is a RDD is named columns and defined schema.\n",
    "</details>\n",
    "\n",
    "<br>\n",
    "<br>\n",
    "\n",
    "<details><summary>\n",
    "Which should be your default: RDD or DataFrame?\n",
    "</summary>\n",
    "It depends 😏... \n",
    "<br>\n",
    "If you know your data (and the data within each column doesn't change), then DataFrame.\n",
    "<br>\n",
    "If you don't have guarantees or you have dirty data, then RDD.\n",
    "</details>"
   ]
  },
  {
   "cell_type": "markdown",
   "metadata": {},
   "source": [
    "-----\n",
    "\n",
    "I have 3 tables in my DB: \n",
    "\n",
    "1. student: student_id, first_name, last_name \n",
    "2. classes: class_id, name, teacher_id \n",
    "3. student_classes: class_id, student_id \n",
    "\n",
    "<details><summary>\n",
    "What kind of data relationship do students and student_id have in student table?\n",
    "</summary>\n",
    "One-to-one\n",
    "</details>\n",
    "<br>\n",
    "<br>\n",
    "<details><summary>\n",
    "What kind of data relationship does students and classes have in student_classes table?\n",
    "</summary>\n",
    "Many-to-many\n",
    "<br>\n",
    "<br>\n",
    "student_classes is called a junction table\n",
    "</details>\n",
    "<br>\n",
    "<br>"
   ]
  },
  {
   "cell_type": "markdown",
   "metadata": {},
   "source": [
    "---\n",
    "<details><summary>\n",
    "What is the SQL command for counting the number of keys in each group of records?\n",
    "</summary>\n",
    "`groupby`\n",
    "<br>\n",
    "```\n",
    "SELECT COUNT(id), country \n",
    "  FROM custome\n",
    " GROUP BY country\n",
    "```\n",
    "</details>"
   ]
  },
  {
   "cell_type": "markdown",
   "metadata": {},
   "source": [
    "<br>\n",
    "<br>\n",
    "<br>\n",
    "\n",
    "__OYO__:\n",
    "\n",
    "Write a groupby class in Python:  \n",
    "\n",
    "<br>\n",
    "\n",
    "```python\n",
    "letters = 'abracadabra'\n",
    "assert [(k, len(g)) for k, g in groupby(letters).items()]  == [('a', 5), ('r', 2), ('b', 2), ('c', 1), ('d', 1)]\n",
    "```\n",
    "<br>\n",
    "<details><summary>\n",
    "Click here for a solution\n",
    "</summary>\n",
    "```class groupby(dict):\n",
    "    def __init__(self, seq, key=lambda x:x):\n",
    "        for value in seq:\n",
    "            k = key(value)\n",
    "            self.setdefault(k, []).append(value)\n",
    "    __iter__ = dict.items\n",
    "```\n",
    "</details>"
   ]
  },
  {
   "cell_type": "markdown",
   "metadata": {},
   "source": [
    "<br>\n",
    "<br> \n",
    "<br>\n",
    "\n",
    "----\n",
    "Bonus Materials\n",
    "----"
   ]
  },
  {
   "cell_type": "markdown",
   "metadata": {},
   "source": [
    "---\n",
    "MapReduce Example\n",
    "---"
   ]
  },
  {
   "cell_type": "code",
   "execution_count": 1,
   "metadata": {
    "collapsed": false
   },
   "outputs": [
    {
     "data": {
      "image/jpeg": "[encoded data removed]",
      "text/html": [
       "\n",
       "        <iframe\n",
       "            width=\"400\"\n",
       "            height=\"300\"\n",
       "            src=\"https://www.youtube.com/embed/bcjSe0xCHbE\"\n",
       "            frameborder=\"0\"\n",
       "            allowfullscreen\n",
       "        ></iframe>\n",
       "        "
      ],
      "text/plain": [
       "<IPython.lib.display.YouTubeVideo at 0x1045dcc90>"
      ]
     },
     "execution_count": 1,
     "metadata": {},
     "output_type": "execute_result"
    }
   ],
   "source": [
    "from IPython.display import YouTubeVideo\n",
    "\n",
    "YouTubeVideo('bcjSe0xCHbE')"
   ]
  }
 ],
 "metadata": {
  "anaconda-cloud": {},
  "kernelspec": {
   "display_name": "Python [default]",
   "language": "python",
   "name": "python2"
  },
  "language_info": {
   "codemirror_mode": {
    "name": "ipython",
    "version": 2
   },
   "file_extension": ".py",
   "mimetype": "text/x-python",
   "name": "python",
   "nbconvert_exporter": "python",
   "pygments_lexer": "ipython2",
   "version": "2.7.12"
  }
 },
 "nbformat": 4,
 "nbformat_minor": 0
}
