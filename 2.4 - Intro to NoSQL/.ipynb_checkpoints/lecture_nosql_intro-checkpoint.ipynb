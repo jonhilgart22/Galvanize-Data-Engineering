{
 "cells": [
  {
   "cell_type": "markdown",
   "metadata": {},
   "source": [
    "# NoSQL for Dummies"
   ]
  },
  {
   "cell_type": "markdown",
   "metadata": {},
   "source": [
    "<img src=\"http://geekandpoke.typepad.com/.a/6a00d8341d3df553ef0148c80ac6ef970c-pi\" style=\"width: 400px;\"/>"
   ]
  },
  {
   "cell_type": "markdown",
   "metadata": {},
   "source": [
    "---\n",
    "Review\n",
    "---\n",
    "\n",
    "<details><summary>\n",
    "What are the \"pros\" of a SQL system?\n",
    "</summary>\n",
    "- Much of the world can be modeled relationally  \n",
    "- Community knowledge and tools  \n",
    "- SQL plays well with DataFrames\n",
    "- Highly optimized becuase it has been around so long  \n",
    "- Data structure and use guarantees\n",
    "</details>\n",
    "<br>\n",
    "<br>\n",
    "<details><summary>\n",
    "What are the \"cons\" of a SQL systems?\n",
    "</summary>\n",
    "- Only 1 way to represent the world \n",
    "- Not all of the world can be modeled relationally    \n",
    "- SQL doesn't play well with other data types: sets, key-value pairs  \n",
    "- Does not easily scale to distributed environments  \n",
    "- SQL doesn't handle schema change  \n",
    "</details>"
   ]
  },
  {
   "cell_type": "markdown",
   "metadata": {},
   "source": [
    "---\n",
    "When is data most valuable? When do you know the most about your data?\n",
    "----\n",
    "\n",
    "<img src=\"https://s3-us-west-2.amazonaws.com/dsci/6007/assets/data_value.png\" style=\"width: 400px;\"/>"
   ]
  },
  {
   "cell_type": "markdown",
   "metadata": {},
   "source": [
    "----\n",
    "When do you Schema?\n",
    "-----\n",
    "\n",
    "<img src=\"https://s3-us-west-2.amazonaws.com/dsci/6007/assets/old_school_stack.png\" style=\"width: 400px;\"/>"
   ]
  },
  {
   "cell_type": "markdown",
   "metadata": {},
   "source": [
    "----\n",
    "Schema-before-write -> Schema-on-write -> Schema-on-read -> Schema-on-use \n",
    "----\n",
    "\n",
    "![](https://media.giphy.com/media/piupi6AXoUgTe/giphy.gif)"
   ]
  },
  {
   "cell_type": "markdown",
   "metadata": {},
   "source": [
    "All relational database management systems (RDBMS) model data the same way with relational schemas.\n",
    "\n",
    "NoSQL databases can model and store data in other schemas."
   ]
  },
  {
   "cell_type": "markdown",
   "metadata": {},
   "source": [
    "---\n",
    "What makes a NoSQL database?\n",
    "---\n",
    "\n",
    "1. Schema-flexible\n",
    "\n",
    "2. Doesn’t use (approved) SQL as query language. NoSQL usually a more \"primitive\" query language.\n",
    "\n",
    "For example, document databases allow hierarchical non-normalized objects to be retrieved directly.\n",
    "\n",
    "<img src=\"http://blog.philipphauer.de/wp-content/uploads/2015/05/Match-OO-Document.png\" style=\"width: 400px;\"/>"
   ]
  },
  {
   "cell_type": "markdown",
   "metadata": {},
   "source": [
    "---\n",
    "What are the killer features of NoSQL?\n",
    "---\n",
    "\n",
    "- Schema-flexible (compared to normalized tabular data)\n",
    "- Better scalability\n",
    "    - The best systems sits on commoditity hardware (compared to Vertica, SQL Server, ...)\n",
    "    - Highly distributable, typically horizontal scale out (compared to vertical scalling of SQL)"
   ]
  },
  {
   "cell_type": "markdown",
   "metadata": {},
   "source": [
    "<!--\n",
    "\n",
    "\n",
    "----\n",
    "Where is the catch?\n",
    "---\n",
    "\n",
    "Remeber ACID\n",
    "---\n",
    "\n",
    "![](https://sqlserverhelpdotcom.files.wordpress.com/2014/05/image.png)\n",
    "\n",
    "\n",
    "---\n",
    "CAP theorem for distrubted system\n",
    "---\n",
    "\n",
    "<img src=\"http://gaboesquivel.com/images/2013/09/cap_venn.png\" style=\"width: 400px;\"/>\n",
    "\n",
    "CAP theorem states that it is impossible for a distributed computer system (i.e., web service) to simultaneously provide all 3 of the following guarantees:\n",
    "\n",
    "__Consistency__: All nodes see the same data at the same time\n",
    "\n",
    "__Availability__: A guarantee that every request receives a response about whether it succeeded or failed\n",
    "\n",
    "__Partition Tolerance__: The system continues to operate despite arbitrary partitioning due to network failures)\n",
    "\n",
    "Eric Brewer \n",
    "\n",
    "<img src=\"https://upload.wikimedia.org/wikipedia/commons/a/af/TNW_Con_EU15_-_Eric_Brewer_%28scientist%29-2.jpg\" style=\"width: 400px;\"/>\n",
    "\n",
    "CAP was a conjecture by Eric Brewer in 2000\n",
    "\n",
    "Orginal Paper:  \n",
    "[Towards robust distributed systems](http://dl.acm.org/citation.cfm?id=343502)\n",
    "\n",
    "Nice Update:  \n",
    "[CAP 12 years later](http://www.infoq.com/articles/cap-twelve-years-later-how-the-rules-have-changed)\n",
    "\n",
    "---\n",
    "Pick any 2\n",
    "---\n",
    "\n",
    "A distributed system can satisfy any 2 of these guarantees at the same time but not all 3\n",
    "\n",
    "<img src=\"https://www.ibm.com/developerworks/community/blogs/IMSupport/resource/BLOGS_UPLOADED_IMAGES/CAP_Theorem.jpg\" style=\"width: 400px;\"/>\n",
    "\n",
    "Consistency + Availability\n",
    "---\n",
    "\n",
    "Examples:\n",
    "\n",
    "- Single-site databases   \n",
    "- Cluster databases\n",
    "\n",
    "Traits:\n",
    "\n",
    "- All nodes are always in contact\n",
    "- 2-phase commit\n",
    "- Cache validation protocols\n",
    "- No partition without blocking\n",
    "\n",
    "\n",
    "Consistency + Partition Tolerance\n",
    "---\n",
    "\n",
    "Examples:\n",
    "\n",
    "- Distributed databases\n",
    "- Distributed Locking  \n",
    "- Majority protocols\n",
    "\n",
    "Traits:\n",
    "\n",
    "- Some data may not be accesssible, but the rest is still consistent/accurate\n",
    "- Pessimistic locking\n",
    "- Make minority partitions unavailable\n",
    "  \n",
    "\n",
    "Availability + Partition Tolerance\n",
    "----\n",
    "\n",
    "Examples:\n",
    "\n",
    "- Web caching\n",
    "- DNS\n",
    "\n",
    "Traits:\n",
    "\n",
    "- System available under partitioaning, but some data may be inaccurate\n",
    "- conflict resolution   \n",
    "- optimistic\n",
    "- expiration/leases (can ~5ms)\n",
    "\n",
    "---\n",
    "Example Systems\n",
    "----\n",
    "\n",
    "<img src=\"images/visual_cap.png\" style=\"width: 400px;\"/>\n",
    "\n",
    "---\n",
    "Challenge Question\n",
    "---\n",
    "\n",
    "<details><summary>\n",
    "Where does Apache Zookeeper belong?\n",
    "</summary>\n",
    "AP <br>\n",
    "(Consensus protocol)\n",
    "</details>\n",
    "\n",
    "----\n",
    "Eventual consistency\n",
    "---\n",
    "\n",
    "<img src=\"http://blog.sqlauthority.com/i/b/Eventual-Consistency.png\" style=\"width: 400px;\"/>\n",
    "\n",
    "Most businesses what this. But is it truly necessary.\n",
    "\n",
    "<details><summary>\n",
    "Money is important, so banks must use transactions to keep money safe and consistent, right?\n",
    "</summary>\n",
    "__NO__ ATMs are able to give money when not networked. Allowing people to with withdraw money not in their accounts.\n",
    "</details>\n",
    "\n",
    "[Source](http://highscalability.com/blog/2013/5/1/myth-eric-brewer-on-why-banks-are-base-not-acid-availability.html)\n",
    "\n",
    "__Man Withdrawing Money From An Atm In Russia:__\n",
    "<img src=\"http://static.boredpanda.com/blog/wp-content/uploads/2016/02/man-withdraws-cash-from-atm-in-thailand-the-internet-responds-15__605.gif\" style=\"width: 400px;\"/>\n",
    "\n",
    "__Man Withdrawing Cash From An Atm In Detroit:__\n",
    "<img src=\"http://static.boredpanda.com/blog/wp-content/uploads/2016/02/man-withdraws-cash-from-atm-in-thailand-the-internet-responds-21__605.jpg\" style=\"width: 400px;\"/>\n",
    "\n",
    "__College Student Withdrawing Cash From Atm In US:__\n",
    "<img src=\"http://static.boredpanda.com/blog/wp-content/uploads/2016/02/man-withdraws-cash-from-atm-in-thailand-the-internet-responds-51__605.jpg\" style=\"width: 400px;\"/>\n",
    "\n",
    "http://www.boredpanda.com/atm-cash-withdrawal-thailand-pattaya/\n",
    "\n",
    "Eventual consistency is a key property of non-ACID systems\n",
    "\n",
    "Means if no further changes made, eventually all nodes will be consistent\n",
    "\n",
    "In itself eventual consistency is a very weak guarantee\n",
    "\n",
    "> When is “eventually”? \n",
    "\n",
    "It doesn’t say!\n",
    "\n",
    "In practice it means the system can be inconsistent at any time\n",
    "\n",
    "Stronger guarantees are sometimes made with prediction and measuring, actual behaviour can be quantified\n",
    "in practice, systems often appear strongly consistent\n",
    "\n",
    "-->"
   ]
  },
  {
   "cell_type": "markdown",
   "metadata": {},
   "source": [
    "---\n",
    "NoSQL Flavors\n",
    "---"
   ]
  },
  {
   "cell_type": "markdown",
   "metadata": {},
   "source": [
    "<img src=\"https://s3-us-west-2.amazonaws.com/dsci/6007/assets/types.png\" style=\"width: 150%;\"/>"
   ]
  },
  {
   "cell_type": "markdown",
   "metadata": {},
   "source": [
    "#### Key-Value\n",
    "\n",
    "\n",
    "Key-value databases, as the name suggests, map keys to values. \n",
    "\n",
    "Every single item in the database is stored as an attribute name (or \"key\")\n",
    "\n",
    "The “key” is simply an identifier, and the value tends to be implemented as an opaque binary object that’s decoded by the database application, similar to the way an RDBMS deals with large data objects like images, sound files, or big chunks of unstructured text. Key-value databases enable quick access to data but the storage schema doesn’t embody relationships among the data.\n",
    "\n",
    "By far the most popular!\n",
    "\n",
    "Similar to job interview - Throw a hash-map at it\n",
    "\n",
    "Big Players: Riak , Voldemort, Redis\n",
    "\n",
    "![](http://media.charlesleifer.com/blog/photos/p1432653421.74.png)"
   ]
  },
  {
   "cell_type": "markdown",
   "metadata": {},
   "source": [
    "#### Document\n",
    "\n",
    "Pair each key with a complex data structure known as a document.\n",
    "\n",
    "Document databases (formerly known as document-oriented databases) store data in a format such as XML or JSON, which are referred to as self-describing formats because they include descriptive labels on what data is stored. Document databases are good for storing data that is hierarchical and nested, like books and other text-heavy content.\n",
    "\n",
    "Big Player: MongoDB\n",
    "\n",
    "![](http://s3.amazonaws.com/info-mongodb-com/_com_assets/media/mongodb-logo-rgb.jpeg)"
   ]
  },
  {
   "cell_type": "markdown",
   "metadata": {},
   "source": [
    "#### Wide column\n",
    "\n",
    "Store data in columns together, instead of row\n",
    "\n",
    "Wide column stores are somewhat similar to the relational model in that they store data in tables—but they are much more flexible. Relational databases don’t allow adding new columns on the fly, which is an important constraint for the sake of data integrity, but there are environments where adding columns on the fly are useful. Wide column databases are far more efficient for storing records that have different sets of columns.\n",
    "\n",
    "Big Player: Cassandra\n",
    "\n",
    "![](https://upload.wikimedia.org/wikipedia/commons/thumb/5/5e/Cassandra_logo.svg/1280px-Cassandra_logo.svg.png)"
   ]
  },
  {
   "cell_type": "markdown",
   "metadata": {},
   "source": [
    "#### Graph\n",
    "\n",
    "Store information about networks, such as social connections\n",
    "\n",
    "Graph databases use a branch of mathematics known as graph theory. Graph theory represents entities as “vertexes” connected by “edges.” The edges show relationships between entities. Examples include airline route networks or “friend of a friend” relationships in social networks.\n",
    "\n",
    "Big Player: Neo4j\n",
    "\n",
    "![](http://neo4j.com/wp-content/themes/neo4jweb/assets/images/neo4j-logo-2015.png)\n"
   ]
  },
  {
   "cell_type": "markdown",
   "metadata": {},
   "source": [
    "Source:\n",
    "https://www.oreilly.com/ideas/nosql-technologies-are-built-to-solve-business-problems-not-just-wrangle-big-data"
   ]
  },
  {
   "cell_type": "markdown",
   "metadata": {},
   "source": [
    "---\n",
    "Practical Downsides to NoSQL\n",
    "----\n",
    "\n",
    "<img src=\"https://s3-us-west-2.amazonaws.com/dsci/6007/assets/no_problem.jpg\" style=\"width: 400px;\"/>\n",
    "\n",
    "1. Everyone knows SQL  \n",
    "    few people know your specific NoSQL database  \n",
    "    \n",
    "2. Lack of validation  \n",
    "    code will typically do anything the database lets it get away with (especially over time)  \n",
    "\n",
    "3. No standards  \n",
    "    you can’t easily switch databases  \n",
    "\n",
    "4. Lack of maturity  \n",
    "    lack of supporting tools, unpleasant surprises, ...  \n",
    "    lack of answers on stackoverflow  \n",
    " \n",
    "5. Weak query languages  \n",
    "    means you have to do more in code  \n",
    "    may hurt performance  \n",
    "\n",
    "Playing a startup innovation \"chip\""
   ]
  },
  {
   "cell_type": "markdown",
   "metadata": {
    "collapsed": true
   },
   "source": [
    "---\n",
    "Summary\n",
    "----\n",
    "- There is a world beyond RDMS and SQL.\n",
    "- NoSQL is a loose collection of ideas and techniques to handle modern workloads\n",
    "- There are 4 Types of NoSQL DBs\n",
    "    1. Key-Value\n",
    "    2. Document\n",
    "    3. Column\n",
    "    4. Graph\n",
    "- You can have all types. But __always__ have a RDMS hanging around."
   ]
  }
 ],
 "metadata": {
  "anaconda-cloud": {},
  "kernelspec": {
   "display_name": "Python [conda env:dsci6007]",
   "language": "python",
   "name": "conda-env-dsci6007-py"
  },
  "language_info": {
   "codemirror_mode": {
    "name": "ipython",
    "version": 2
   },
   "file_extension": ".py",
   "mimetype": "text/x-python",
   "name": "python",
   "nbconvert_exporter": "python",
   "pygments_lexer": "ipython2",
   "version": "2.7.13"
  }
 },
 "nbformat": 4,
 "nbformat_minor": 0
}
