{
 "cells": [
  {
   "cell_type": "markdown",
   "metadata": {},
   "source": [
    "---\n",
    "Even more NoSQL \n",
    "===\n",
    "<img src=\"images/nosql-bar-joke.jpeg\" style=\"width: 400px;\"/>"
   ]
  },
  {
   "cell_type": "markdown",
   "metadata": {},
   "source": [
    "---\n",
    "By the end of this session, you should be able to:\n",
    "---\n",
    "\n",
    "- Explain how __MongoDB__ is a Document datastore\n",
    "- Describe how MongoDB stores data\n",
    "- Write code to query MongoDB"
   ]
  },
  {
   "cell_type": "markdown",
   "metadata": {},
   "source": [
    "<br>\n",
    "<br> \n",
    "<br>\n",
    "\n",
    "<img src=\"http://www.theodo.fr/uploads/blog//2015/11/mongodb.png\" style=\"width: 400px;\"/>"
   ]
  },
  {
   "cell_type": "markdown",
   "metadata": {
    "collapsed": true
   },
   "source": [
    "<img src=\"images/no_value.png\" style=\"width: 400px;\"/>"
   ]
  },
  {
   "cell_type": "markdown",
   "metadata": {
    "collapsed": true
   },
   "source": [
    "### Student Survey\n",
    "\n",
    "Who has used MongoDB?"
   ]
  },
  {
   "cell_type": "markdown",
   "metadata": {
    "collapsed": true
   },
   "source": [
    "---\n",
    "What is MongoDB?\n",
    "----"
   ]
  },
  {
   "cell_type": "markdown",
   "metadata": {},
   "source": [
    "from:\n",
    "> hu__mongo__us"
   ]
  },
  {
   "cell_type": "markdown",
   "metadata": {},
   "source": [
    "----\n",
    "MongoDB: The Good, The Bad, & The Ugly\n",
    "-----\n",
    "\n",
    "__The Good__:\n",
    " - Document-based datastore\n",
    "    - Good for storing unstructured data Schema-less\n",
    "    - JSON-style, stored as BSON \n",
    "    - Documents (objects) map nicely to programming language data types.\n",
    "- Open Source\n",
    "- Atomic operations within a single document\n",
    "- Indexing\n",
    "- MapReduce support\n",
    "- Fully-consistent reads"
   ]
  },
  {
   "cell_type": "markdown",
   "metadata": {},
   "source": [
    "__The Bad__:\n",
    "\n",
    "- Semi-scalable\n",
    "- No transactions\n",
    "- No schema\n",
    "- No joins"
   ]
  },
  {
   "cell_type": "markdown",
   "metadata": {},
   "source": [
    "__The Ugly__:\n",
    "\n",
    "- Built with developers in mind, not ops\n",
    "- Available on all platforms - client library bindings available for almost all languages (Erlang, Haskell, lua, smalltalk, prolog,..)\n",
    "- Suboptimal for complicated queries "
   ]
  },
  {
   "cell_type": "markdown",
   "metadata": {},
   "source": [
    "<img src=\"images/clients.png\" style=\"width: 400px;\"/>"
   ]
  },
  {
   "cell_type": "markdown",
   "metadata": {},
   "source": [
    "---\n",
    "Check for understanding\n",
    "---\n",
    "\n",
    "<details><summary>\n",
    "Which Python datastructure most logically maps to JSON/BSON?\n",
    "</summary>\n",
    "`dict`\n",
    "</details>"
   ]
  },
  {
   "cell_type": "markdown",
   "metadata": {},
   "source": [
    "---\n",
    "RDMS vs. MongoDB\n",
    "---\n"
   ]
  },
  {
   "cell_type": "markdown",
   "metadata": {
    "collapsed": true
   },
   "source": [
    "### Operations\n",
    "\n",
    "<img src=\"images/crud.png\" style=\"width: 400px;\"/>"
   ]
  },
  {
   "cell_type": "markdown",
   "metadata": {},
   "source": [
    "----\n",
    "Terms\n",
    "----\n",
    "\n",
    "| Concept | SQL | MongoDB |  \n",
    "|:-------|:------|:---|\n",
    "| DB server | mysqld | mongod |\n",
    "| DB client | mysql | mongo |\n",
    "| Highest storage unit | database | database |\n",
    "| Logical data structure | table | collection |\n",
    "| row | row | document |\n",
    "| column | column | field |\n",
    "| Join | Join  | Embedded Doc  |\n",
    "| Distribute | partition | shard |\n",
    "| Queries Return | table | cursor |\n",
    "\n",
    "> When it comes to analytics and reporting, however, it is possible that the data you need to access spans multiple collections. For example, where the _id field of multiple documents from the products collection is included in a document from the orders collection. \n",
    "\n",
    "> For a query to analyze orders and details about their associated products, it must fetch the order document from the orders collection and then use the embedded references to read multiple documents from the products collection. \n",
    "\n",
    "> Prior to MongoDB 3.2, this work is implemented in application code. However, this adds complexity to the application and requires multiple round trips to the database, which can impact performance."
   ]
  },
  {
   "cell_type": "markdown",
   "metadata": {},
   "source": [
    "---\n",
    "Cursing Cursors\n",
    "-----\n",
    "\n",
    "<img src=\"images/cursors_more.png\" style=\"width: 400px;\"/>"
   ]
  },
  {
   "cell_type": "markdown",
   "metadata": {},
   "source": [
    "---\n",
    "Data Model\n",
    "---\n",
    "\n",
    "<img src=\"http://www.thevisualist.org/wp-content/uploads/2013/05/Butcher_GodsMasters_HighRes.jpg\" style=\"width: 400px;\"/>\n",
    "\n",
    "MongoDB has many similar concepts to Postgres, you can use the official as a reference to map them.  There are databases with collections (tables) each of which have documents (rows) containing multiple fields (columns)."
   ]
  },
  {
   "cell_type": "markdown",
   "metadata": {},
   "source": [
    "---\n",
    "Design\n",
    "---\n",
    "\n",
    "<img src=\"images/design.png\" style=\"width: 400px;\"/>"
   ]
  },
  {
   "cell_type": "markdown",
   "metadata": {},
   "source": [
    "---\n",
    "Data Object\n",
    "---\n",
    "\n",
    "<img src=\"images/data.png\" style=\"width: 400px;\"/>"
   ]
  },
  {
   "cell_type": "markdown",
   "metadata": {},
   "source": [
    "---\n",
    "Mongo is Flexable\n",
    "----\n",
    "\n",
    "Mongo can create databases, collections, documents, etc. on the fly.  \n",
    "\n",
    "For example, to create a new database simply try to use the database you haven't created: `use my_new_database`\n",
    "\n",
    "And __POOF__ it comes into existence (this also happens with collections)!"
   ]
  },
  {
   "cell_type": "markdown",
   "metadata": {},
   "source": [
    "---\n",
    "MongoDB workflow\n",
    "---\n",
    "\n",
    "<img src=\"images/workflow.png\" style=\"width: 400px;\"/>"
   ]
  },
  {
   "cell_type": "markdown",
   "metadata": {},
   "source": [
    "---\n",
    "<img src=\"images/summary.png\" style=\"width: 400px;\"/>"
   ]
  },
  {
   "cell_type": "markdown",
   "metadata": {},
   "source": [
    "<img src=\"images/no_good.png\" style=\"width: 400px;\"/>"
   ]
  },
  {
   "cell_type": "markdown",
   "metadata": {},
   "source": [
    "---\n",
    "Summary\n",
    "---\n",
    "\n",
    "- MongoDB is 😜 - Be wary\n",
    "    - Document datastore\n",
    "    - Great for toy project\n",
    "    - __Do not__ build a company around it"
   ]
  },
  {
   "cell_type": "markdown",
   "metadata": {},
   "source": [
    "<br>\n",
    "<br>\n",
    "---"
   ]
  },
  {
   "cell_type": "markdown",
   "metadata": {},
   "source": [
    "---\n",
    "Bonus Materials\n",
    "==="
   ]
  },
  {
   "cell_type": "markdown",
   "metadata": {},
   "source": [
    "---\n",
    "MongoDB demo\n",
    "---"
   ]
  },
  {
   "cell_type": "markdown",
   "metadata": {},
   "source": [
    "![](http://i.imgur.com/SnxSuwI.gif)"
   ]
  },
  {
   "cell_type": "markdown",
   "metadata": {},
   "source": [
    "```bash\n",
    "mkdir db\n",
    "mongod --dbpath db &\n",
    "```"
   ]
  },
  {
   "cell_type": "code",
   "execution_count": 1,
   "metadata": {
    "collapsed": false
   },
   "outputs": [
    {
     "name": "stdout",
     "output_type": "stream",
     "text": [
      "Fetching package metadata .......\n",
      "Solving package specifications: ..........\n",
      "\n",
      "# All requested packages already installed.\n",
      "# packages in environment at /Users/alessandro/anaconda/envs/dsci6007:\n",
      "#\n",
      "pymongo                   3.3.0                    py27_0  \n"
     ]
    }
   ],
   "source": [
    "! conda install pymongo -y"
   ]
  },
  {
   "cell_type": "code",
   "execution_count": 2,
   "metadata": {
    "collapsed": false
   },
   "outputs": [],
   "source": [
    "import pymongo"
   ]
  },
  {
   "cell_type": "markdown",
   "metadata": {},
   "source": [
    "First things first, let us setup our database.  Just like Postgres, mongoDB has a server process which you connect to with a client:"
   ]
  },
  {
   "cell_type": "code",
   "execution_count": 3,
   "metadata": {
    "collapsed": true
   },
   "outputs": [],
   "source": [
    "mdb = pymongo.MongoClient('localhost', 27017)"
   ]
  },
  {
   "cell_type": "markdown",
   "metadata": {},
   "source": [
    "#### Where is the Data?\n",
    "\n",
    "MongoDB just like Postgres (or any database really) uses a binary format to store the data contained within it.  There is a specified database file (defaults to `/data/db`) which you can in its configuration.  But you should not think of it in this way, the client-server abstraction is quite powerful and anytime you need to put data in MongoDB or take data out you must go through the gatekeeper (the client ex: `mongo`)."
   ]
  },
  {
   "cell_type": "code",
   "execution_count": 4,
   "metadata": {
    "collapsed": false
   },
   "outputs": [],
   "source": [
    "test_db = mdb.test_db"
   ]
  },
  {
   "cell_type": "code",
   "execution_count": 5,
   "metadata": {
    "collapsed": false
   },
   "outputs": [
    {
     "data": {
      "text/plain": [
       "Collection(Database(MongoClient(host=['localhost:27017'], document_class=dict, tz_aware=False, connect=True), u'test_db'), u'users')"
      ]
     },
     "execution_count": 5,
     "metadata": {},
     "output_type": "execute_result"
    }
   ],
   "source": [
    "users = test_db.users\n",
    "users"
   ]
  },
  {
   "cell_type": "code",
   "execution_count": 6,
   "metadata": {
    "collapsed": false
   },
   "outputs": [
    {
     "data": {
      "text/plain": [
       "{u'_id': ObjectId('5870080c0ffde23a41a3bcfc'), u'name': u'Boaz'}"
      ]
     },
     "execution_count": 6,
     "metadata": {},
     "output_type": "execute_result"
    }
   ],
   "source": [
    "users.find_one()"
   ]
  },
  {
   "cell_type": "markdown",
   "metadata": {},
   "source": [
    "### Querying\n",
    "\n",
    "MongoDB has a somewhat unique manner for querying and selecting our data.  The selector is a JSON object that MongoDB uses to pattern match the appropriate documents:\n",
    "\n",
    "```javascript\n",
    "// find by single field\n",
    "db.users.find({ name: 'Jon'})\n",
    "\n",
    "// find by presence of field\n",
    "db.users.find({ car: { $exists : true } })\n",
    "\n",
    "// find by value in array\n",
    "db.users.find({ friends: 'Henry' })\n",
    "\n",
    "// field selection (only return name)\n",
    "db.users.find({}, { name: true })\n",
    "```"
   ]
  },
  {
   "cell_type": "markdown",
   "metadata": {},
   "source": [
    "In the first case we are simply searching for all users where the `name` field is equal to `Jon`.  Nothing too special here.  In the next case we retrieve all documents that have the `car` field present.  The third line does something quite convenient, arrays are actually first class citizens in MongoDB and this line finds any document that has a `friends` field with contains 'Henry' (since it is an array).  And the last line is how we only return certain fields of a document, the first argument to `find()` being the query and the second argument is the fields to return.  This line gives us the names of every user."
   ]
  },
  {
   "cell_type": "code",
   "execution_count": 7,
   "metadata": {
    "collapsed": false
   },
   "outputs": [
    {
     "data": {
      "text/plain": [
       "<pymongo.results.InsertOneResult at 0x10471b6e0>"
      ]
     },
     "execution_count": 7,
     "metadata": {},
     "output_type": "execute_result"
    }
   ],
   "source": [
    "post_id = users.insert_one({'name': 'Boaz'})\n",
    "post_id"
   ]
  },
  {
   "cell_type": "code",
   "execution_count": 8,
   "metadata": {
    "collapsed": false
   },
   "outputs": [
    {
     "data": {
      "text/plain": [
       "ObjectId('587008700ffde23a58d8b129')"
      ]
     },
     "execution_count": 8,
     "metadata": {},
     "output_type": "execute_result"
    }
   ],
   "source": [
    "post_id.inserted_id"
   ]
  },
  {
   "cell_type": "code",
   "execution_count": 9,
   "metadata": {
    "collapsed": false
   },
   "outputs": [
    {
     "data": {
      "text/plain": [
       "{u'_id': ObjectId('587008700ffde23a58d8b129'), u'name': u'Boaz'}"
      ]
     },
     "execution_count": 9,
     "metadata": {},
     "output_type": "execute_result"
    }
   ],
   "source": [
    "users.find_one({'_id': post_id.inserted_id})"
   ]
  },
  {
   "cell_type": "code",
   "execution_count": 10,
   "metadata": {
    "collapsed": true
   },
   "outputs": [],
   "source": [
    "users.find_one({'_id': '5591a3866291224d1d7afb40'})"
   ]
  },
  {
   "cell_type": "code",
   "execution_count": 11,
   "metadata": {
    "collapsed": false
   },
   "outputs": [
    {
     "data": {
      "text/plain": [
       "Collection(Database(MongoClient(host=['localhost:27017'], document_class=dict, tz_aware=False, connect=True), u'test_db'), u'users')"
      ]
     },
     "execution_count": 11,
     "metadata": {},
     "output_type": "execute_result"
    }
   ],
   "source": [
    "users"
   ]
  },
  {
   "cell_type": "markdown",
   "metadata": {},
   "source": [
    "#### Iteration\n",
    "\n",
    "MongoDB having a flexible data model also has a flexible shell/driver.  If you need to take some action based on a query or update documents you can use an iterator on the cursor to go document by document.  In the Javascript shell we can do this with Javascript's `forEach`.  Like Python's `for ... in`, Javascript actually has a more functional approach to this type of iteration and requires that you pass a callback (similar to map() and reduce()).\n",
    "\n",
    "```javascript\n",
    "db.tweets.coffee.find().forEach(function(doc){\n",
    "    doc.entities.urls.forEach(function(url) {\n",
    "        db.urls.insert({ 'url':url, 'user': doc.user });\n",
    "    });\n",
    "});\n",
    "```\n",
    "\n",
    "Here we are finding all the urls contained in our tweets and adding them to a new collections.  You most likely would do something more interesting like actually download those urls, but for simplicity sake we just add them to another collection.  With forEach the sky's really the limit!\n",
    "\n",
    "#### Aggregation\n",
    "\n",
    "In SQL, some of the most useful features of the language are the aggregates to compute useful statistics and metrics.  In MongoDB there are the same but in my opinion the querying/aggregation ability in MongoDB is not as elegant as SQL.\n",
    "\n",
    "Let us say we want to find out how many total retweets we had for our tweets about coffee by each country.\n",
    "\n",
    "```javascript\n",
    "db.coffee.aggregate( [ { $group :\n",
    "    {\n",
    "        _id: \"$place.country_code\",\n",
    "        total: { $sum: \"$retweet_count\" }\n",
    "    }\n",
    "}])\n",
    "\n",
    "db.coffee.find({ retweet_count : { $gt : 0 }  })\n",
    "```\n",
    "\n",
    "First we group by `place.country_code`, then we sum the `retweet_count`.  And if we do a more specific find, we see that there actually we not any retweets!\n"
   ]
  },
  {
   "cell_type": "markdown",
   "metadata": {},
   "source": [
    "<br>\n",
    "<br> \n",
    "<br>\n",
    "\n",
    "----"
   ]
  }
 ],
 "metadata": {
  "anaconda-cloud": {},
  "kernelspec": {
   "display_name": "Python [conda env:dsci6007]",
   "language": "python",
   "name": "conda-env-dsci6007-py"
  },
  "language_info": {
   "codemirror_mode": {
    "name": "ipython",
    "version": 2
   },
   "file_extension": ".py",
   "mimetype": "text/x-python",
   "name": "python",
   "nbconvert_exporter": "python",
   "pygments_lexer": "ipython2",
   "version": "2.7.13"
  }
 },
 "nbformat": 4,
 "nbformat_minor": 0
}
