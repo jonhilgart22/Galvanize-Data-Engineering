{
 "cells": [
  {
   "cell_type": "markdown",
   "metadata": {},
   "source": [
    "<img src=\"https://s3-us-west-2.amazonaws.com/dsci/6007/assets/tables.png\" style=\"width: 400px;\"/>"
   ]
  },
  {
   "cell_type": "markdown",
   "metadata": {},
   "source": [
    "----\n",
    "By the end of this session, you should be able to\n",
    "----\n",
    "\n",
    "- Draw the general architecture of a RDBMS system\n",
    "- Explain the connection between SQL and Relational Algebra\n",
    "- Construct a SQL query for a business user, syntax parser, and execution engine\n",
    "- Use EXPLAIN and INDEXES\n",
    "- Use some SQL tips n' tricks"
   ]
  },
  {
   "cell_type": "markdown",
   "metadata": {},
   "source": [
    "---\n",
    "Data Systems Architecture\n",
    "----\n",
    "\n",
    "Jupyter Notebook:\n",
    "<img src=\"https://s3-us-west-2.amazonaws.com/dsci/6007/assets/jupyter.png\" style=\"width: 400px;\"/>\n",
    "\n",
    "Hightlights:\n",
    "\n",
    "- Decouple elements:\n",
    "    - Browser (aka, client) is separate from backend\n",
    "    - Server is separate from storage\n",
    "    - Everything is separate from the kernel\n",
    "    \n",
    "The kernel is the central core of an operating system. It handles input/output requests from software, translating them into data processing instructions for the central processing unit.\n",
    "\n",
    "Jupyter Notebook can use [many kernels](https://github.com/ipython/ipython/wiki/IPython-kernels-for-other-languages) (e.g., Python, Bash, Scala, ...)"
   ]
  },
  {
   "cell_type": "markdown",
   "metadata": {
    "collapsed": true
   },
   "source": [
    "RDBMS also has separation of concerns\n",
    "-----\n",
    "\n",
    "<img src=\"https://s3-us-west-2.amazonaws.com/dsci/6007/assets/sql_server.gif\" style=\"width: 400px;\"/>\n",
    "\n",
    "Given that architecture there can be many clients, each of which can __not__ directly access the database. The server receives queries, processes them, and then finds data on disk.\n",
    "\n",
    "In non-dysfunctional systems 😜, the server is big and beefy and thus can handle big, complex requests.\n",
    "\n",
    "Remember __hardware is cheaper than engineer time___.\n",
    "\n",
    "The software on the server, aka the SQL execution engine, is highly optimized\n",
    "\n",
    "> It takes 10 years to build a good SQL engine\n",
    "\n",
    "Most SQL engine are smarter than you!"
   ]
  },
  {
   "cell_type": "markdown",
   "metadata": {
    "collapsed": true
   },
   "source": [
    "> Math is cheaper than hardware (or engineer time)\n",
    "\n",
    "Which is faster for-loops or vector operations?"
   ]
  },
  {
   "cell_type": "markdown",
   "metadata": {},
   "source": [
    "<img src=\"https://s3-us-west-2.amazonaws.com/dsci/6007/assets/architecture.png\" style=\"width: 400px;\"/>"
   ]
  },
  {
   "cell_type": "markdown",
   "metadata": {},
   "source": [
    "---\n",
    "Relational Algebra 101\n",
    "----\n",
    "\n",
    "Basic operations:\n",
    "\n",
    "- Selection (σ): Selects a subset of rows from relation.\n",
    "- Projection (π): Deletes unwanted columns from relation.\n",
    "\n",
    "<img src=\"http://gerardnico.com/wiki/_media/algebra_of_tables.jpg\" style=\"width: 400px;\"/>\n",
    "\n",
    "Combinations:\n",
    "\n",
    "- Cross-product (X): Allows us to combine two relations, each row of one relation is paired with each row of another relation.\n",
    "- Set-difference (-): Tuples in relation 1, but not in relation 2.\n",
    "- Union (U): Tuples in relation 1 and in relation 2\n",
    "\n",
    "Other operations: intersection, join, division, renaming(ρ)\n",
    "\n",
    "Since each operation returns a relation from a relation, operations can be composed (aka tables \"all the way down\").\n",
    "\n",
    "[Source](http://www.cs.montana.edu/~halla/csci440/n6/n6.html)  \n",
    "[Source](http://www3.cs.stonybrook.edu/~kifer/Courses/cse532/slides/ch5.pdf)  \n",
    "[Source](http://www.cs.cornell.edu/projects/btr/bioinformaticsschool/slides/gehrke.pdf)  "
   ]
  },
  {
   "cell_type": "markdown",
   "metadata": {},
   "source": [
    "Relational algebra is operational; An internal representation for query evaluation plans.\n",
    "\n",
    "Given these primitives the optimizer does it best to efficiently return the materialized view."
   ]
  },
  {
   "cell_type": "markdown",
   "metadata": {},
   "source": [
    "```select name as rookies\n",
    "from employee\n",
    "where hire_date > current_date - interval '365' day;\n",
    "```\n",
    "\n",
    "Equivalent relational algebra expression:\n",
    "    ρrookies(πname(σhire_date>current_date - interval '365' day(employee)))"
   ]
  },
  {
   "cell_type": "markdown",
   "metadata": {},
   "source": [
    "---\n",
    "SQL Parser\n",
    "---\n",
    "\n",
    "The main tasks for a SQL Parser are:\n",
    "\n",
    "1. Check that the query is correctly specified\n",
    "2. Resolve names and references\n",
    "3. Convert the query into the internal format used by the optimizer\n",
    "4. Verify that the user is authorized to execute the query\n",
    "\n",
    "[Source](https://blog.acolyer.org/2015/01/20/architecture-of-a-database-system/)"
   ]
  },
  {
   "cell_type": "markdown",
   "metadata": {},
   "source": [
    "----\n",
    "3 kinds of \"order of operations\"\n",
    "----\n",
    "\n",
    "1. Order for formulating a SQL query based on business question (inside -> outside)\n",
    "2. Order for SQL language syntax\n",
    "3. Order for execution plan "
   ]
  },
  {
   "cell_type": "markdown",
   "metadata": {},
   "source": [
    "---\n",
    "Formulating a SQL query\n",
    "----\n",
    "\n",
    "### Klangs' conjecture\n",
    "> If you can't solve a problem without programming;\n",
    "> you can't solve a problem with programming.\n",
    "\n",
    "Therefore, draw your DB tables and relations, set diagrams, and materialized views before you start coding.\n",
    "\n",
    "Build it up piece-by-piece. Make sure each piece is giving what you expect\n",
    "\n",
    "[Source](http://programmers.stackexchange.com/questions/144602/how-do-i-make-complex-sql-queries-easier-to-write)"
   ]
  },
  {
   "cell_type": "markdown",
   "metadata": {},
   "source": [
    "---\n",
    "SQL language syntax\n",
    "----\n",
    "\n",
    "```sql\n",
    "WITH <common_table_expression>\n",
    "SELECT select_list INTO new_table\n",
    "FROM table_source\n",
    "JOIN table_source\n",
    "ON join_condition\n",
    "WHERE search_condition\n",
    "GROUP BY group_by_expression\n",
    "HAVING search_condition\n",
    "ORDER BY order_expression\n",
    "```\n",
    "\n",
    "[Source](http://stackoverflow.com/questions/4654608/what-is-the-correct-order-of-these-clauses-while-writing-a-sql-query)"
   ]
  },
  {
   "cell_type": "markdown",
   "metadata": {},
   "source": [
    "### SQL Order of Operations\n",
    "\n",
    "SQL does not perform operations \"top to bottom\".  \n",
    "\n",
    "Rather it executes statements in the following order:\n",
    "\n",
    "1. FROM, JOIN\n",
    "2. WHERE\n",
    "3. GROUP BY \n",
    "4. HAVING\n",
    "5. SELECT\n",
    "6. ORDER BY\n",
    "\n",
    "Thus heavy filtering will optimize a query since it happens early"
   ]
  },
  {
   "cell_type": "markdown",
   "metadata": {},
   "source": [
    "---\n",
    "SQL's EXPLAIN\n",
    "----\n",
    "\n",
    "EXPLAIN -- show the execution plan of a statement \n",
    "\n",
    "The execution plan shows how the table(s) referenced by the statement will be scanned (e.g., full table or index) and if multiple tables are referenced, what join algorithms will be used to bring together the required rows from each input table.\n",
    "\n",
    "The most critical part of the display is the estimated statement execution cost, which is the planner's guess at how long it will take to run the statement.\n",
    "\n",
    "Look at the percentage of time spent in each subsection of the plan, and consider what the engine is doing. \n",
    "\n",
    "[Source](https://www.postgresql.org/docs/9.0/static/sql-explain.html)"
   ]
  },
  {
   "cell_type": "markdown",
   "metadata": {},
   "source": [
    "Let's check out an example on [SQL fiddle](http://sqlfiddle.com/#!7/2a3f7/3)"
   ]
  },
  {
   "cell_type": "markdown",
   "metadata": {},
   "source": [
    "---\n",
    "Indexes\n",
    "----"
   ]
  },
  {
   "cell_type": "markdown",
   "metadata": {},
   "source": [
    "What is going with this query? It is going to be fast or slow? Why?\n",
    "\n",
    "```sql\n",
    "SELECT *\n",
    "FROM phone_book\n",
    "WHERE last_name = 'Zuckerberg'\n",
    "```\n",
    "\n",
    "If this was physical phone book, would it be fast or slow? Why?"
   ]
  },
  {
   "cell_type": "markdown",
   "metadata": {},
   "source": [
    "An index is another data structure that is sorted.\n",
    "\n",
    "```sql\n",
    "ALTER TABLE phone_book\n",
    "ADD INDEX (last_name)\n",
    "```\n",
    "\n",
    "Indexes prevent full table scans because only needed data is found and retrieved."
   ]
  },
  {
   "cell_type": "markdown",
   "metadata": {},
   "source": [
    "Remember, we are dealing with transactional system where the most common use case is an row append.\n",
    "\n",
    "Indexes are a trade-off between space and time (like most computer science algorithms)\n",
    "\n",
    "Indexes take up more disk space (essentially you are making a sorted data structure that points to the orginal data) and slow down INSERT, UPDATE, AND DELETE queries.\n",
    "\n",
    "---\n",
    "Check for understanding\n",
    "---\n",
    "\n",
    "<details><summary>\n",
    "Why are those queries slower?\n",
    "</summary>\n",
    "You have to change the data and the metadata.\n",
    "</details>\n",
    "\n",
    "<details><summary>\n",
    "What is the time advantage of INDEX?\n",
    "</summary>\n",
    "Specific queries will be faster because they will not need full table scan.\n",
    "</details>"
   ]
  },
  {
   "cell_type": "markdown",
   "metadata": {},
   "source": [
    "[Source](http://shop.oreilly.com/product/0636920022343.do)"
   ]
  },
  {
   "cell_type": "markdown",
   "metadata": {},
   "source": [
    "----\n",
    "Practical Optimizations\n",
    "---\n",
    "\n",
    "1. Always LIMIT\n",
    "2. Avoid ORDER BY\n",
    "3. Avoid *\n",
    "4. Think about your COUNT functions"
   ]
  },
  {
   "cell_type": "markdown",
   "metadata": {},
   "source": [
    "__ALWAYS PUT LIMITS ON REQUESTS__\n",
    "\n",
    "__Forgot LIMIT in my SQL request__\n",
    "![](http://tclhost.com/4xeBSQk.gif)\n",
    "\n",
    "[Source](http://thecodinglove.com/post/121672594790/forgot-limit-in-my-sql-request)"
   ]
  },
  {
   "cell_type": "markdown",
   "metadata": {},
   "source": [
    "---\n",
    "Check for understanding\n",
    "---"
   ]
  },
  {
   "cell_type": "code",
   "execution_count": 1,
   "metadata": {
    "collapsed": false
   },
   "outputs": [
    {
     "name": "stdout",
     "output_type": "stream",
     "text": [
      "['b', 'm', 'k', 'e', 'a', 'x', 'f', 'u', 'p', 'n', 'l', 'a', 'u', 'i', 'o', 'a', 'p', 'a', 'y', 'a']\n",
      "['a', 'a', 'a', 'a', 'a', 'b', 'e', 'f', 'i', 'k', 'l', 'm', 'n', 'o', 'p', 'p', 'u', 'u', 'x', 'y']\n"
     ]
    }
   ],
   "source": [
    "from string import ascii_lowercase as alphabet\n",
    "from random import choice\n",
    "\n",
    "a = [choice(alphabet) for _ in xrange(20)]\n",
    "print(a)\n",
    "print(sorted(a))"
   ]
  },
  {
   "cell_type": "markdown",
   "metadata": {},
   "source": [
    "Which is faster print(a) or print(sorted(a))?\n",
    "\n",
    "Why?"
   ]
  },
  {
   "cell_type": "markdown",
   "metadata": {},
   "source": [
    "Which is faster?\n",
    "\n",
    "```sql\n",
    "SELECT * \n",
    "FROM customers\n",
    "ORDER BY country;\n",
    "```\n",
    "\n",
    "```sql\n",
    "SELECT * \n",
    "FROM customers;\n",
    "```"
   ]
  },
  {
   "cell_type": "markdown",
   "metadata": {},
   "source": [
    "----\n",
    "Fun with COUNT()\n",
    "----\n",
    "\n",
    "<img src=\"https://media.giphy.com/media/N1pMn2QOtG8Q8/giphy.gif\" style=\"width: 400px;\"/>"
   ]
  },
  {
   "cell_type": "markdown",
   "metadata": {},
   "source": [
    "count(important_column) is fast. 🐰\n",
    "count(*) is slow. 🐢  \n",
    "\n",
    "<details><summary>\n",
    "Why?\n",
    "</summary>\n",
    "count(*) is doing an Index Scan (or a table scan), not an Index Seek which is why the SELECT COUNT(*) takes so long. <br>  The reason for this is that the COUNT(*) function needs to look at every record in the table.\n",
    "</details>"
   ]
  },
  {
   "cell_type": "markdown",
   "metadata": {},
   "source": [
    "COUNT(important_column) is fast.\n",
    "COUNT(DISTINCT(important_column)) is slow. 🐢\n",
    "\n",
    "<details><summary>\n",
    "Why?\n",
    "</summary>\n",
    "COUNT() can just look at how many rows (metadata).  <br>\n",
    "COUNT(DISTINCT()) has to do a full table scan\n",
    "</details>"
   ]
  },
  {
   "cell_type": "markdown",
   "metadata": {},
   "source": [
    "What is a Data Analyst to do?\n",
    "\n",
    "https://www.periscopedata.com/blog/use-subqueries-to-count-distinct-50x-faster.html"
   ]
  },
  {
   "cell_type": "markdown",
   "metadata": {},
   "source": [
    "---\n",
    "OYO\n",
    "---\n",
    "\n",
    "- Design your database\n",
    "    - Hash strings (e.g., create a state table then use state id instead of state abbreviation)\n",
    "    - Reduce normalization (more about that tomorrow)\n",
    "    - Have fewer rows (favor wide tables over tall tables)\n",
    "- Use a column database for analytics (more about than during the NoSQL) day\n",
    "- Cache frequent queries\n",
    "    - Temporary tables are golden\n",
    "    - Buy your DBA 🍻 and have the person create \"special\" tables for you\n",
    "- Use functions\n",
    "    - Postgres has sooooooo many functions. Use them.\n",
    "    - Create UDFs (user defined functions). You every write [in Python in Postgres](https://www.postgresql.org/docs/9.0/static/plpython.html)"
   ]
  },
  {
   "cell_type": "markdown",
   "metadata": {},
   "source": [
    "---\n",
    "Summary\n",
    "----\n",
    "\n",
    "- RDBMS are designed to have many concurrent users and balance their needs.\n",
    "- Optimizers are better at SQL than you.\n",
    "- A bit of Relational Algebra goes a long way in understanding and optimizing SQL\n",
    "- There are 3 ways of looking at query: requester, writer, and doer\n",
    "- EXPLAIN may help you to understand queries better (so you can go home at night)\n",
    "- INDEXES are powerful (but use responsibly)\n",
    "- Think before you hit RUN!"
   ]
  },
  {
   "cell_type": "markdown",
   "metadata": {},
   "source": [
    "<br>\n",
    "<br> \n",
    "<br>\n",
    "\n",
    "----"
   ]
  }
 ],
 "metadata": {
  "anaconda-cloud": {},
  "kernelspec": {
   "display_name": "Python [default]",
   "language": "python",
   "name": "python2"
  },
  "language_info": {
   "codemirror_mode": {
    "name": "ipython",
    "version": 2
   },
   "file_extension": ".py",
   "mimetype": "text/x-python",
   "name": "python",
   "nbconvert_exporter": "python",
   "pygments_lexer": "ipython2",
   "version": "2.7.12"
  }
 },
 "nbformat": 4,
 "nbformat_minor": 0
}
