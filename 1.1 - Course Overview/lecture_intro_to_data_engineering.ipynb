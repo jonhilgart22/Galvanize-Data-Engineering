{
 "cells": [
  {
   "cell_type": "markdown",
   "metadata": {},
   "source": [
    "Intro to Data Engineering\n",
    "===="
   ]
  },
  {
   "cell_type": "markdown",
   "metadata": {},
   "source": [
    "<img src=\"images/dilbert_actionable_insight.gif\" style=\"width: 400px;\"/>"
   ]
  },
  {
   "cell_type": "markdown",
   "metadata": {},
   "source": [
    "---\n",
    "By The End of This Session You Will:\n",
    "---\n",
    "- Have a working definition of Data Engineering\n",
    "- Know the framework and themes for the class\n",
    "- Know the 3 ( or 4) Vs of Big Data"
   ]
  },
  {
   "cell_type": "markdown",
   "metadata": {},
   "source": [
    "---\n",
    "What is Data Engineering?\n",
    "---"
   ]
  },
  {
   "cell_type": "markdown",
   "metadata": {},
   "source": [
    "---\n",
    "Data Engineering Definition\n",
    "----\n",
    "> Deliver the right data to the right people at the right time, all the time.  \n",
    " Data Engineering is the design, building, and managment of the information or \"big data\" infrastructure. It is responsible for the architecture that helps analyze and process data in the way the organization needs it. And make sure those systems are performing smoothly.\n",
    "\n",
    "[Source](https://www.google.com/url?sa=t&rct=j&q=&esrc=s&source=web&cd=3&cad=rja&uact=8&ved=0ahUKEwjj7I_8wZPKAhUEw2MKHSFmDsUQFggqMAI&url=http%3A%2F%2Fwww.datasciencecentral.com%2Fprofiles%2Fblogs%2Fdata-scientists-vs-data-engineers&usg=AFQjCNG1krjW8WSaT36pG0xsNrziL_Om_g&sig2=1Lsn9S0x0_BtURYSafe-pA)"
   ]
  },
  {
   "cell_type": "markdown",
   "metadata": {},
   "source": [
    "---\n",
    "DataOps\n",
    "----\n",
    "\n",
    "<img src=\"http://d1n3e8fpzha6ub.cloudfront.net/wp-content/uploads/2015/02/26130506/DevOps-cycle-PPT-COLOURS.png\" style=\"width: 400px;\"/>\n",
    "\n",
    "\"DataOps\" might be a better term than Data Engineering\n",
    "\n",
    "A HT to [DevOps](https://theagileadmin.com/what-is-devops/), a culture movement across silos to empower people in the modern computing world"
   ]
  },
  {
   "cell_type": "markdown",
   "metadata": {},
   "source": [
    "> \"Functionality is a asset. Code is a liability\"\n",
    "\n",
    "Data Engineering should focus on value add. Tools and techniques are means to an end, not an end. \n",
    "\n",
    "They can add significant value for the world economy by enhancing productivity, increasing efficiency and delivering more value to consumers. "
   ]
  },
  {
   "cell_type": "markdown",
   "metadata": {},
   "source": [
    "Data Engineering Metaphor\n",
    "---\n",
    "\n",
    "3 metaphors:\n",
    "\n",
    "1. Oero cookie \n",
    "2. The box that data science happens in\n",
    "3. The pumblers of data "
   ]
  },
  {
   "cell_type": "markdown",
   "metadata": {},
   "source": [
    "### What should a data engineer do?\n",
    "\n",
    "<img src=\"images/do.png\" style=\"width: 400px;\"/>"
   ]
  },
  {
   "cell_type": "markdown",
   "metadata": {},
   "source": [
    "### What skills should a data engineer have?\n",
    "<img src=\"images/skills.png\" style=\"width: 400px;\"/>"
   ]
  },
  {
   "cell_type": "markdown",
   "metadata": {},
   "source": [
    "Student Activity\n",
    "----\n",
    "\n",
    "- What is your definition of data engineering?\n",
    "- What is your metaphor for data engineering?"
   ]
  },
  {
   "cell_type": "markdown",
   "metadata": {},
   "source": [
    "---\n",
    "The relationship between Data Science and Data Engineering\n",
    "---\n",
    "\n",
    "<img src=\"images/mds.png\" style=\"width: 400px;\"/>"
   ]
  },
  {
   "cell_type": "markdown",
   "metadata": {},
   "source": [
    "<img src=\"images/life.png\" style=\"width: 400px;\"/>"
   ]
  },
  {
   "cell_type": "markdown",
   "metadata": {},
   "source": [
    "<img src=\"images/pipelines.png\" style=\"width: 4600px;\"/>"
   ]
  },
  {
   "cell_type": "markdown",
   "metadata": {
    "collapsed": true
   },
   "source": [
    "Data Engineering Map\n",
    "----\n",
    "\n",
    "![](images/data_pipeline_map.png)\n",
    "\n",
    "[Source](http://insightdataengineering.com/blog/pipeline_map.html)"
   ]
  },
  {
   "cell_type": "markdown",
   "metadata": {},
   "source": [
    "Theme Questions for the Course\n",
    "---\n",
    "- What is the problem? What is the solution? __Why__ is it important?\n",
    "- What is the __most__ common technique or tool for a task? Why?\n",
    "- What is the __best__ technique or tool for a task? Why?\n",
    "- What is the abstraction / fundamental concept for a technique or tool?\n",
    "- What is a good mix between _Tried & True_ and _Shiny & New_?"
   ]
  },
  {
   "cell_type": "markdown",
   "metadata": {},
   "source": [
    "---\n",
    "Why you should care about this class?\n",
    "----\n",
    "\n",
    "<img src=\"http://2s7gjr373w3x22jf92z99mgm5w-wpengine.netdna-ssl.com/wp-content/uploads/2016/01/Data-Science-Skills.png\" />\n",
    "\n",
    "[](https://www.crowdflower.com/what-skills-should-data-scientists-have-in-2016/)"
   ]
  },
  {
   "cell_type": "markdown",
   "metadata": {
    "collapsed": true
   },
   "source": [
    "<br>\n",
    "<br> \n",
    "<br>\n",
    "\n",
    "----\n",
    "3 (or 4) Vs of Big Data\n",
    "---"
   ]
  },
  {
   "cell_type": "markdown",
   "metadata": {},
   "source": [
    "### What is Big Data?\n",
    "\n",
    "1. I do not know...\n",
    "2. A buzz word to sell products and services\n",
    "2. My working definition: Data that can not fit on single machine (thus a moving target)"
   ]
  },
  {
   "cell_type": "markdown",
   "metadata": {},
   "source": [
    "### 3Vs of data\n",
    "\n",
    "![](images/3Vs.jpg)\n",
    "\n",
    "1. Volume\n",
    "2. Velocity\n",
    "3. Variety (the real killer)"
   ]
  },
  {
   "cell_type": "markdown",
   "metadata": {},
   "source": [
    "4 vs of data\n",
    "---\n",
    "\n",
    "<img src=\"images/4-Vs-of-big-data.jpg\" style=\"width: 400px;\"/>\n",
    "\n",
    "[Source](http://www.ibmbigdatahub.com/sites/default/files/infographic_file/4-Vs-of-big-data.jpg)\n",
    "\n",
    "1. Volume\n",
    "2. Velocity\n",
    "3. Variety\n",
    "3. Veracity (the silent killer)"
   ]
  },
  {
   "cell_type": "markdown",
   "metadata": {
    "collapsed": true
   },
   "source": [
    "Hence ...\n",
    "<img src=\"images/dilbert_wrong_db.gif\" style=\"width: 400px;\"/>"
   ]
  },
  {
   "cell_type": "markdown",
   "metadata": {},
   "source": [
    "---\n",
    "Points to ponder\n",
    "---\n",
    "\n",
    "<details><summary>\n",
    "What recent trends have accelerated data growth?\n",
    "</summary>\n",
    "Internet -> mobile -> IoT\n",
    "</details>"
   ]
  },
  {
   "cell_type": "markdown",
   "metadata": {},
   "source": [
    "<img src=\"images/pc.png\" style=\"width: 400px;\"/>\n",
    "\n",
    "<img src=\"images/mobile.png\" style=\"width: 400px;\"/>\n",
    "\n",
    "<img src=\"images/future.png\" style=\"width: 400px;\"/>\n",
    "\n",
    "[Source](http://www.slideshare.net/a16z/mobile-is-eating-the-world-2016)"
   ]
  },
  {
   "cell_type": "markdown",
   "metadata": {},
   "source": [
    "<br>\n",
    "<br> \n",
    "<br>\n",
    "\n",
    "----\n",
    "How Big is Big Data?\n",
    "---\n",
    "\n",
    "<img src=\"https://www.edq.com/globalassets/infographics/bytes-into-grams.jpeg\" style=\"width: 400px;\"/>"
   ]
  },
  {
   "cell_type": "markdown",
   "metadata": {},
   "source": [
    "---\n",
    "How has data grown over time?\n",
    "---\n",
    "\n",
    "<img src=\"https://s-media-cache-ak0.pinimg.com/564x/20/1b/1d/201b1d9c9dadcbf85aa6c771ecb54218.jpg\" style=\"width: 400px;\"/>"
   ]
  },
  {
   "cell_type": "markdown",
   "metadata": {},
   "source": [
    "<img src=\"images/big_data.jpg\" style=\"width: 400px;\"/>"
   ]
  },
  {
   "cell_type": "markdown",
   "metadata": {},
   "source": [
    "---\n",
    "Summary\n",
    "---\n",
    "- Data Engineering is a new (and ill-defined) field.\n",
    "- Data engineers require basic computer science and programming skills and the ability to adapt to new technologies.\n",
    "- Data engineering can be thought about as pipelines. Use the __map__ to guide the course.\n",
    "- 4 Vs of Big Data:\n",
    "    1. Volume\n",
    "    2. Velocity\n",
    "    3. Variety\n",
    "    3. Veracity \n",
    "- We are at the begining of \"Big Data\""
   ]
  },
  {
   "cell_type": "markdown",
   "metadata": {},
   "source": [
    "<br>\n",
    "--- "
   ]
  }
 ],
 "metadata": {
  "anaconda-cloud": {},
  "kernelspec": {
   "display_name": "Python [conda root]",
   "language": "python",
   "name": "conda-root-py"
  },
  "language_info": {
   "codemirror_mode": {
    "name": "ipython",
    "version": 3
   },
   "file_extension": ".py",
   "mimetype": "text/x-python",
   "name": "python",
   "nbconvert_exporter": "python",
   "pygments_lexer": "ipython3",
   "version": "3.5.2"
  }
 },
 "nbformat": 4,
 "nbformat_minor": 0
}
