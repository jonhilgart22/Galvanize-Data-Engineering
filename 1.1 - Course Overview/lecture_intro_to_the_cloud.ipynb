{
 "cells": [
  {
   "cell_type": "markdown",
   "metadata": {},
   "source": [
    "<!--\n",
    "Where are we?\n",
    "-----\n",
    "\n",
    "[Let's look at the map](http://insightdataengineering.com/blog/pipeline_map.html)\n",
    "-->"
   ]
  },
  {
   "cell_type": "markdown",
   "metadata": {},
   "source": [
    "The Cloud & AWS\n",
    "==="
   ]
  },
  {
   "cell_type": "markdown",
   "metadata": {},
   "source": [
    "![Living in the Cloud](https://s3-us-west-2.amazonaws.com/dsci/6007/assets/living_in_the_cloud.jpg)"
   ]
  },
  {
   "cell_type": "markdown",
   "metadata": {},
   "source": [
    "By the end of this session you will be able to:\n",
    "----\n",
    "\n",
    "- Explain what Cloud Computing is\n",
    "- Provide reasons why Amazon leads in the cloud space \n",
    "- Provide pros and cons of cloud vs on-prem data systems\n",
    "- Explain what AWS, S3, EC2 are\n",
    "- Explain how cloud computing requires a different worldview"
   ]
  },
  {
   "cell_type": "markdown",
   "metadata": {},
   "source": [
    "What is the cloud?\n",
    "----\n",
    "\n",
    "In the simplest terms, people running computers on your behalf that you can reach over the internet\n",
    "\n",
    "What is software-as-a-service as part of the cloud (SaaS)?\n",
    "> A company gives you an API over the internet, and then handle everything else for you."
   ]
  },
  {
   "cell_type": "markdown",
   "metadata": {},
   "source": [
    "<details><summary>\n",
    "Q: What is a \"no cloud\" solution?\n",
    "</summary>\n",
    "The proverbial computer under your desk. \n",
    "\n",
    "You provide the internet connection and the electricity (and maintenance).\n",
    "</details>"
   ]
  },
  {
   "cell_type": "markdown",
   "metadata": {},
   "source": [
    "Why is The Cloud so popular?\n",
    "---"
   ]
  },
  {
   "cell_type": "markdown",
   "metadata": {},
   "source": [
    "Cloud vs On-Prem\n",
    "----------------\n",
    "\n",
    "What are the pros and cons of cloud vs on-premises hosting or *on-prem*?\n",
    "\n",
    "Like Uber vs owning your own car.\n",
    "\n",
    "Feature          |Cloud                    |On-Prem\n",
    "-------          |-----                    |-------\n",
    "Cost             |Higher variable cost     |Higher fixed cost\n",
    "Capacity         |Elastic                  |Fixed\n",
    "Performance      |Moderate                 |Can be better if within\n",
    "Security         |Provider secures         |Company secures\n",
    "Office Politics  |Teams get own resources  |Teams compete for fixed resources\n",
    "Time to Setup    | Fast!   | Slow!\n",
    "\n",
    "---\n"
   ]
  },
  {
   "cell_type": "markdown",
   "metadata": {},
   "source": [
    "![Evolution of the Cloud](https://s3-us-west-2.amazonaws.com/dsci/6007/assets/evolution_of_the_cloud.jpg)"
   ]
  },
  {
   "cell_type": "markdown",
   "metadata": {},
   "source": [
    "Who are the major cloud providers?\n",
    "----\n",
    "\n",
    "![as a Service](https://s3-us-west-2.amazonaws.com/dsci/6007/assets/covering_your_.jpg)\n"
   ]
  },
  {
   "cell_type": "markdown",
   "metadata": {},
   "source": [
    "---\n",
    "Steve Yegge and Decoupled Design\n",
    "--------------------------------\n",
    "\n",
    "<img src=\"https://s3-us-west-2.amazonaws.com/dsci/6007/assets/yegge.jpg\">\n",
    "\n",
    "Who is Steve Yegge?\n",
    "\n",
    "- Steve Yegge is a developer from Amazon and Google.\n",
    "\n",
    "- Steve blogged a long [rant][yegge-rant] about Amazon's APIs vs\n",
    "  Google's APIs.\n",
    "\n",
    "[yegge-rant]: https://plus.google.com/+RipRowan/posts/eVeouesvaVX\n",
    "\n",
    "What is the difference between Amazon and Google's APIs?\n",
    "\n",
    "- At Amazon developers have to use Amazon's public APIs to for their\n",
    "  internal dependencies.\n",
    "- At Google developers can use private APIs for dependencies.\n",
    "- The forced dogfooding makes Amazon's APIs more decoupled.\n"
   ]
  },
  {
   "cell_type": "markdown",
   "metadata": {},
   "source": [
    "---\n",
    "Why AWS?\n",
    "---\n",
    "\n",
    "![](http://www.datacenterknowledge.com/wp-content/uploads/2015/05/Screen-Shot-2015-05-28-at-10.23.03-AM-e1432833116144.png\n",
    "   )\n",
    "[Source](http://www.datacenterknowledge.com/archives/2015/05/28/gartner-aws-pulls-further-ahead-in-iaas-cloud-market/)"
   ]
  },
  {
   "cell_type": "markdown",
   "metadata": {},
   "source": [
    "----\n",
    "[Explore console page](https://us-west-2.console.aws.amazon.com/console/home?region=us-west-2#)"
   ]
  },
  {
   "cell_type": "markdown",
   "metadata": {},
   "source": [
    "----\n",
    "What are the primary services that Amazon AWS offers?\n",
    "-----\n",
    "\n",
    "| Name   | Full Name | Should have been called | Service | Use this to |\n",
    "|:-------:|:------:|:------:|:------:|\n",
    "| S3     | Simple Storage Service     | Unlimited FTP Server  | Storage | Store images and other assets for websites. Keep backups and share files between services. Host static websites. Also, many of the other AWS services write and read from S3. |\n",
    "| EC2    | Elastic Compute Cloud      | Virtual Servers | Execution | Host the bits of things you think of as a computer  |\n"
   ]
  },
  {
   "cell_type": "markdown",
   "metadata": {},
   "source": [
    "----\n",
    "What is AWS S3?\n",
    "----\n",
    "\n",
    "![S3](https://s3-us-west-2.amazonaws.com/dsci/6007/assets/s3.png)\n",
    "\n",
    "Amazon S3 is a simple key, value store designed to store as many objects as you want. \n",
    "\n",
    "You store these objects in one or more buckets. \n",
    "\n",
    "__This is your 1st NoSQL datastore!__"
   ]
  },
  {
   "cell_type": "markdown",
   "metadata": {},
   "source": [
    "Buckets and Files\n",
    "-----------------\n",
    "\n",
    "What is a bucket?\n",
    "\n",
    "- A bucket is a container for files.\n",
    "\n",
    "- Think of a bucket as a logical grouping of files like a sub-domain.\n",
    "\n",
    "- A bucket can contain an arbitrary number of files.\n",
    "\n",
    "How large can a file in a bucket be?\n",
    "\n",
    "- A file in a bucket can be 5 TB.\n",
    "\n",
    "Bucket Names\n",
    "------------\n",
    "\n",
    "What are best practices on naming buckets?\n",
    "\n",
    "- Bucket names should be DNS-compliant.\n",
    "\n",
    "- They must be at least 3 and no more than 63 characters long.\n",
    "\n",
    "- They must be a series of one or more labels, separated by a single\n",
    "  period. \n",
    "  \n",
    "- Bucket names can contain lowercase letters, numbers, and hyphens. \n",
    "\n",
    "- Each label must start and end with a lowercase letter or a number.\n",
    "\n",
    "- Bucket names must not be formatted as an IP address (e.g., 192.168.5.4).\n",
    "\n",
    "What are some examples of valid bucket names?\n",
    "\n",
    "- `myawsbucket`\n",
    "\n",
    "- `my.aws.bucket`\n",
    "\n",
    "- `myawsbucket.1`\n",
    "\n",
    "What are some examples of invalid bucket names? \n",
    "\n",
    "- `.myawsbucket`\n",
    "\n",
    "- `myawsbucket.`\n",
    "\n",
    "- `my..examplebucket`\n",
    "\n",
    "Check for understanding\n",
    "--------\n",
    "\n",
    "<details><summary>\n",
    "Q: Why are these bucket names invalid?\n",
    "</summary>\n",
    "Bucket names cannot start or end with a period. And they cannot have a\n",
    "multiple periods next to each other.\n",
    "</details>\n",
    "\n",
    "Creating Buckets\n",
    "----------------\n",
    "\n",
    "Q: How can I create a bucket?\n",
    "\n",
    "- Get your access key and secret key from the `rootkey.csv` that you\n",
    "  downloaded from Amazon AWS.\n",
    "  \n",
    "- In the following snippet replace `/dev/null` with `~/.aws/credentials` \n",
    "  (on Linux/Mac) or `%USERPROFILE%\\.aws\\credentials` (on Windows), and \n",
    "  replace `ACCESS_KEY` and `SECRET_KEY` with the keys from `rootkey.csv`.\n",
    "  \n",
    "        %%writefile /dev/null      \n",
    "        [default]\n",
    "        aws_access_key_id = ACCESS_KEY\n",
    "        aws_secret_access_key = SECRET_KEY\n",
    "\n",
    "- Create a connection to S3."
   ]
  },
  {
   "cell_type": "markdown",
   "metadata": {},
   "source": [
    "---\n",
    "Start using AWS\n",
    "---\n",
    "\n",
    "1. Sign up for free Tier (while we are waiting on Activate authorization)\n",
    "3. Create [Security Credential](https://console.aws.amazon.com/iam/home?#security_credential)\n",
    "2. Install boto (i.e., the AWS api for python)\n",
    "4. [Configure Boto Credentials](http://boto.cloudhackers.com/en/latest/getting_started.html)\n",
    "\n",
    "Then the following should code should run"
   ]
  },
  {
   "cell_type": "code",
   "execution_count": 1,
   "metadata": {
    "collapsed": false
   },
   "outputs": [
    {
     "name": "stdout",
     "output_type": "stream",
     "text": [
      "S3Connection:s3.amazonaws.com\n"
     ]
    }
   ],
   "source": [
    "import boto\n",
    "conn = boto.connect_s3()\n",
    "print conn"
   ]
  },
  {
   "cell_type": "markdown",
   "metadata": {},
   "source": [
    "- List all the buckets."
   ]
  },
  {
   "cell_type": "markdown",
   "metadata": {},
   "source": [
    "Upgrading Boto\n",
    "--------------\n",
    "\n",
    "Q: Boto is not able to find the credentials. How can I fix this?\n",
    "\n",
    "- Older versions of Boto were not able to read the credentials file.\n",
    "\n",
    "- You might run into this problem on the EC2 instance.\n",
    "\n",
    "- Here is how to upgrade Boto to the latest version."
   ]
  },
  {
   "cell_type": "code",
   "execution_count": 3,
   "metadata": {
    "collapsed": false
   },
   "outputs": [
    {
     "name": "stdout",
     "output_type": "stream",
     "text": [
      "Fetching package metadata .......\n",
      "Solving package specifications: ..........\n",
      "\n",
      "Package plan for installation in environment /Users/alessandro/anaconda/envs/dsci6007:\n",
      "\n",
      "The following packages will be downloaded:\n",
      "\n",
      "    package                    |            build\n",
      "    ---------------------------|-----------------\n",
      "    boto-2.45.0                |           py27_0         1.4 MB\n",
      "\n",
      "The following packages will be UPDATED:\n",
      "\n",
      "    boto: 2.43.0-py27_0 --> 2.45.0-py27_0\n",
      "\n",
      "Fetching packages ...\n",
      "boto-2.45.0-py 100% |################################| Time: 0:00:00   5.39 MB/s\n",
      "Extracting packages ...\n",
      "[      COMPLETE      ]|###################################################| 100%\n",
      "Unlinking packages ...\n",
      "[      COMPLETE      ]|###################################################| 100%\n",
      "Linking packages ...\n",
      "[      COMPLETE      ]|###################################################| 100%\n"
     ]
    }
   ],
   "source": [
    "!conda update boto -y"
   ]
  },
  {
   "cell_type": "markdown",
   "metadata": {},
   "source": [
    "Check for understanding\n",
    "--------\n",
    "\n",
    "<details><summary>\n",
    "Q: What is latency?\n",
    "</summary>\n",
    "Latency is the time it takes between making a request and the start of a response.\n",
    "</details>\n",
    "\n",
    "<details><summary>\n",
    "Q: Which is better? Higher latency or lower?\n",
    "</summary>\n",
    "Lower is better.\n",
    "</details>\n",
    "\n",
    "<details><summary>\n",
    "Q: Why is S3 latency higher than EBS?\n",
    "</summary>\n",
    "One reason is that EBS is in the same availability zone.\n",
    "</details>"
   ]
  },
  {
   "cell_type": "code",
   "execution_count": 4,
   "metadata": {
    "collapsed": false
   },
   "outputs": [
    {
     "data": {
      "text/plain": [
       "[<Bucket: aws-logs-608193005321-us-east-1>,\n",
       " <Bucket: aws-logs-608193005321-us-west-2>,\n",
       " <Bucket: dsci>,\n",
       " <Bucket: dsci6007lab>,\n",
       " <Bucket: ill-instructor>,\n",
       " <Bucket: isaac1>,\n",
       " <Bucket: kinesis-lab5>,\n",
       " <Bucket: mrjob-f99dcdcfee39923f>,\n",
       " <Bucket: seattle-dsi>]"
      ]
     },
     "execution_count": 4,
     "metadata": {},
     "output_type": "execute_result"
    }
   ],
   "source": [
    "conn.get_all_buckets()"
   ]
  },
  {
   "cell_type": "markdown",
   "metadata": {},
   "source": [
    "- Create new bucket."
   ]
  },
  {
   "cell_type": "code",
   "execution_count": 5,
   "metadata": {
    "collapsed": false
   },
   "outputs": [
    {
     "name": "stdout",
     "output_type": "stream",
     "text": [
      "alessandro502\n",
      "<Bucket: alessandro502>\n"
     ]
    }
   ],
   "source": [
    "import os\n",
    "import random\n",
    "\n",
    "user = os.environ['USER']\n",
    "bucket_name = user + str(int(random.random()*1000))\n",
    "bucket_name = bucket_name.lower()\n",
    "print bucket_name\n",
    "bucket = conn.create_bucket(bucket_name)\n",
    "print bucket"
   ]
  },
  {
   "cell_type": "markdown",
   "metadata": {},
   "source": [
    "Adding Files\n",
    "------------\n",
    "\n",
    "Q: How can I add a file to a bucket?\n",
    "\n",
    "- List files."
   ]
  },
  {
   "cell_type": "code",
   "execution_count": 6,
   "metadata": {
    "collapsed": false
   },
   "outputs": [
    {
     "data": {
      "text/plain": [
       "[]"
      ]
     },
     "execution_count": 6,
     "metadata": {},
     "output_type": "execute_result"
    }
   ],
   "source": [
    "bucket.get_all_keys()"
   ]
  },
  {
   "cell_type": "markdown",
   "metadata": {},
   "source": [
    "- Add file."
   ]
  },
  {
   "cell_type": "code",
   "execution_count": 7,
   "metadata": {
    "collapsed": false
   },
   "outputs": [
    {
     "name": "stdout",
     "output_type": "stream",
     "text": [
      "<Key: alessandro502,file.txt>\n"
     ]
    },
    {
     "data": {
      "text/plain": [
       "13"
      ]
     },
     "execution_count": 7,
     "metadata": {},
     "output_type": "execute_result"
    }
   ],
   "source": [
    "file_key = bucket.new_key('file.txt')\n",
    "print file_key\n",
    "file_key.set_contents_from_string('hello world!!')"
   ]
  },
  {
   "cell_type": "markdown",
   "metadata": {},
   "source": [
    "- List files again. New file should appear."
   ]
  },
  {
   "cell_type": "code",
   "execution_count": 8,
   "metadata": {
    "collapsed": false
   },
   "outputs": [
    {
     "data": {
      "text/plain": [
       "[<Key: alessandro502,file.txt>]"
      ]
     },
     "execution_count": 8,
     "metadata": {},
     "output_type": "execute_result"
    }
   ],
   "source": [
    "bucket.get_all_keys()"
   ]
  },
  {
   "cell_type": "markdown",
   "metadata": {},
   "source": [
    "Q: How can I get a file from a bucket?\n",
    "\n",
    "- Get file."
   ]
  },
  {
   "cell_type": "code",
   "execution_count": 9,
   "metadata": {
    "collapsed": false
   },
   "outputs": [
    {
     "name": "stdout",
     "output_type": "stream",
     "text": [
      "hello world!!\n"
     ]
    }
   ],
   "source": [
    "f = bucket.get_key('file.txt')\n",
    "print f.get_contents_as_string()"
   ]
  },
  {
   "cell_type": "markdown",
   "metadata": {},
   "source": [
    "\n",
    "Creating Buckets With Periods\n",
    "-----------------------------\n",
    "\n",
    "Q: How can I create a bucket in Boto with a period in the name?\n",
    "\n",
    "- There is a bug in Boto that causes `create_bucket` to fail if the\n",
    "  bucket name has a period in it. \n",
    "\n",
    "- To get around this run this code snippet.\n",
    "\n",
    "```python\n",
    "import ssl\n",
    "if hasattr(ssl, '_create_unverified_context'):\n",
    "    ssl._create_default_https_context = ssl._create_unverified_context\n",
    "```\n",
    "\n",
    "- Now try creating the bucket with a period in its name and it should work.\n",
    "\n",
    "```python\n",
    "bucket_name_with_period = bucket_name + \".1.2.3\"\n",
    "bucket_with_period = conn.create_bucket(bucket_name_with_period)\n",
    "bucket_with_period.delete()\n",
    "```\n",
    "\n",
    "- For more details see <https://github.com/boto/boto/issues/2836>.\n"
   ]
  },
  {
   "cell_type": "markdown",
   "metadata": {},
   "source": [
    "Access Control\n",
    "--------------\n",
    "\n",
    "Q: I want to access my S3 file from a web browser without giving my\n",
    "access and secret keys. How can I open up access to the file to\n",
    "anyone?\n",
    "\n",
    "- You can set up Access Control Lists (ACLs) at the level of the\n",
    "  bucket or at the level of the individual objects in the bucket\n",
    "  (folders, files).\n",
    "\n",
    "Q: What are the different ACL policies?\n",
    "\n",
    "ACL Policy           |Meaning\n",
    "----------           |-------\n",
    "`private`            |No one else besides owner has any access rights.\n",
    "`public-read`        |Everyone has read access.\n",
    "`public-read-write`  |Everyone has read/write access.\n",
    "`authenticated-read` |Registered Amazon S3 users have read access.\n",
    "\n",
    "Q: What does `read` and `write` mean for buckets and files?\n",
    "\n",
    "- Read access to a file lets you read the file.\n",
    "\n",
    "- Read access to a bucket or folder lets you see the names of the\n",
    "  files inside it.\n",
    "\n",
    "Pop Quiz\n",
    "--------\n",
    "\n",
    "<details><summary>\n",
    "Q: If a bucket is `private` and a file inside it is `public-read` can\n",
    "I view it through a web browser?\n",
    "</summary>\n",
    "Yes. Access to the file is only determined by its ACL policy.\n",
    "</details>\n",
    "\n",
    "<details><summary>\n",
    "Q: If a bucket is `public-read` and a file inside it is `private` can\n",
    "I view the file through a web browser?\n",
    "</summary>\n",
    "No, you cannot. However, if you access the URL for the bucket you will see the file listed.\n",
    "</details>\n",
    "\n",
    "Applying Access Control\n",
    "-----------------------\n",
    "\n",
    "Q: How can I make a file available on the web so anyone can read it?\n",
    "\n",
    "- Create a file with a specific ACL."
   ]
  },
  {
   "cell_type": "code",
   "execution_count": 12,
   "metadata": {
    "collapsed": false
   },
   "outputs": [
    {
     "data": {
      "text/plain": [
       "14"
      ]
     },
     "execution_count": 12,
     "metadata": {},
     "output_type": "execute_result"
    }
   ],
   "source": [
    "file2 = bucket.new_key('file2.txt')\n",
    "file2.set_contents_from_string('hello world!!!',policy='private')"
   ]
  },
  {
   "cell_type": "markdown",
   "metadata": {},
   "source": [
    "- Try reading the file."
   ]
  },
  {
   "cell_type": "code",
   "execution_count": 13,
   "metadata": {
    "collapsed": false
   },
   "outputs": [
    {
     "name": "stdout",
     "output_type": "stream",
     "text": [
      "http://s3.amazonaws.com/alessandro502/file2.txt\n",
      "<?xml version=\"1.0\" encoding=\"UTF-8\"?>\n",
      "<Error><Code>AccessDenied</Code><Message>Access Denied</Message><RequestId>D3BAF9F08D6046AC</RequestId><HostId>RNhB+aLJktFhpyFqIo9isDv4YuXxdpIIzgqbicnUsiUSw9ML7e4cxr6npjmrXzSW/DIn3PB8P1c=</HostId></Error>"
     ]
    }
   ],
   "source": [
    "file2_url = 'http://s3.amazonaws.com/' + bucket_name + '/file2.txt'\n",
    "print file2_url\n",
    "!curl $file2_url"
   ]
  },
  {
   "cell_type": "markdown",
   "metadata": {},
   "source": [
    "- Now change its ACL."
   ]
  },
  {
   "cell_type": "code",
   "execution_count": 14,
   "metadata": {
    "collapsed": false
   },
   "outputs": [
    {
     "name": "stdout",
     "output_type": "stream",
     "text": [
      "hello world!!!"
     ]
    }
   ],
   "source": [
    "file2.set_acl('public-read')\n",
    "!curl $file2_url"
   ]
  },
  {
   "cell_type": "markdown",
   "metadata": {},
   "source": [
    "- Also you can try accessing the file through the browser.\n",
    "\n",
    "- If you do not specify the ACL for a file when you set its contents,\n",
    "  the file is `private` by default.\n",
    "\n",
    "S3 Files to URLs\n",
    "----------------\n",
    "\n",
    "Q: How can I figure out the URL of my S3 file?\n",
    "\n",
    "- As above, you can compose the URL using the region, bucket, and file name. \n",
    "\n",
    "- For N. Virginia the general template for the URL is `http://s3.amazonaws.com/BUCKET/FILE`.\n",
    "\n",
    "- You can also find the URL by looking at the file on the AWS web console.\n",
    "\n",
    "Deleting Buckets\n",
    "----------------\n",
    "\n",
    "Q: How can I delete a bucket?\n",
    "\n",
    "- Try deleting a bucket containing files. What happens?"
   ]
  },
  {
   "cell_type": "code",
   "execution_count": 15,
   "metadata": {
    "collapsed": false
   },
   "outputs": [
    {
     "name": "stdout",
     "output_type": "stream",
     "text": [
      "[<Bucket: alessandro502>, <Bucket: aws-logs-608193005321-us-east-1>, <Bucket: aws-logs-608193005321-us-west-2>, <Bucket: dsci>, <Bucket: dsci6007lab>, <Bucket: ill-instructor>, <Bucket: isaac1>, <Bucket: kinesis-lab5>, <Bucket: mrjob-f99dcdcfee39923f>, <Bucket: seattle-dsi>]\n"
     ]
    },
    {
     "ename": "S3ResponseError",
     "evalue": "S3ResponseError: 409 Conflict\n<?xml version=\"1.0\" encoding=\"UTF-8\"?>\n<Error><Code>BucketNotEmpty</Code><Message>The bucket you tried to delete is not empty</Message><BucketName>alessandro502</BucketName><RequestId>88DD24CF89EAF26D</RequestId><HostId>1dZqsDB0BoLexHXfPAiID3b8VC7ZbCii35rtojaDtoQYNbvJXLR+vRw+MIrrIwSiyHrQqUAWNFk=</HostId></Error>",
     "output_type": "error",
     "traceback": [
      "\u001b[0;31m---------------------------------------------------------------------------\u001b[0m",
      "\u001b[0;31mS3ResponseError\u001b[0m                           Traceback (most recent call last)",
      "\u001b[0;32m<ipython-input-15-841f8b0361d3>\u001b[0m in \u001b[0;36m<module>\u001b[0;34m()\u001b[0m\n\u001b[1;32m      1\u001b[0m \u001b[0;32mprint\u001b[0m \u001b[0mconn\u001b[0m\u001b[0;34m.\u001b[0m\u001b[0mget_all_buckets\u001b[0m\u001b[0;34m(\u001b[0m\u001b[0;34m)\u001b[0m\u001b[0;34m\u001b[0m\u001b[0m\n\u001b[0;32m----> 2\u001b[0;31m \u001b[0mbucket\u001b[0m\u001b[0;34m.\u001b[0m\u001b[0mdelete\u001b[0m\u001b[0;34m(\u001b[0m\u001b[0;34m)\u001b[0m\u001b[0;34m\u001b[0m\u001b[0m\n\u001b[0m",
      "\u001b[0;32m/Users/alessandro/anaconda/envs/dsci6007/lib/python2.7/site-packages/boto/s3/bucket.pyc\u001b[0m in \u001b[0;36mdelete\u001b[0;34m(self, headers)\u001b[0m\n\u001b[1;32m   1822\u001b[0m \u001b[0;34m\u001b[0m\u001b[0m\n\u001b[1;32m   1823\u001b[0m     \u001b[0;32mdef\u001b[0m \u001b[0mdelete\u001b[0m\u001b[0;34m(\u001b[0m\u001b[0mself\u001b[0m\u001b[0;34m,\u001b[0m \u001b[0mheaders\u001b[0m\u001b[0;34m=\u001b[0m\u001b[0mNone\u001b[0m\u001b[0;34m)\u001b[0m\u001b[0;34m:\u001b[0m\u001b[0;34m\u001b[0m\u001b[0m\n\u001b[0;32m-> 1824\u001b[0;31m         \u001b[0;32mreturn\u001b[0m \u001b[0mself\u001b[0m\u001b[0;34m.\u001b[0m\u001b[0mconnection\u001b[0m\u001b[0;34m.\u001b[0m\u001b[0mdelete_bucket\u001b[0m\u001b[0;34m(\u001b[0m\u001b[0mself\u001b[0m\u001b[0;34m.\u001b[0m\u001b[0mname\u001b[0m\u001b[0;34m,\u001b[0m \u001b[0mheaders\u001b[0m\u001b[0;34m=\u001b[0m\u001b[0mheaders\u001b[0m\u001b[0;34m)\u001b[0m\u001b[0;34m\u001b[0m\u001b[0m\n\u001b[0m\u001b[1;32m   1825\u001b[0m \u001b[0;34m\u001b[0m\u001b[0m\n\u001b[1;32m   1826\u001b[0m     \u001b[0;32mdef\u001b[0m \u001b[0mget_tags\u001b[0m\u001b[0;34m(\u001b[0m\u001b[0mself\u001b[0m\u001b[0;34m)\u001b[0m\u001b[0;34m:\u001b[0m\u001b[0;34m\u001b[0m\u001b[0m\n",
      "\u001b[0;32m/Users/alessandro/anaconda/envs/dsci6007/lib/python2.7/site-packages/boto/s3/connection.pyc\u001b[0m in \u001b[0;36mdelete_bucket\u001b[0;34m(self, bucket, headers)\u001b[0m\n\u001b[1;32m    643\u001b[0m         \u001b[0;32mif\u001b[0m \u001b[0mresponse\u001b[0m\u001b[0;34m.\u001b[0m\u001b[0mstatus\u001b[0m \u001b[0;34m!=\u001b[0m \u001b[0;36m204\u001b[0m\u001b[0;34m:\u001b[0m\u001b[0;34m\u001b[0m\u001b[0m\n\u001b[1;32m    644\u001b[0m             raise self.provider.storage_response_error(\n\u001b[0;32m--> 645\u001b[0;31m                 response.status, response.reason, body)\n\u001b[0m\u001b[1;32m    646\u001b[0m \u001b[0;34m\u001b[0m\u001b[0m\n\u001b[1;32m    647\u001b[0m     def make_request(self, method, bucket='', key='', headers=None, data='',\n",
      "\u001b[0;31mS3ResponseError\u001b[0m: S3ResponseError: 409 Conflict\n<?xml version=\"1.0\" encoding=\"UTF-8\"?>\n<Error><Code>BucketNotEmpty</Code><Message>The bucket you tried to delete is not empty</Message><BucketName>alessandro502</BucketName><RequestId>88DD24CF89EAF26D</RequestId><HostId>1dZqsDB0BoLexHXfPAiID3b8VC7ZbCii35rtojaDtoQYNbvJXLR+vRw+MIrrIwSiyHrQqUAWNFk=</HostId></Error>"
     ]
    }
   ],
   "source": [
    "print conn.get_all_buckets()\n",
    "bucket.delete()"
   ]
  },
  {
   "cell_type": "markdown",
   "metadata": {},
   "source": [
    "- To delete the bucket first delete all the files in it."
   ]
  },
  {
   "cell_type": "code",
   "execution_count": 16,
   "metadata": {
    "collapsed": true
   },
   "outputs": [],
   "source": [
    "for key in bucket.get_all_keys(): \n",
    "    key.delete()"
   ]
  },
  {
   "cell_type": "markdown",
   "metadata": {},
   "source": [
    "- Then delete the bucket."
   ]
  },
  {
   "cell_type": "code",
   "execution_count": 17,
   "metadata": {
    "collapsed": false
   },
   "outputs": [
    {
     "name": "stdout",
     "output_type": "stream",
     "text": [
      "[<Bucket: alessandro502>, <Bucket: aws-logs-608193005321-us-east-1>, <Bucket: aws-logs-608193005321-us-west-2>, <Bucket: dsci>, <Bucket: dsci6007lab>, <Bucket: ill-instructor>, <Bucket: isaac1>, <Bucket: kinesis-lab5>, <Bucket: mrjob-f99dcdcfee39923f>, <Bucket: seattle-dsi>]\n",
      "[<Bucket: aws-logs-608193005321-us-east-1>, <Bucket: aws-logs-608193005321-us-west-2>, <Bucket: dsci>, <Bucket: dsci6007lab>, <Bucket: ill-instructor>, <Bucket: isaac1>, <Bucket: kinesis-lab5>, <Bucket: mrjob-f99dcdcfee39923f>, <Bucket: seattle-dsi>]\n"
     ]
    }
   ],
   "source": [
    "print conn.get_all_buckets()\n",
    "bucket.delete()\n",
    "print conn.get_all_buckets()"
   ]
  }
 ],
 "metadata": {
  "anaconda-cloud": {},
  "kernelspec": {
   "display_name": "Python [default]",
   "language": "python",
   "name": "python2"
  },
  "language_info": {
   "codemirror_mode": {
    "name": "ipython",
    "version": 2
   },
   "file_extension": ".py",
   "mimetype": "text/x-python",
   "name": "python",
   "nbconvert_exporter": "python",
   "pygments_lexer": "ipython2",
   "version": "2.7.12"
  }
 },
 "nbformat": 4,
 "nbformat_minor": 0
}
