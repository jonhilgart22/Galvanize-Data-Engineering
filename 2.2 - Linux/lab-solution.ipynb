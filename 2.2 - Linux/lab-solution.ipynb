{
 "cells": [
  {
   "cell_type": "markdown",
   "metadata": {},
   "source": [
    "#### What is in `NASA_access_log_Jul95`?"
   ]
  },
  {
   "cell_type": "code",
   "execution_count": 1,
   "metadata": {
    "collapsed": false
   },
   "outputs": [
    {
     "name": "stdout",
     "output_type": "stream",
     "text": [
      "199.72.81.55 - - [01/Jul/1995:00:00:01 -0400] \"GET /history/apollo/ HTTP/1.0\" 200 6245\r\n",
      "unicomp6.unicomp.net - - [01/Jul/1995:00:00:06 -0400] \"GET /shuttle/countdown/ HTTP/1.0\" 200 3985\r\n",
      "199.120.110.21 - - [01/Jul/1995:00:00:09 -0400] \"GET /shuttle/missions/sts-73/mission-sts-73.html HTTP/1.0\" 200 4085\r\n",
      "burger.letters.com - - [01/Jul/1995:00:00:11 -0400] \"GET /shuttle/countdown/liftoff.html HTTP/1.0\" 304 0\r\n",
      "199.120.110.21 - - [01/Jul/1995:00:00:11 -0400] \"GET /shuttle/missions/sts-73/sts-73-patch-small.gif HTTP/1.0\" 200 4179\r\n",
      "burger.letters.com - - [01/Jul/1995:00:00:12 -0400] \"GET /images/NASA-logosmall.gif HTTP/1.0\" 304 0\r\n",
      "burger.letters.com - - [01/Jul/1995:00:00:12 -0400] \"GET /shuttle/countdown/video/livevideo.gif HTTP/1.0\" 200 0\r\n",
      "205.212.115.106 - - [01/Jul/1995:00:00:12 -0400] \"GET /shuttle/countdown/countdown.html HTTP/1.0\" 200 3985\r\n",
      "d104.aa.net - - [01/Jul/1995:00:00:13 -0400] \"GET /shuttle/countdown/ HTTP/1.0\" 200 3985\r\n",
      "129.94.144.152 - - [01/Jul/1995:00:00:13 -0400] \"GET / HTTP/1.0\" 200 7074\r\n"
     ]
    }
   ],
   "source": [
    "head NASA_access_log_Jul95"
   ]
  },
  {
   "cell_type": "markdown",
   "metadata": {},
   "source": [
    "#### Any `404`s?"
   ]
  },
  {
   "cell_type": "code",
   "execution_count": 2,
   "metadata": {
    "collapsed": false
   },
   "outputs": [
    {
     "name": "stdout",
     "output_type": "stream",
     "text": [
      "dd15-062.compuserve.com - - [01/Jul/1995:00:01:12 -0400] \"GET /news/sci.space.shuttle/archive/sci-space-shuttle-22-apr-1995-40.txt HTTP/1.0\" 404 -\r\n",
      "ad03-031.compuserve.com - - [01/Jul/1995:00:04:40 -0400] \"GET /facilities/vab.html HTTP/1.0\" 200 4045\r\n",
      "netport-27.iu.net - - [01/Jul/1995:00:10:19 -0400] \"GET /pub/winvn/readme.txt HTTP/1.0\" 404 -\r\n",
      "netport-27.iu.net - - [01/Jul/1995:00:10:28 -0400] \"GET /pub/winvn/readme.txt HTTP/1.0\" 404 -\r\n",
      "blv-pm0-ip28.halcyon.com - - [01/Jul/1995:00:14:17 -0400] \"GET /persons/astronauts/i-to-l/lousmaJR.txt HTTP/1.0\" 404 -\r\n",
      "blv-pm0-ip28.halcyon.com - - [01/Jul/1995:00:14:32 -0400] \"GET /persons/astronauts/a-to-d/beanAL.txt HTTP/1.0\" 404 -\r\n",
      "ix-tam1-26.ix.netcom.com - - [01/Jul/1995:00:16:04 -0400] \"GET /shuttle/missions/sts-68/ksc-srl-image.html HTTP/1.0\" 200 1404\r\n",
      "www-a1.proxy.aol.com - - [01/Jul/1995:00:18:27 -0400] \"GET /facilities/vab.html HTTP/1.0\" 200 4045\r\n",
      "cu-dialup-1005.cit.cornell.edu - - [01/Jul/1995:00:18:39 -0400] \"GET /pub/winvn/readme.txt HTTP/1.0\" 404 -\r\n",
      "cu-dialup-1005.cit.cornell.edu - - [01/Jul/1995:00:18:45 -0400] \"GET /pub/winvn/readme.txt HTTP/1.0\" 404 -\r\n"
     ]
    }
   ],
   "source": [
    "grep 404 NASA_access_log_Jul95 | head"
   ]
  },
  {
   "cell_type": "markdown",
   "metadata": {},
   "source": [
    "#### Notice a false positive on line 2:  \n",
    "\n",
    "    ad03-031.compuserve.com - - [01/Jul/1995:00:04:40 -0400] \"GET /facilities/vab.html HTTP/1.0\" 200 4045 \n",
    "                                                                                                     ^^^^ "
   ]
  },
  {
   "cell_type": "code",
   "execution_count": 3,
   "metadata": {
    "collapsed": false
   },
   "outputs": [
    {
     "name": "stdout",
     "output_type": "stream",
     "text": [
      "dd15-062.compuserve.com - - [01/Jul/1995:00:01:12 -0400] \"GET /news/sci.space.shuttle/archive/sci-space-shuttle-22-apr-1995-40.txt HTTP/1.0\" 404 -\r\n",
      "netport-27.iu.net - - [01/Jul/1995:00:10:19 -0400] \"GET /pub/winvn/readme.txt HTTP/1.0\" 404 -\r\n",
      "netport-27.iu.net - - [01/Jul/1995:00:10:28 -0400] \"GET /pub/winvn/readme.txt HTTP/1.0\" 404 -\r\n",
      "blv-pm0-ip28.halcyon.com - - [01/Jul/1995:00:14:17 -0400] \"GET /persons/astronauts/i-to-l/lousmaJR.txt HTTP/1.0\" 404 -\r\n",
      "blv-pm0-ip28.halcyon.com - - [01/Jul/1995:00:14:32 -0400] \"GET /persons/astronauts/a-to-d/beanAL.txt HTTP/1.0\" 404 -\r\n",
      "cu-dialup-1005.cit.cornell.edu - - [01/Jul/1995:00:18:39 -0400] \"GET /pub/winvn/readme.txt HTTP/1.0\" 404 -\r\n",
      "cu-dialup-1005.cit.cornell.edu - - [01/Jul/1995:00:18:45 -0400] \"GET /pub/winvn/readme.txt HTTP/1.0\" 404 -\r\n",
      "cu-dialup-1005.cit.cornell.edu - - [01/Jul/1995:00:18:49 -0400] \"GET /pub/winvn/release.txt HTTP/1.0\" 404 -\r\n",
      "mimas.execpc.com - - [01/Jul/1995:00:18:59 -0400] \"GET /shuttle/missions/technology/sts-newsref/stsref-toc.html HTTP/1.0\" 404 -\r\n",
      "zoom112.telepath.com - - [01/Jul/1995:00:25:27 -0400] \"GET /history/apollo-13/apollo-13.html HTTP/1.0\" 404 -\r\n"
     ]
    }
   ],
   "source": [
    "grep ' 404 ' NASA_access_log_Jul95 | head"
   ]
  },
  {
   "cell_type": "markdown",
   "metadata": {},
   "source": [
    "Better, but still not fool proof. Maybe we can `cut` out just the status code.  \n",
    "\n",
    "    199.72.81.55 - - [01/Jul/1995:00:00:01 -0400] \"GET /history/apollo/ HTTP/1.0\" 200 6245\n",
    "    1             2 3                       4\n",
    "\n",
    "*i.e.*"
   ]
  },
  {
   "cell_type": "code",
   "execution_count": 4,
   "metadata": {
    "collapsed": false
   },
   "outputs": [
    {
     "name": "stdout",
     "output_type": "stream",
     "text": [
      "0400] \"GET /history/apollo/ HTTP/1.0\" 200 6245\r\n",
      "0400] \"GET /shuttle/countdown/ HTTP/1.0\" 200 3985\r\n",
      "0400] \"GET /shuttle/missions/sts\r\n",
      "0400] \"GET /shuttle/countdown/liftoff.html HTTP/1.0\" 304 0\r\n",
      "0400] \"GET /shuttle/missions/sts\r\n",
      "0400] \"GET /images/NASA\r\n",
      "0400] \"GET /shuttle/countdown/video/livevideo.gif HTTP/1.0\" 200 0\r\n",
      "0400] \"GET /shuttle/countdown/countdown.html HTTP/1.0\" 200 3985\r\n",
      "0400] \"GET /shuttle/countdown/ HTTP/1.0\" 200 3985\r\n",
      "0400] \"GET / HTTP/1.0\" 200 7074\r\n"
     ]
    }
   ],
   "source": [
    "cut -d- -f4 NASA_access_log_Jul95 | head"
   ]
  },
  {
   "cell_type": "markdown",
   "metadata": {},
   "source": [
    "If we use space as our delimiter:\n",
    "    \n",
    "    199.72.81.55 - - [01/Jul/1995:00:00:01 -0400] \"GET /history/apollo/ HTTP/1.0\" 200 6245\n",
    "    1            2 3 4                     5      6    7                8         9   10"
   ]
  },
  {
   "cell_type": "code",
   "execution_count": 5,
   "metadata": {
    "collapsed": false
   },
   "outputs": [
    {
     "name": "stdout",
     "output_type": "stream",
     "text": [
      "200\r\n",
      "200\r\n",
      "200\r\n",
      "304\r\n",
      "200\r\n",
      "304\r\n",
      "200\r\n",
      "200\r\n",
      "200\r\n",
      "200\r\n"
     ]
    }
   ],
   "source": [
    "cut -d' ' -f9 NASA_access_log_Jul95 | head"
   ]
  },
  {
   "cell_type": "code",
   "execution_count": 29,
   "metadata": {
    "collapsed": false
   },
   "outputs": [
    {
     "name": "stdout",
     "output_type": "stream",
     "text": []
    }
   ],
   "source": [
    "cut -d' ' -f9 NASA_access_log_Jul95 | head | grep '[[:digit:]]+'"
   ]
  },
  {
   "cell_type": "code",
   "execution_count": 59,
   "metadata": {
    "collapsed": false
   },
   "outputs": [
    {
     "name": "stdout",
     "output_type": "stream",
     "text": [
      "slipper12055.iaccess.za - - [28/Jul/1995:13:32:22 -0400] \"GET /images/USA-logosmall.gif HTTP/1.0\" 200 234\r\n",
      "163.205.53.14 - - [28/Jul/1995:13:32:22 -0400] \"GET /shuttle/technology/images/srb_mod_compare_1-small.gif HTTP/1.0\" 200 36902\r\n",
      "maynard.isi.uconn.edu - - [28/Jul/1995:13:32:22 -0400] \"GET /images/shuttle-patch-logo.gif HTTP/1.0\" 200 891\r\n",
      "163.205.53.14 - - [28/Jul/1995:13:32:22 -0400] \"GET /shuttle/technology/images/srb_mod_compare_3-small.gif HTTP/1.0\" 200 55666\r\n",
      "163.205.53.14 - - [28/Jul/1995:13:32:22 -0400] \"GET /shuttle/technology/images/srb_mod_compare_6-small.gif HTTP/1.0\" 200 28219\r\n",
      "163.205.53.14 - - [28/Jul/1995:13:32:23 -0400] \"GET /images/KSC-logosmall.gif HTTP/1.0\" 200 1204\r\n",
      "tiger2.ocs.lsu.edu - - [28/Jul/1995:13:32:23 -0400] \"GET /shuttle/missions/missions.html HTTP/1.0\" 200 8677\r\n",
      "199.0.2.27 - - [28/Jul/1995:13:32:23 -0400] \"GET /images/ksclogo-medium.gif HTTP/1.0\" 200 5866\r\n",
      "tornado.umd.edu - - [28/Jul/1995:13:32:25 -0400] \"GET /shuttle/missions/sts-74/sts-74-patch-small.gif HTTP/1.0\" 200 5494\r\n",
      "alyssa.p"
     ]
    }
   ],
   "source": [
    "tail NASA_access_log_Jul95"
   ]
  },
  {
   "cell_type": "code",
   "execution_count": 30,
   "metadata": {
    "collapsed": false
   },
   "outputs": [
    {
     "name": "stdout",
     "output_type": "stream",
     "text": [
      "\r\n",
      "10099\r\n",
      "11853\r\n",
      "1204\r\n",
      "1204\r\n",
      "17083\r\n",
      "200\r\n",
      "200\r\n",
      "200\r\n",
      "200\r\n"
     ]
    }
   ],
   "source": [
    "head -n10000 NASA_access_log_Jul95 | cut -d' ' -f9 | sort | head"
   ]
  },
  {
   "cell_type": "code",
   "execution_count": 46,
   "metadata": {
    "collapsed": false
   },
   "outputs": [
    {
     "name": "stdout",
     "output_type": "stream",
     "text": [
      "11853\r\n",
      "200\r\n",
      "200\r\n",
      "200\r\n",
      "200\r\n",
      "200\r\n",
      "200\r\n",
      "200\r\n",
      "200\r\n",
      "200\r\n"
     ]
    }
   ],
   "source": [
    "head -n3950 NASA_access_log_Jul95 | cut -d' ' -f9 | sort | head"
   ]
  },
  {
   "cell_type": "code",
   "execution_count": 23,
   "metadata": {
    "collapsed": false
   },
   "outputs": [
    {
     "name": "stdout",
     "output_type": "stream",
     "text": [
      "cut: NASA_access_log_Jul95: Illegal byte sequence\r\n",
      "  77 \r\n",
      "   1 -\r\n",
      "   1 0\r\n",
      "   1 10099\r\n",
      "   1 104916\r\n",
      "   2 1081049\r\n",
      "   1 11175\r\n",
      "   1 1121554\r\n",
      "   1 11326\r\n",
      "   1 11473\r\n"
     ]
    }
   ],
   "source": [
    "cut -d' ' -f9 NASA_access_log_Jul95 | sort | uniq -c | head"
   ]
  },
  {
   "cell_type": "markdown",
   "metadata": {},
   "source": [
    "Lab\n",
    "------------------------------------------------\n",
    "### Together let's\n",
    "1. `ssh` into our linux box\n",
    "2. `vi NASA_access_log_Jul95`\n",
    "3. escape `vi` with `:q!`\n",
    "2. `vi NASA_access_log_Jul95` again\n",
    "5. find 400 errors with `/`\n",
    "6. find 500 errors with `/50[0123456789] `\n",
    "\n",
    "### On your own:\n",
    "1. "
   ]
  },
  {
   "cell_type": "code",
   "execution_count": null,
   "metadata": {
    "collapsed": true
   },
   "outputs": [],
   "source": []
  },
  {
   "cell_type": "code",
   "execution_count": 17,
   "metadata": {
    "collapsed": false
   },
   "outputs": [
    {
     "name": "stdout",
     "output_type": "stream",
     "text": [
      "002\r\n",
      "002\r\n",
      "002\r\n",
      "002\r\n",
      "002\r\n",
      "002\r\n",
      "404\r\n",
      "002\r\n",
      "002\r\n",
      "002\r\n"
     ]
    }
   ],
   "source": [
    "grep 'error' NASA_access_log_Jul95 | rev | awk '{print $2}' | head"
   ]
  },
  {
   "cell_type": "code",
   "execution_count": 15,
   "metadata": {
    "collapsed": false
   },
   "outputs": [
    {
     "name": "stdout",
     "output_type": "stream",
     "text": [
      "error170.com - - [07/Jul/1995:01:56:39 -0400] \"GET /software/winvn/winvn.html HTTP/1.0\" 200 9867\r\n",
      "error170.com - - [07/Jul/1995:01:56:42 -0400] \"GET /software/winvn/winvn.gif HTTP/1.0\" 200 25218\r\n",
      "error170.com - - [07/Jul/1995:01:56:42 -0400] \"GET /images/construct.gif HTTP/1.0\" 200 1414\r\n",
      "error170.com - - [07/Jul/1995:01:56:42 -0400] \"GET /software/winvn/bluemarb.gif HTTP/1.0\" 200 4441\r\n",
      "error170.com - - [07/Jul/1995:01:56:43 -0400] \"GET /software/winvn/wvsmall.gif HTTP/1.0\" 200 13372\r\n",
      "error170.com - - [07/Jul/1995:01:56:45 -0400] \"GET /images/KSC-logosmall.gif HTTP/1.0\" 200 1204\r\n",
      "titan02f - - [18/Jul/1995:15:15:39 -0400] \"GET /Harvest/cgi-bin/BrokerQuery.pl.cgi?query=oms&host=titan04.ksc.nasa.gov%3A8501&caseflag=on&wordflag=on&errorflag=0&opaqueflag=on&descflag=on&verbose=on&maxresultflag=50 HTTP/1.0\" 404 -\r\n",
      "titan02f - - [18/Jul/1995:15:18:39 -0400] \"GET /~downs/cgi-bin/BrokerQuery.pl.cgi?query=oms&host=titan04.ksc.nasa.gov%3A8501&caseflag=on&wordflag=on&errorflag=0&opaqueflag=on&descflag=on&verbose=on&maxresultflag=50 HTTP/1.0\" 200 15930\r\n",
      "titan02f - - [18/Jul/1995:15:20:42 -0400] \"GET /~downs/cgi-bin/BrokerQuery.pl.cgi?query=oms&host=titan04.ksc.nasa.gov%3A8501&caseflag=on&wordflag=on&errorflag=0&opaqueflag=on&descflag=on&verbose=on&maxresultflag=50 HTTP/1.0\" 200 15930\r\n",
      "titan02f - - [18/Jul/1995:15:27:46 -0400] \"GET /~downs/harvest-1.2/cgi-bin/BrokerQuery.pl.cgi?query=oms&host=titan04.ksc.nasa.gov%3A8501&caseflag=on&wordflag=on&errorflag=0&opaqueflag=on&descflag=on&verbose=on&maxresultflag=50 HTTP/1.0\" 200 15930\r\n"
     ]
    }
   ],
   "source": [
    "grep 'error' NASA_access_log_Jul95 | head"
   ]
  },
  {
   "cell_type": "code",
   "execution_count": 33,
   "metadata": {
    "collapsed": false
   },
   "outputs": [
    {
     "name": "stdout",
     "output_type": "stream",
     "text": [
      "rev: stdin: Illegal byte sequence\r\n",
      "   1 \"GET\r\n",
      "107080 200\r\n",
      "4697 302\r\n",
      "6577 304\r\n",
      "   5 403\r\n",
      " 569 404\r\n"
     ]
    }
   ],
   "source": [
    "cat NASA_access_log_Jul95 | rev  | awk '{print $2}' | rev | sort | uniq -c"
   ]
  },
  {
   "cell_type": "code",
   "execution_count": 52,
   "metadata": {
    "collapsed": false,
    "scrolled": true
   },
   "outputs": [
    {
     "name": "stdout",
     "output_type": "stream",
     "text": [
      "4697 302\r\n",
      "6577 304\r\n",
      "   5 403\r\n",
      " 569 404\r\n"
     ]
    }
   ],
   "source": [
    "head -n118928  NASA_access_log_Jul95 | rev | awk '{print $2}' | rev | sort| grep -v 200 | uniq -c "
   ]
  },
  {
   "cell_type": "code",
   "execution_count": 53,
   "metadata": {
    "collapsed": false
   },
   "outputs": [
    {
     "name": "stdout",
     "output_type": "stream",
     "text": [
      "107080 200\r\n",
      "4697 302\r\n",
      "6577 304\r\n",
      "   5 403\r\n",
      " 569 404\r\n"
     ]
    }
   ],
   "source": [
    "head -n118928  NASA_access_log_Jul95 | rev | awk '{print $2}' | rev | sort | uniq -c "
   ]
  },
  {
   "cell_type": "code",
   "execution_count": null,
   "metadata": {
    "collapsed": true
   },
   "outputs": [],
   "source": []
  }
 ],
 "metadata": {
  "kernelspec": {
   "display_name": "Bash",
   "language": "bash",
   "name": "bash"
  },
  "language_info": {
   "codemirror_mode": "shell",
   "file_extension": ".sh",
   "mimetype": "text/x-sh",
   "name": "bash"
  }
 },
 "nbformat": 4,
 "nbformat_minor": 0
}
