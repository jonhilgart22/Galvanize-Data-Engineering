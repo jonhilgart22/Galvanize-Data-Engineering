{
 "cells": [
  {
   "cell_type": "markdown",
   "metadata": {
    "collapsed": true
   },
   "source": [
    "----\n",
    "Elasticsearch Exercises\n",
    "----\n",
    "\n",
    "![](https://cdn.meme.am/instances/500x/53420967.jpg)\n",
    "\n",
    "----\n",
    "Overview\n",
    "-----\n",
    "- Install and use Java (without getting sued by Oracle 😉)\n",
    "- Install Elasticsearch\n",
    "- Start Elasticserach daemon\n",
    "- Submit data to Elasticsearch\n",
    "- Query data from Elasticsearch\n",
    "- Profit 💰💰💰\n",
    "\n",
    "Let's work through http://www.elasticsearchtutorial.com/elasticsearch-in-5-minutes.html."
   ]
  },
  {
   "cell_type": "markdown",
   "metadata": {},
   "source": [
    "----\n",
    "Install Java >= 6.0\n",
    "----\n",
    "\n",
    "Check for which version of java you have:"
   ]
  },
  {
   "cell_type": "code",
   "execution_count": 1,
   "metadata": {
    "collapsed": false
   },
   "outputs": [
    {
     "name": "stdout",
     "output_type": "stream",
     "text": [
      "java version \"1.8.0_72\"\r\n",
      "Java(TM) SE Runtime Environment (build 1.8.0_72-b15)\r\n",
      "Java HotSpot(TM) 64-Bit Server VM (build 25.72-b15, mixed mode)\r\n"
     ]
    }
   ],
   "source": [
    "! java -version"
   ]
  },
  {
   "cell_type": "markdown",
   "metadata": {},
   "source": [
    "You should see something like this:\n",
    "\n",
    "```shell\n",
    "java version \"1.8.0_92\"\n",
    "Java(TM) SE Runtime Environment (build 1.8.0_92-b14)\n",
    "Java HotSpot(TM) 64-Bit Server VM (build 25.92-b14, mixed mode)\n",
    "```"
   ]
  },
  {
   "cell_type": "markdown",
   "metadata": {},
   "source": [
    "If you don't have java or an older than 6.0, then install java. As always, I suggest brew cask install:"
   ]
  },
  {
   "cell_type": "code",
   "execution_count": 2,
   "metadata": {
    "collapsed": false
   },
   "outputs": [
    {
     "name": "stdout",
     "output_type": "stream",
     "text": [
      "\u001b[33;4mWarning\u001b[0m: A Cask for java is already installed. Add the \"--force\" option to force re-install.\r\n"
     ]
    }
   ],
   "source": [
    "! brew cask install java"
   ]
  },
  {
   "cell_type": "markdown",
   "metadata": {
    "collapsed": true
   },
   "source": [
    "---\n",
    "Install and start running ElasticSearch\n",
    "----"
   ]
  },
  {
   "cell_type": "markdown",
   "metadata": {
    "collapsed": true
   },
   "source": [
    "Run the following commands in the terminal\n",
    "\n",
    "```bash\n",
    "wget https://download.elastic.co/elasticsearch/elasticsearch/elasticsearch-1.7.2.tar.gz\n",
    "tar -zxvf elasticsearch-1.7.2.tar.gz\n",
    "cd elasticsearch-1.7.2\n",
    "bin/elasticsearch\n",
    "```"
   ]
  },
  {
   "cell_type": "markdown",
   "metadata": {},
   "source": [
    "### Check for understanding\n",
    "\n",
    "<details><summary>\n",
    "What does `tar -zxvf elasticsearch-1.7.2.tar.gz` do?\n",
    "</summary>\n",
    "It \"unzipped\" / extracted the file\n",
    "</details>"
   ]
  },
  {
   "cell_type": "markdown",
   "metadata": {},
   "source": [
    "There should be a ElasticSearch daemon running. It will similar to starting a Jupyter Notebook daemon."
   ]
  },
  {
   "cell_type": "markdown",
   "metadata": {},
   "source": [
    "----\n",
    "Double check it is running\n",
    "----"
   ]
  },
  {
   "cell_type": "code",
   "execution_count": 19,
   "metadata": {
    "collapsed": true
   },
   "outputs": [],
   "source": [
    "import requests\n",
    "from pprint import pprint"
   ]
  },
  {
   "cell_type": "code",
   "execution_count": 20,
   "metadata": {
    "collapsed": true
   },
   "outputs": [],
   "source": [
    "r = requests.get(\"http://localhost:9200\")"
   ]
  },
  {
   "cell_type": "code",
   "execution_count": 21,
   "metadata": {
    "collapsed": false
   },
   "outputs": [
    {
     "name": "stdout",
     "output_type": "stream",
     "text": [
      "{u'cluster_name': u'elasticsearch',\n",
      " u'name': u'Lady Octopus',\n",
      " u'status': 200,\n",
      " u'tagline': u'You Know, for Search',\n",
      " u'version': {u'build_hash': u'e43676b1385b8125d647f593f7202acbd816e8ec',\n",
      "              u'build_snapshot': False,\n",
      "              u'build_timestamp': u'2015-09-14T09:49:53Z',\n",
      "              u'lucene_version': u'4.10.4',\n",
      "              u'number': u'1.7.2'}}\n"
     ]
    }
   ],
   "source": [
    "pprint(r.json())"
   ]
  },
  {
   "cell_type": "markdown",
   "metadata": {
    "collapsed": true
   },
   "source": [
    "You should see something like this:\n",
    "\n",
    "```\n",
    "{'cluster_name': 'elasticsearch',\n",
    " 'name': 'Goliath',\n",
    " 'status': 200,\n",
    " 'tagline': 'You Know, for Search',\n",
    " 'version': {'build_hash': 'e43676b1385b8125d647f593f7202acbd816e8ec',\n",
    "             'build_snapshot': False,\n",
    "             'build_timestamp': '2015-09-14T09:49:53Z',\n",
    "             'lucene_version': '4.10.4',\n",
    "             'number': '1.7.2'}}\n",
    "```"
   ]
  },
  {
   "cell_type": "markdown",
   "metadata": {},
   "source": [
    "----\n",
    "Use Elasticsearch awful API\n",
    "----\n",
    "\n",
    "![](http://image.slidesharecdn.com/elasticsearch-150225053202-conversion-gate02/95/introduction-to-elasticsearch-39-638.jpg?cb=1424842484)"
   ]
  },
  {
   "cell_type": "markdown",
   "metadata": {},
   "source": [
    "---\n",
    "Put data\n",
    "---"
   ]
  },
  {
   "cell_type": "code",
   "execution_count": 6,
   "metadata": {
    "collapsed": false
   },
   "outputs": [
    {
     "name": "stdout",
     "output_type": "stream",
     "text": [
      "{\"_index\":\"blog\",\"_type\":\"user\",\"_id\":\"dilbert\",\"_version\":1,\"created\":true}"
     ]
    }
   ],
   "source": [
    "! curl -XPUT 'http://localhost:9200/blog/user/dilbert' -d '{ \"name\" : \"Dilbert Brown\" }'"
   ]
  },
  {
   "cell_type": "markdown",
   "metadata": {},
   "source": [
    "### Check for understanding\n",
    "\n",
    "<details><summary>\n",
    "Which part of the returned json let's us know that it worked?\n",
    "</summary>\n",
    "... \"created\":true ...\n",
    "</details>"
   ]
  },
  {
   "cell_type": "code",
   "execution_count": 7,
   "metadata": {
    "collapsed": false
   },
   "outputs": [
    {
     "name": "stdout",
     "output_type": "stream",
     "text": [
      "{\"_index\":\"blog\",\"_type\":\"post\",\"_id\":\"1\",\"_version\":1,\"created\":true}"
     ]
    }
   ],
   "source": [
    "! curl -XPUT 'http://localhost:9200/blog/post/1' -d '{ \"user\": \"dilbert\",  \"postDate\": \"2011-12-15\",  \"body\": \"Search is hard. Search should be easy.\" , \"title\": \"On search\"}'"
   ]
  },
  {
   "cell_type": "code",
   "execution_count": 8,
   "metadata": {
    "collapsed": false
   },
   "outputs": [
    {
     "name": "stdout",
     "output_type": "stream",
     "text": [
      "{\"_index\":\"blog\",\"_type\":\"post\",\"_id\":\"2\",\"_version\":1,\"created\":true}"
     ]
    }
   ],
   "source": [
    "! curl -XPUT 'http://localhost:9200/blog/post/2' -d '{  \"user\": \"dilbert\",  \"postDate\": \"2011-12-12\",  \"body\": \"Distribution is hard. Distribution should be easy.\" , \"title\": \"On distributed search\"}'"
   ]
  },
  {
   "cell_type": "code",
   "execution_count": 9,
   "metadata": {
    "collapsed": false
   },
   "outputs": [
    {
     "name": "stdout",
     "output_type": "stream",
     "text": [
      "{\"_index\":\"blog\",\"_type\":\"post\",\"_id\":\"3\",\"_version\":1,\"created\":true}"
     ]
    }
   ],
   "source": [
    "! curl -XPUT 'http://localhost:9200/blog/post/3' -d '{ \"user\": \"dilbert\",  \"postDate\": \"2011-12-10\",  \"body\": \"Lorem ipsum dolor sit amet, consectetuer adipiscing elit, sed diam nonummy nibh euismod tincidunt ut laoreet dolore magna aliquam erat volutpat\" , \"title\": \"Lorem ipsum\" }'"
   ]
  },
  {
   "cell_type": "markdown",
   "metadata": {},
   "source": [
    "---\n",
    "Get data\n",
    "---"
   ]
  },
  {
   "cell_type": "code",
   "execution_count": 49,
   "metadata": {
    "collapsed": false
   },
   "outputs": [
    {
     "name": "stdout",
     "output_type": "stream",
     "text": [
      "{\r\n",
      "  \"_index\" : \"blog\",\r\n",
      "  \"_type\" : \"user\",\r\n",
      "  \"_id\" : \"dilbert\",\r\n",
      "  \"_version\" : 1,\r\n",
      "  \"found\" : true,\r\n",
      "  \"_source\":{ \"name\" : \"Dilbert Brown\" }\r\n",
      "}\r\n"
     ]
    }
   ],
   "source": [
    "! curl -XGET 'http://localhost:9200/blog/user/dilbert?pretty=true'"
   ]
  },
  {
   "cell_type": "code",
   "execution_count": 51,
   "metadata": {
    "collapsed": false
   },
   "outputs": [
    {
     "name": "stdout",
     "output_type": "stream",
     "text": [
      "{\r\n",
      "  \"_index\" : \"blog\",\r\n",
      "  \"_type\" : \"post\",\r\n",
      "  \"_id\" : \"1\",\r\n",
      "  \"_version\" : 1,\r\n",
      "  \"found\" : true,\r\n",
      "  \"_source\":{ \"user\": \"dilbert\",  \"postDate\": \"2011-12-15\",  \"body\": \"Search is hard. Search should be easy.\" , \"title\": \"On search\"}\r\n",
      "}\r\n"
     ]
    }
   ],
   "source": [
    "! curl -XGET 'http://localhost:9200/blog/post/1?pretty=true'"
   ]
  },
  {
   "cell_type": "markdown",
   "metadata": {},
   "source": [
    "---\n",
    "Query data\n",
    "---"
   ]
  },
  {
   "cell_type": "markdown",
   "metadata": {},
   "source": [
    "Find all blog posts by Dilbert:"
   ]
  },
  {
   "cell_type": "code",
   "execution_count": 10,
   "metadata": {
    "collapsed": false
   },
   "outputs": [
    {
     "name": "stdout",
     "output_type": "stream",
     "text": [
      "{\r\n",
      "  \"took\" : 189,\r\n",
      "  \"timed_out\" : false,\r\n",
      "  \"_shards\" : {\r\n",
      "    \"total\" : 5,\r\n",
      "    \"successful\" : 5,\r\n",
      "    \"failed\" : 0\r\n",
      "  },\r\n",
      "  \"hits\" : {\r\n",
      "    \"total\" : 3,\r\n",
      "    \"max_score\" : 1.0,\r\n",
      "    \"hits\" : [ {\r\n",
      "      \"_index\" : \"blog\",\r\n",
      "      \"_type\" : \"post\",\r\n",
      "      \"_id\" : \"1\",\r\n",
      "      \"_score\" : 1.0,\r\n",
      "      \"_source\":{ \"user\": \"dilbert\",  \"postDate\": \"2011-12-15\",  \"body\": \"Search is hard. Search should be easy.\" , \"title\": \"On search\"}\r\n",
      "    }, {\r\n",
      "      \"_index\" : \"blog\",\r\n",
      "      \"_type\" : \"post\",\r\n",
      "      \"_id\" : \"2\",\r\n",
      "      \"_score\" : 0.30685282,\r\n",
      "      \"_source\":{  \"user\": \"dilbert\",  \"postDate\": \"2011-12-12\",  \"body\": \"Distribution is hard. Distribution should be easy.\" , \"title\": \"On distributed search\"}\r\n",
      "    }, {\r\n",
      "      \"_index\" : \"blog\",\r\n",
      "      \"_type\" : \"post\",\r\n",
      "      \"_id\" : \"3\",\r\n",
      "      \"_score\" : 0.30685282,\r\n",
      "      \"_source\":{ \"user\": \"dilbert\",  \"postDate\": \"2011-12-10\",  \"body\": \"Lorem ipsum dolor sit amet, consectetuer adipiscing elit, sed diam nonummy nibh euismod tincidunt ut laoreet dolore magna aliquam erat volutpat\" , \"title\": \"Lorem ipsum\" }\r\n",
      "    } ]\r\n",
      "  }\r\n",
      "}\r\n"
     ]
    }
   ],
   "source": [
    "! curl 'http://localhost:9200/blog/post/_search?q=user:dilbert&pretty=true'"
   ]
  },
  {
   "cell_type": "code",
   "execution_count": 66,
   "metadata": {
    "collapsed": false
   },
   "outputs": [],
   "source": [
    "# TODO: Refactor the previous command line command \n",
    "# - Use only Python's requests library to make the call and handle the data\n",
    "# - Make the search term a variable\n",
    "# - Try other search terms"
   ]
  },
  {
   "cell_type": "code",
   "execution_count": null,
   "metadata": {
    "collapsed": false
   },
   "outputs": [],
   "source": []
  },
  {
   "cell_type": "code",
   "execution_count": 18,
   "metadata": {
    "collapsed": false
   },
   "outputs": [],
   "source": [
    "# Note: Sometimes there will be a successful query (code = 200) but the payload will be empty or contain invalid data\n",
    "\n",
    "# TODO: Write unit tests for the requests returned data object to check if it successful queried ElasticSearch \n",
    "# - Use `assert` statements\n",
    "# - Document your tests with comments\n",
    "# - Test the metadata, the specific results or number of result will often change and break your test"
   ]
  },
  {
   "cell_type": "code",
   "execution_count": 17,
   "metadata": {
    "collapsed": false
   },
   "outputs": [],
   "source": []
  },
  {
   "cell_type": "markdown",
   "metadata": {},
   "source": [
    "All posts which don't contain the term search:"
   ]
  },
  {
   "cell_type": "code",
   "execution_count": 63,
   "metadata": {
    "collapsed": false
   },
   "outputs": [
    {
     "name": "stdout",
     "output_type": "stream",
     "text": [
      "{\r\n",
      "  \"took\" : 5,\r\n",
      "  \"timed_out\" : false,\r\n",
      "  \"_shards\" : {\r\n",
      "    \"total\" : 5,\r\n",
      "    \"successful\" : 5,\r\n",
      "    \"failed\" : 0\r\n",
      "  },\r\n",
      "  \"hits\" : {\r\n",
      "    \"total\" : 1,\r\n",
      "    \"max_score\" : 0.625,\r\n",
      "    \"hits\" : [ {\r\n",
      "      \"_index\" : \"blog\",\r\n",
      "      \"_type\" : \"post\",\r\n",
      "      \"_id\" : \"1\",\r\n",
      "      \"_score\" : 0.625,\r\n",
      "      \"fields\" : {\r\n",
      "        \"title\" : [ \"On search\" ]\r\n",
      "      }\r\n",
      "    } ]\r\n",
      "  }\r\n",
      "}\r\n"
     ]
    }
   ],
   "source": [
    "! curl 'http://localhost:9200/blog/post/_search?q=+title:search%20-title:distributed&pretty=true&fields=title'"
   ]
  },
  {
   "cell_type": "markdown",
   "metadata": {},
   "source": [
    "A range search on postDate:"
   ]
  },
  {
   "cell_type": "code",
   "execution_count": 65,
   "metadata": {
    "collapsed": false
   },
   "outputs": [
    {
     "name": "stdout",
     "output_type": "stream",
     "text": [
      "{\n",
      "  \"took\" : 7,\n",
      "  \"timed_out\" : false,\n",
      "  \"_shards\" : {\n",
      "    \"total\" : 5,\n",
      "    \"successful\" : 5,\n",
      "    \"failed\" : 0\n",
      "  },\n",
      "  \"hits\" : {\n",
      "    \"total\" : 2,\n",
      "    \"max_score\" : 1.0,\n",
      "    \"hits\" : [ {\n",
      "      \"_index\" : \"blog\",\n",
      "      \"_type\" : \"post\",\n",
      "      \"_id\" : \"2\",\n",
      "      \"_score\" : 1.0,\n",
      "      \"_source\":{  \"user\": \"dilbert\",  \"postDate\": \"2011-12-12\",  \"body\": \"Distribution is hard. Distribution should be easy.\" , \"title\": \"On distributed search\"}\n",
      "    }, {\n",
      "      \"_index\" : \"blog\",\n",
      "      \"_type\" : \"post\",\n",
      "      \"_id\" : \"3\",\n",
      "      \"_score\" : 1.0,\n",
      "      \"_source\":{ \"user\": \"dilbert\",  \"postDate\": \"2011-12-10\",  \"body\": \"Lorem ipsum dolor sit amet, consectetuer adipiscing elit, sed diam nonummy nibh euismod tincidunt ut laoreet dolore magna aliquam erat volutpat\" , \"title\": \"Lorem ipsum\" }\n",
      "    } ]\n",
      "  }\n",
      "}\n"
     ]
    },
    {
     "name": "stderr",
     "output_type": "stream",
     "text": [
      "  % Total    % Received % Xferd  Average Speed   Time    Time     Time  Current\n",
      "                                 Dload  Upload   Total   Spent    Left  Speed\n",
      "\r",
      "  0     0    0     0    0     0      0      0 --:--:-- --:--:-- --:--:--     0\r",
      "100   932  100   798  100   134  78082  13111 --:--:-- --:--:-- --:--:-- 99750\n"
     ]
    }
   ],
   "source": [
    "%%bash\n",
    "curl -XGET 'http://localhost:9200/blog/_search?pretty=true' -d '\n",
    "{ \n",
    "    \"query\" : { \n",
    "        \"range\" : { \n",
    "            \"postDate\" : { \"from\" : \"2011-12-10\", \"to\" : \"2011-12-12\" } \n",
    "        } \n",
    "    } \n",
    "}'"
   ]
  },
  {
   "cell_type": "markdown",
   "metadata": {},
   "source": [
    "----\n",
    "\n",
    "If you choose to use ElasticSearch, you probably won't be making raw http requests. Check out a [Python library](https://www.elastic.co/guide/en/elasticsearch/client/python-api/current/index.html)"
   ]
  },
  {
   "cell_type": "markdown",
   "metadata": {},
   "source": [
    "<br>\n",
    "<br> \n",
    "<br>\n",
    "\n",
    "----"
   ]
  }
 ],
 "metadata": {
  "anaconda-cloud": {},
  "kernelspec": {
   "display_name": "Python [Root]",
   "language": "python",
   "name": "Python [Root]"
  },
  "language_info": {
   "codemirror_mode": {
    "name": "ipython",
    "version": 3
   },
   "file_extension": ".py",
   "mimetype": "text/x-python",
   "name": "python",
   "nbconvert_exporter": "python",
   "pygments_lexer": "ipython3",
   "version": "3.5.1"
  }
 },
 "nbformat": 4,
 "nbformat_minor": 0
}
