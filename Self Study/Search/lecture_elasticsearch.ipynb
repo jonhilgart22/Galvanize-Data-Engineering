{
 "cells": [
  {
   "cell_type": "markdown",
   "metadata": {},
   "source": [
    "<img src=\"https://www.crealytics.com/wp-content/uploads/2014/11/elasticsearch_logo-600x123.png\" style=\"width: 400px;\"/>"
   ]
  },
  {
   "cell_type": "markdown",
   "metadata": {},
   "source": [
    "----\n",
    "Motivating Story\n",
    "----\n",
    "\n",
    "<details><summary>\n",
    "What companies are focused on search?\n",
    "</summary>\n",
    "1. __The Google__  \n",
    "2. Amazon  \n",
    "3. Slack  \n",
    "4. GitHub  \n",
    "5. __ALL COMPANIES__   \n",
    "</details>"
   ]
  },
  {
   "cell_type": "markdown",
   "metadata": {},
   "source": [
    "<br>\n",
    "<br> \n",
    "<br>\n",
    "\n",
    "----\n",
    "<img src=\"http://onegoodcrush.com/wp-content/uploads/2015/02/one-good-crush-app-img-1.jpg\" style=\"width: 400px;\"/>\n",
    "\n",
    "LGBT matching algorithm is __N*N__ more complex than a straight algorithm which for the most part is binary. Instead of Male and Female, we had Male, Transgender Male Post Op, Transgender Male Pre Op, Female, Transgender Female Pre Op, and Transgender Female Post Op. Then imagine all of those can be interested in any number of the subset. Which of course may or may not be interested in them. This gets incredibly complex very quickly.\n",
    "\n",
    "We had all our customers data stored relationally within our Postgres DB. \n",
    "\n",
    "With a set of users around 250,000, our matching algorithm took around __5 days__ to run effectively across Postgres. \n",
    "\n",
    "When we set up job to export to ElasticSearch and run the matching algorithm (which ES can easily do location distance as well) the entire matching algorithm took __5ms__ to run.\n",
    "\n",
    "From 5 days to 5 milliseconds!\n",
    "\n",
    "That's an order of 6 magnitudes (days, to hours, to minutes, to seconds, to tenths of a second, to hundreds of a second) faster.\n",
    "\n",
    "Speed is the main reason to use ElasticSearch\n",
    "https://www.quora.com/Why-and-what-do-most-dating-services-use-Elasticsearch-for"
   ]
  },
  {
   "cell_type": "markdown",
   "metadata": {},
   "source": [
    "----\n",
    "By the end of this lesson, you should be able to:\n",
    "----\n",
    "\n",
    "- Explain why search is important\n",
    "- Describe common search solutions (Lucene, Solr, and ElasticSearch)\n",
    "- List the F&B (features and benefits) of ElasticSearch\n",
    "- Use ElasticSearch on a toy problem"
   ]
  },
  {
   "cell_type": "markdown",
   "metadata": {},
   "source": [
    "----\n",
    "Why is search important?\n",
    "-----\n",
    "\n",
    "There is more and more data. \n",
    "\n",
    "Users has higher and higher expectations.\n",
    "\n",
    "> Users expect search to be simple: They enter a few terms and expect perfectly-organized, relevant results instantly. But behind this simple user experience, complex machinery is at work.\n",
    "\n",
    "Check out [Relevant Search](https://www.manning.com/books/relevant-search). Published June 2016\n",
    "\n",
    "Meno's paradox of inquiry:\n",
    "> \"And how will you inquire into a thing when you are wholly ignorant of what it is? \n",
    "> Even if you happen to bump right into it, how will you know it is the thing you didn't know?\"  "
   ]
  },
  {
   "cell_type": "markdown",
   "metadata": {},
   "source": [
    "----\n",
    "What are the main elements of search?\n",
    "----\n",
    "\n",
    "<details><summary>\n",
    "Click here for some...\n",
    "</summary>\n",
    "- Speed  \n",
    "- Accuracy (Precision)  \n",
    "- Ease of use   \n",
    "- Comprehensiveness  \n",
    "- Freshness  \n",
    "</details>"
   ]
  },
  {
   "cell_type": "markdown",
   "metadata": {},
   "source": [
    "---\n",
    "Search Solutions\n",
    "----\n",
    "\n",
    "1. Lucene\n",
    "2. Solr\n",
    "3. ElasticSearch"
   ]
  },
  {
   "cell_type": "markdown",
   "metadata": {},
   "source": [
    "<img src=\"https://cloudant.com/wp-content/uploads/lucene_0.png\" style=\"width: 400px;\"/>\n",
    "\n",
    "Lucene is an indexing engine for full-text search. \n",
    "\n",
    "It handles the on-disk storage, indexing, and searching of documents.\n",
    "\n",
    "At the core of Lucene's logical architecture is the idea of a document containing fields of text. This flexibility allows Lucene's API to be independent of the file format. Suck it pdfs and Word!\n",
    "\n",
    "It is a \"low-level\" search library (no semantic capabilities) but is fast and robust. People build other solutions on top.\n",
    "\n",
    "<img src=\"http://gopaldas.org/wp-content/uploads/2015/10/lucence-flow.png\" style=\"width: 400px;\"/>"
   ]
  },
  {
   "cell_type": "markdown",
   "metadata": {},
   "source": [
    "----\n",
    "<img src=\"http://lucene.apache.org/solr/assets/identity/Solr_Logo_on_white.png\" style=\"width: 400px;\"/>\n",
    "<br>\n",
    "<br>\n",
    "Solr is _enterprise_ search server.\n",
    "\n",
    "You put documents in it (called \"indexing\") via JSON, XML, CSV or binary over HTTP. You query its REST-like API via HTTP GET and receive JSON, XML, CSV or binary results.\n",
    "\n",
    "### Features:\n",
    "\n",
    "- full-text search\n",
    "- hit highlighting\n",
    "- faceted search\n",
    "- dynamic clustering\n",
    "- Geo-spatial search, including multiple points per documents and polygons\n",
    "- database integration\n",
    "- rich document (e.g., Word, PDF) handling\n",
    "- real-time indexing\n",
    "- automated management of large clusters through ZooKeeper"
   ]
  },
  {
   "cell_type": "markdown",
   "metadata": {},
   "source": [
    "----\n",
    "ElasticSearch\n",
    "----\n",
    "\n",
    "<img src=\"https://static-www.elastic.co/assets/bltfdc1abb6ea9e2157/icon-elasticsearch.svg?q=208\" style=\"width: 400px;\"/>"
   ]
  },
  {
   "cell_type": "markdown",
   "metadata": {},
   "source": [
    "----\n",
    "The 5 I's for ElasticSearch\n",
    "----\n",
    "\n",
    "1. Information - What is it?\n",
    "2. Inspiration - Why is it important?\n",
    "3. Install - How do I set it up?\n",
    "4. Implementation - How do I use it?\n",
    "5. Integration - How does it become automatic?"
   ]
  },
  {
   "cell_type": "markdown",
   "metadata": {},
   "source": [
    "----\n",
    "What is ElasticSearch?\n",
    "----\n"
   ]
  },
  {
   "cell_type": "code",
   "execution_count": 1,
   "metadata": {
    "collapsed": false
   },
   "outputs": [
    {
     "data": {
      "image/jpeg": "[encoded data removed]",
      "text/html": [
       "\n",
       "        <iframe\n",
       "            width=\"400\"\n",
       "            height=\"300\"\n",
       "            src=\"https://www.youtube.com/embed/sKnkQSec1U0\"\n",
       "            frameborder=\"0\"\n",
       "            allowfullscreen\n",
       "        ></iframe>\n",
       "        "
      ],
      "text/plain": [
       "<IPython.lib.display.YouTubeVideo at 0x103e0bed0>"
      ]
     },
     "execution_count": 1,
     "metadata": {},
     "output_type": "execute_result"
    }
   ],
   "source": [
    "from IPython.display import YouTubeVideo\n",
    "\n",
    "YouTubeVideo(\"sKnkQSec1U0\")"
   ]
  },
  {
   "cell_type": "markdown",
   "metadata": {},
   "source": [
    "Elasticsearch is a search server based on Lucene. \n",
    "\n",
    "<img src=\"https://aphyr.com/data/posts/317/elasticsearch-overview.jpg\" style=\"width: 400px;\"/>\n",
    "\n",
    "It is a full-text search engine for schema-free JSON documents with a RESTful web interface. \n",
    "\n",
    "It is built to be distributed and multitenant-capable.\n",
    "\n",
    "Elasticsearch is developed in Java and is released with an Apache open source licence."
   ]
  },
  {
   "cell_type": "markdown",
   "metadata": {},
   "source": [
    "----\n",
    "Why is it important?\n",
    "---\n",
    "\n",
    "De facto standard, especially among startups\n",
    "\n",
    "<img src=\"images/elasticsearch_over_time.png\" style=\"width: 400px;\"/>"
   ]
  },
  {
   "cell_type": "markdown",
   "metadata": {},
   "source": [
    "---\n",
    "APIs\n",
    "---\n",
    "\n",
    "1. HTTP RESTful\n",
    "2. Native Java"
   ]
  },
  {
   "cell_type": "markdown",
   "metadata": {},
   "source": [
    "### Remember (almost) everything data speaks:\n",
    "\n",
    "1. REST /JSON\n",
    "2. SQL"
   ]
  },
  {
   "cell_type": "markdown",
   "metadata": {},
   "source": [
    "----\n",
    "Distrubtion \n",
    "----\n",
    "\n",
    "As with many distributed systems, Elasticsearch scales in two axes: \n",
    "\n",
    "1. Sharding\n",
    "2. Replication\n",
    "\n",
    "The document space is sharded–sliced up–into many disjoint chunks, and each chunk allocated to different nodes. Adding more nodes allows Elasticsearch to store a document space larger than any single node could handle, and offers __quasilinear__ increases in throughput and capacity with additional nodes. \n",
    "\n",
    "For fault-tolerance, each shard is replicated to multiple nodes. If one node fails or becomes unavailable, another can take over. \n",
    "\n",
    "There is an additional distinction between nodes which can process writes, and those which are read-only copies – termed “data nodes”\n",
    "\n",
    "<br>\n",
    "<br>\n",
    "\n",
    "Learn more [here](https://aphyr.com/posts/317-call-me-maybe-elasticsearch) and [here](http://insightdataengineering.com/blog/elasticsearch-crud/)."
   ]
  },
  {
   "cell_type": "markdown",
   "metadata": {},
   "source": [
    "----\n",
    "What are the most common functions implemented using Elasticsearch?\n",
    "-----\n",
    "\n",
    "- Log indexing and searching\n",
    "- Full-text search\n",
    "- Analytical/report applications\n",
    "\n",
    "For example, empower Product Managers to dig into the data themselves"
   ]
  },
  {
   "cell_type": "markdown",
   "metadata": {},
   "source": [
    "----\n",
    "How do I set it up? How do I use it?\n",
    "----\n",
    "\n",
    "See Lab"
   ]
  },
  {
   "cell_type": "markdown",
   "metadata": {},
   "source": [
    "---\n",
    "ElasticSearch Query DSL (Another freaking DSL)\n",
    "----\n",
    "\n",
    "https://www.elastic.co/guide/en/elasticsearch/reference/current/query-dsl.html"
   ]
  },
  {
   "cell_type": "markdown",
   "metadata": {},
   "source": [
    "----\n",
    "Integration - How does it become automatic?\n",
    "-----\n",
    "\n",
    "Out of scope!\n",
    "\n",
    "### Where to go next?\n",
    "\n",
    "[ELK stack](https://www.elastic.co/webinars/introduction-elk-stack)\n",
    "\n",
    "<img src=\"https://dab1nmslvvntp.cloudfront.net/wp-content/uploads/2016/05/1462437187elk-logo.png\" style=\"width: 400px;\"/>\n",
    "\n",
    "- Elasticsearch - You know that one\n",
    "- Logstash -  a tool for managing events and logs. You can use it to collect logs, parse them, and store them for later use (like, for searching)\n",
    "- Kibana - Explore and visualize data "
   ]
  },
  {
   "cell_type": "markdown",
   "metadata": {},
   "source": [
    "---\n",
    "Check for understanding\n",
    "---\n",
    "\n",
    "<details><summary>\n",
    "What are the main general awesome things about ElasticSearch?\n",
    "</summary>\n",
    "- Document oriented  \n",
    "- RESTful HTTP API  \n",
    "- Open source  \n",
    "- distributed  \n",
    "</details>\n",
    "\n",
    "<br>\n",
    "<br>\n",
    "\n",
    "<details><summary>\n",
    "What are the imporatant differences between Solr and ElasticSearch?\n",
    "</summary>\n",
    "__Not much__: They have more or less feature-parity and similar performace.  \n",
    "<br>\n",
    "ElasticSearch is easier to learn (but might lead to Dunning-Kruger effect).\n",
    "</details>"
   ]
  },
  {
   "cell_type": "markdown",
   "metadata": {},
   "source": [
    "----\n",
    "Summary\n",
    "----\n",
    "\n",
    "- Search is important (aka, people pay $$$ for it) and still not a \"solved\" problem\n",
    "- Search is even more important in a Big Data / low information density world\n",
    "- All (functional) search systems are built on Lucene which indexes documents\n",
    "- Solr is a enterprise solution for higher level search function\n",
    "- ElasticSearch is the most popular search solution\n",
    "- It works very well, is fairly easy to use, and has almost all the features you need\n",
    "- If you really care about search learn Java!"
   ]
  },
  {
   "cell_type": "markdown",
   "metadata": {},
   "source": [
    "<br>\n",
    "<br> \n",
    "<br>\n",
    "\n",
    "----"
   ]
  }
 ],
 "metadata": {
  "anaconda-cloud": {},
  "kernelspec": {
   "display_name": "Python [Root]",
   "language": "python",
   "name": "Python [Root]"
  },
  "language_info": {
   "codemirror_mode": {
    "name": "ipython",
    "version": 3
   },
   "file_extension": ".py",
   "mimetype": "text/x-python",
   "name": "python",
   "nbconvert_exporter": "python",
   "pygments_lexer": "ipython3",
   "version": "3.5.1"
  }
 },
 "nbformat": 4,
 "nbformat_minor": 0
}
