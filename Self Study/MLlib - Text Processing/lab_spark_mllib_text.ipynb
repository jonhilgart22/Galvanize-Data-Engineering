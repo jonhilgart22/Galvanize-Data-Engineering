{
 "cells": [
  {
   "cell_type": "markdown",
   "metadata": {
    "collapsed": true
   },
   "source": [
    "----\n",
    "Spark MLlib for Text Processing\n",
    "----\n",
    "\n",
    "1. Word Count\n",
    "2. Bigrams\n",
    "3. word2vec\n",
    "4. __OPTIONAL__: Entity Resolution"
   ]
  },
  {
   "cell_type": "markdown",
   "metadata": {},
   "source": [
    "----\n",
    "1. Word Count\n",
    "----\n",
    "\n",
    "![](https://s-media-cache-ak0.pinimg.com/736x/bb/8a/1d/bb8a1d4a248005c667f9229e6cbae8c2.jpg)"
   ]
  },
  {
   "cell_type": "markdown",
   "metadata": {},
   "source": [
    "__Goal__: Find top 15 words used by Shakespeare.\n",
    "\n",
    "Based on this Databricks notebook - https://docs.cloud.databricks.com/docs/latest/courses/Introduction%20to%20Big%20Data%20with%20Apache%20Spark%20(CS100-1x)/Module%202:%20Word%20Count%20Lab.html\n",
    "\n",
    "### Tips:\n",
    "\n",
    "- Skim Parts 1-3"
   ]
  },
  {
   "cell_type": "markdown",
   "metadata": {
    "collapsed": true
   },
   "source": [
    "---\n",
    "2. Bigrams\n",
    "----\n",
    "\n",
    "Find the top 15 bigrams used by Shakespeare.\n",
    "\n",
    "### Tips:\n",
    "\n",
    "- What goes into a data structure for bigram counts?\n",
    "\n",
    "<br>\n",
    "<br>\n",
    "\n",
    "<details><summary>\n",
    "Click here for another hint...\n",
    "</summary>\n",
    "Use `reduceByKey` and `sortByKey`\n",
    "</details>"
   ]
  },
  {
   "cell_type": "markdown",
   "metadata": {
    "collapsed": true
   },
   "source": [
    "---\n",
    "3. word2vec\n",
    "----\n",
    "\n",
    "Fit a word2vec model on Shakespheare to find the 5 most similar words to \"Hamlet\"."
   ]
  },
  {
   "cell_type": "markdown",
   "metadata": {
    "collapsed": true
   },
   "source": [
    "----\n",
    "4. Entity Resolution\n",
    "---\n",
    "\n",
    "__Goal__: Peform record linkage acorss 2 different product datasets.\n",
    "\n",
    "Based on this Databricks notebook -  https://docs.cloud.databricks.com/docs/latest/courses/Introduction%20to%20Big%20Data%20with%20Apache%20Spark%20(CS100-1x)/Solutions/Module%204:%20Text%20Analysis%20and%20Entity%20Resolution%20Lab%20Solutions.html\n",
    "\n",
    "### Tips:\n",
    "\n",
    "- Only do Parts 1-4"
   ]
  },
  {
   "cell_type": "markdown",
   "metadata": {
    "collapsed": true
   },
   "source": [
    "<br>\n",
    "<br> \n",
    "<br>\n",
    "\n",
    "----"
   ]
  }
 ],
 "metadata": {
  "anaconda-cloud": {},
  "kernelspec": {
   "display_name": "Python [default]",
   "language": "python",
   "name": "python2"
  },
  "language_info": {
   "codemirror_mode": {
    "name": "ipython",
    "version": 2
   },
   "file_extension": ".py",
   "mimetype": "text/x-python",
   "name": "python",
   "nbconvert_exporter": "python",
   "pygments_lexer": "ipython2",
   "version": "2.7.12"
  }
 },
 "nbformat": 4,
 "nbformat_minor": 0
}
