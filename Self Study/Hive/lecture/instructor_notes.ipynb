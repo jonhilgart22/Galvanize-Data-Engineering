{
 "cells": [
  {
   "cell_type": "markdown",
   "metadata": {},
   "source": [
    "---\n",
    "Announcments\n",
    "====\n",
    "\n",
    "1. Faculty updates\n",
    "1. coursework.galvanize.com\n",
    "2. final project\n",
    "3. internship"
   ]
  },
  {
   "cell_type": "markdown",
   "metadata": {},
   "source": [
    "Eric Williams\n",
    "\n",
    "Director of Data Science at Omada Health\n",
    "\n",
    "https://www.linkedin.com/in/bigedata?authType=NAME_SEARCH&authToken=cAjn&locale=en_US&trk=tyah&trkInfo=clickedVertical%3Amynetwork%2CclickedEntityId%3A249078792%2CauthType%3ANAME_SEARCH%2Cidx%3A1-1-1%2CtarId%3A1454523573162%2Ctas%3Aeric%20\n",
    "\n",
    "https://boards.greenhouse.io/omadahealth\n",
    "\n",
    "https://boards.greenhouse.io/omadahealth/jobs/147999"
   ]
  }
 ],
 "metadata": {
  "kernelspec": {
   "display_name": "Python 2",
   "language": "python",
   "name": "python2"
  },
  "language_info": {
   "codemirror_mode": {
    "name": "ipython",
    "version": 2
   },
   "file_extension": ".py",
   "mimetype": "text/x-python",
   "name": "python",
   "nbconvert_exporter": "python",
   "pygments_lexer": "ipython2",
   "version": "2.7.11"
  }
 },
 "nbformat": 4,
 "nbformat_minor": 0
}
