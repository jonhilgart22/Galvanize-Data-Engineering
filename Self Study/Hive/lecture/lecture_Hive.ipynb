{
 "cells": [
  {
   "cell_type": "markdown",
   "metadata": {},
   "source": [
    "---\n",
    "Hive: SQL on Hadoop\n",
    "====\n",
    "\n",
    "![](http://hortonworks.com/wp-content/uploads/2013/05/hive_logo.png)"
   ]
  },
  {
   "cell_type": "markdown",
   "metadata": {},
   "source": [
    "By the end of this session, you should know:\n",
    "---\n",
    "\n",
    "- What Hive is and why it is important\n",
    "- The architecture of Hive\n",
    "- How to write Hive queries\n",
    "- The limitations of Hive"
   ]
  },
  {
   "cell_type": "markdown",
   "metadata": {},
   "source": [
    "----\n",
    "Why Hive?\n",
    "--------\n",
    "\n",
    "Instead of writing MapReduce programs, what if we could write SQL?\n",
    "\n",
    "![](https://media.giphy.com/media/B33saVGoouwNi/giphy.gif)\n"
   ]
  },
  {
   "cell_type": "markdown",
   "metadata": {},
   "source": [
    "---\n",
    "Hive Overvall\n",
    "---\n",
    "\n",
    "Step 1: Write SQL in Hive\n",
    "\n",
    "Step 2: The SQL is then translated to MapReduce for you\n",
    "\n",
    "Step 3:\n",
    "![](http://www.reactiongifs.com/r/suitm.gif)"
   ]
  },
  {
   "cell_type": "markdown",
   "metadata": {},
   "source": [
    "Hive Example\n",
    "------------\n",
    "\n",
    "```sql\n",
    "SELECT user.*\n",
    "FROM user\n",
    "WHERE user.active = 1;\n",
    "```\n",
    "\n",
    "![](https://media.giphy.com/media/amZfgEVrf84Xm/giphy.gif)\n"
   ]
  },
  {
   "cell_type": "markdown",
   "metadata": {},
   "source": [
    "----\n",
    "Hive definition\n",
    "----\n",
    "\n",
    "> The Apache Hive™ data warehouse software facilitates querying and managing large datasets residing in distributed storage. Hive provides a mechanism to project structure onto this data and query the data using a SQL-like language called HiveQL. At the same time this language also allows traditional map/reduce programmers to plug in their custom mappers and reducers when it is inconvenient or inefficient to express this logic in HiveQL.\n",
    "\n",
    "![](http://d287f0h5fel5hu.cloudfront.net/blog/wp-content/uploads/2014/09/pighive3.png)"
   ]
  },
  {
   "cell_type": "markdown",
   "metadata": {},
   "source": [
    "---\n",
    "Hive 101\n",
    "---- \n",
    "\n",
    "- Hive was developed at Facebook.\n",
    "- Data analysts (and lazy data scientists) can use SQL instead of MapReduce to process data."
   ]
  },
  {
   "cell_type": "markdown",
   "metadata": {},
   "source": [
    "---\n",
    "Hive Architecture: Simple\n",
    "---\n",
    "![](http://image.slidesharecdn.com/hiveauthorization2-130628125713-phpapp01/95/apache-hive-authorization-models-3-638.jpg?cb=1372424367)\n",
    "\n",
    "- Hive stores metadata about tables in the *MetaStore*\n",
    "\n",
    "- When a SQL or HiveQL query is submitted to Hive it translates it to\n",
    "  MapReduce, using the MetaStore.\n",
    "\n",
    "- Then it submits it to the cluster as a MapReduce job.\n"
   ]
  },
  {
   "cell_type": "markdown",
   "metadata": {},
   "source": [
    "---\n",
    "Hive Architecture: Not Simple\n",
    "---\n",
    "\n",
    "![](http://image.slidesharecdn.com/hive-20110630junhocho-110701075800-phpapp01/95/replacing-telco-dbdw-to-hadoop-and-hive-40-728.jpg?cb=1309507873)"
   ]
  },
  {
   "cell_type": "markdown",
   "metadata": {},
   "source": [
    "The MetaStore is RDMS\n",
    "----\n",
    "\n",
    "Derby by default.\n",
    "\n",
    "Most people roll with MySQL."
   ]
  },
  {
   "cell_type": "markdown",
   "metadata": {},
   "source": [
    "Points to Ponder\n",
    "--------\n",
    "\n",
    "<details><summary>\n",
    "Why does the MetaStore not use HDFS to store the metadata?\n",
    "</summary>\n",
    "1. The metadata changes constantly.<br>\n",
    "2. The metadata changes every time you add a new table or alter a table.<br>\n",
    "3. HDFS does not allow modifying data.<br>\n",
    "</details>\n",
    "\n",
    "<details><summary>\n",
    "What is the benefit of having a shared MySQL-backed MetaStore instead\n",
    "of each user having his/her own Derby-backed MetaStore?\n",
    "</summary>\n",
    "1. Sharing the MetaStore means everyone uses the same table and column names.<br>\n",
    "2. This makes the SQL consistent and portable across the organization.<br>\n",
    "</details>"
   ]
  },
  {
   "cell_type": "markdown",
   "metadata": {},
   "source": [
    "---\n",
    "Q: How can we analyze Big Data without writing MapReduce jobs? <br>\n",
    "---\n",
    "A: Dark Magic\n",
    "---\n",
    "\n",
    "![](http://randomwallpapers.net/dark-magic-fantasy-wizard-football-cool-1920x1200-wallpaper121552.jpg)\n",
    "\n",
    "- Apache Hive runs SQL queries against large datasets.\n",
    "\n",
    "- Datasets can be in HDFS, S3, and other Hadoop-compatible filesystems.\n",
    "\n",
    "- Used for queries against data without writing Java/Python code.\n",
    "\n",
    "- Used for ad hoc queries against data without schemas."
   ]
  },
  {
   "cell_type": "markdown",
   "metadata": {},
   "source": [
    "----\n",
    "Hive vs RDBMS\n",
    "-------------\n",
    "\n",
    "What are the pros and cons of Hive vs traditional databases (RDBMS)?\n",
    "\n",
    "Hive                                  |RDBMS\n",
    "----                                  |-----\n",
    "HiveQL (subset of SQL-92)             |SQL Interface\n",
    "Schema On Read                        |Schema On Write\n",
    "Write Once, Read Many Times           |Read Many Times, Write Many Times\n",
    "Optimal for static data               |Optimal for dynamic data\n",
    "Transactions not supported            |Transactions supported\n",
    "Highly distributed processing via MR  |Limited distributed processing\n",
    "Handles 100s of Petabytes             |Handles 10s of Terabytes\n",
    "Uses commodity hardware               |Uses proprietary hardware\n",
    "Slow response time                    |Fast response time\n",
    "For batch processing                  |For realtime processing\n",
    "\n",
    "\n"
   ]
  },
  {
   "cell_type": "markdown",
   "metadata": {},
   "source": [
    "----\n",
    "Big Data SQL\n",
    "-------------\n",
    "\n",
    "What other Big Data SQL technologies are out there? \n",
    "Why should I useHive?\n",
    "\n",
    "Project            |Elevator Pitch\n",
    "-------            |--------------\n",
    "Hive               |Mature, full-featured\n",
    "Hive on Tez        |Hive optimized over MapReduce\n",
    "Hive on Spark      |Hive optimized using Spark\n",
    "Spark SQL          |SQL from scratch on Spark; not as full-featured\n",
    "Shark              |Hive on Spark; abandoned\n",
    "Impala             |SQL without MapReduce using C++; focus on speed\n",
    "Phoenix            |SQL over HBase\n",
    "Trafodion          |SQL engine by HP\n",
    "Presto             |SQL engine by team at HP\n",
    "Drill              |SQL engine by MapR, does well on some queries\n",
    "Flink              |SQL engine with support for realtime data"
   ]
  },
  {
   "cell_type": "markdown",
   "metadata": {},
   "source": [
    "---\n",
    "Summary\n",
    "---\n",
    "\n",
    "- Fact: More people know SQL than MapReduce\n",
    "- Fact: Declarative programming is easier than functional programming\n",
    "- Solution: Hive, decalarative SQL translated tanslated to MapReduce\n",
    "- Hive architecture sits on top of MapReduce\n",
    "- Write in SQL-ish language (HiveQL)\n",
    "- Still a (sloooooow) batch system"
   ]
  }
 ],
 "metadata": {
  "kernelspec": {
   "display_name": "Python 2",
   "language": "python",
   "name": "python2"
  },
  "language_info": {
   "codemirror_mode": {
    "name": "ipython",
    "version": 2
   },
   "file_extension": ".py",
   "mimetype": "text/x-python",
   "name": "python",
   "nbconvert_exporter": "python",
   "pygments_lexer": "ipython2",
   "version": "2.7.11"
  }
 },
 "nbformat": 4,
 "nbformat_minor": 0
}
