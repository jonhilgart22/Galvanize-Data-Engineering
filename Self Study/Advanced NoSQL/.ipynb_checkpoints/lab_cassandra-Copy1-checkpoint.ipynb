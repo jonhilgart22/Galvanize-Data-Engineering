{
 "cells": [
  {
   "cell_type": "markdown",
   "metadata": {},
   "source": [
    "---\n",
    "Cassandra\n",
    "=====\n",
    "\n",
    "![](http://s2.quickmeme.com/img/60/6008d9ee0246ff2c33c0a17f7b38ce76e838fa1455bb775c934c25d3d08411ce.jpg)\n",
    "\n",
    "Overview\n",
    "----\n",
    "1. Install somehting\n",
    "2. Get familar with using Cassandra\n",
    "2. More installing and setup\n",
    "3. Query\n",
    "4. Update\n",
    "5. ORM fun"
   ]
  },
  {
   "cell_type": "markdown",
   "metadata": {},
   "source": [
    "Step 1: Install Cassandra Driver for Python\n",
    "-------------------------------------------"
   ]
  },
  {
   "cell_type": "code",
   "execution_count": 1,
   "metadata": {
    "collapsed": true
   },
   "outputs": [],
   "source": [
    "try:\n",
    "    from cassandra.cluster import Cluster\n",
    "except ImportError:\n",
    "    import pip\n",
    "    pip.main([\"install\", \"cassandra-driver\"]) # Be patient this might take a while\n",
    "    from cassandra.cluster import Cluster"
   ]
  },
  {
   "cell_type": "markdown",
   "metadata": {},
   "source": [
    "-----\n",
    "Step 2: Play with Cassandra while you are waiting\n",
    "-----------\n",
    "\n",
    "[Do Developer Walkthrough online](http://www.planetcassandra.org/try-cassandra/)"
   ]
  },
  {
   "cell_type": "markdown",
   "metadata": {},
   "source": [
    "-----\n",
    "Step 3: Install and setup Cassandra\n",
    "------------\n",
    "\n",
    "At the command line:"
   ]
  },
  {
   "cell_type": "markdown",
   "metadata": {
    "collapsed": true
   },
   "source": [
    "```bash\n",
    "# Install\n",
    "$ brew install cassandra\n",
    "\n",
    "# Start server\n",
    "$ cassandra\n",
    "\n",
    "# Login in another terminal window\n",
    "$ cqlsh\n",
    "```"
   ]
  },
  {
   "cell_type": "markdown",
   "metadata": {},
   "source": [
    "In the cql shell:"
   ]
  },
  {
   "cell_type": "markdown",
   "metadata": {},
   "source": [
    "```sql\n",
    "\n",
    "CREATE KEYSPACE demo WITH REPLICATION = { 'class' : 'SimpleStrategy', 'replication_factor' : 1 };\n",
    "\n",
    "use demo;\n",
    "\n",
    "CREATE TABLE users (\n",
    "  firstname text,\n",
    "  lastname text,\n",
    "  age int,\n",
    "  email text,\n",
    "  city text,\n",
    "PRIMARY KEY (lastname));\n",
    "\n",
    "```"
   ]
  },
  {
   "cell_type": "markdown",
   "metadata": {
    "collapsed": true
   },
   "source": [
    "Step 4: Query Cassandra\n",
    "------\n",
    "\n",
    "Walk through [Getting Started with Apache Cassandra and Python (Part I)](https://academy.datastax.com/resources/getting-started-apache-cassandra-and-python-part-i?unit=1984)"
   ]
  },
  {
   "cell_type": "code",
   "execution_count": 2,
   "metadata": {
    "collapsed": true
   },
   "outputs": [],
   "source": [
    "cluster = Cluster()\n",
    "session = cluster.connect('demo')"
   ]
  },
  {
   "cell_type": "code",
   "execution_count": 3,
   "metadata": {
    "collapsed": false
   },
   "outputs": [
    {
     "data": {
      "text/plain": [
       "<cassandra.cluster.ResultSet at 0x1041e0310>"
      ]
     },
     "execution_count": 3,
     "metadata": {},
     "output_type": "execute_result"
    }
   ],
   "source": [
    "session.execute(\"\"\"\n",
    "\n",
    "insert into users (lastname, age, city, email, firstname) values ('Jones', 35, 'Austin', 'bob@example.com', 'Bob')\n",
    "\n",
    "\"\"\")"
   ]
  },
  {
   "cell_type": "code",
   "execution_count": 4,
   "metadata": {
    "collapsed": false
   },
   "outputs": [
    {
     "name": "stdout",
     "output_type": "stream",
     "text": [
      "Bob 35\n"
     ]
    }
   ],
   "source": [
    "result = session.execute(\"select * from users where lastname='Jones' \")[0]\n",
    "print result.firstname, result.age"
   ]
  },
  {
   "cell_type": "markdown",
   "metadata": {},
   "source": [
    "..."
   ]
  },
  {
   "cell_type": "markdown",
   "metadata": {},
   "source": [
    "----\n",
    "Step 5: Update Cassandra\n",
    "----\n",
    "\n",
    "You must create a DataStax account for [Part II](https://academy.datastax.com/resources/getting-started-apache-cassandra-and-python-part-i?unit=2211)."
   ]
  },
  {
   "cell_type": "code",
   "execution_count": 14,
   "metadata": {
    "collapsed": true
   },
   "outputs": [],
   "source": [
    "cluster = Cluster(\n",
    "  contact_points=['127.0.0.1'],\n",
    "  )\n",
    "session = cluster.connect('demo')"
   ]
  },
  {
   "cell_type": "code",
   "execution_count": 17,
   "metadata": {
    "collapsed": false
   },
   "outputs": [],
   "source": [
    "# Insert one record into the users table\n",
    "prepared_stmt = session.prepare ( \"INSERT INTO users (lastname, age, city, email, firstname) VALUES (?, ?, ?, ?, ?)\")\n",
    "bound_stmt = prepared_stmt.bind(['Jones', 35, 'Austin', 'bob@example.com', 'Bob'])\n",
    "stmt = session.execute(bound_stmt)"
   ]
  },
  {
   "cell_type": "code",
   "execution_count": 18,
   "metadata": {
    "collapsed": false
   },
   "outputs": [
    {
     "name": "stdout",
     "output_type": "stream",
     "text": [
      "Bob 35\n"
     ]
    }
   ],
   "source": [
    "# Use select to get the user we just entered\n",
    "prepared_stmt = session.prepare ( \"SELECT * FROM users WHERE (lastname = ?)\")\n",
    "bound_stmt = prepared_stmt.bind(['Jones'])\n",
    "stmt = session.execute(bound_stmt)\n",
    "for x in stmt: \n",
    "    print x.firstname, x.age\n"
   ]
  },
  {
   "cell_type": "code",
   "execution_count": 19,
   "metadata": {
    "collapsed": true
   },
   "outputs": [],
   "source": [
    "# Update the same user with a new age\n",
    "prepared_stmt = session.prepare (\"UPDATE users SET age = ? WHERE (lastname = ?)\")\n",
    "bound_stmt = prepared_stmt.bind([36,'Jones'])\n",
    "stmt = session.execute(bound_stmt)"
   ]
  },
  {
   "cell_type": "code",
   "execution_count": 20,
   "metadata": {
    "collapsed": true
   },
   "outputs": [],
   "source": [
    "# Select and show the change\n",
    "prepared_stmt = session.prepare ( \"SELECT * FROM users WHERE (lastname = ?)\")\n",
    "bound_stmt = prepared_stmt.bind(['Jone'])\n",
    "stmt = session.execute(bound_stmt)\n",
    "for x in stmt: \n",
    "    print x.firstname, x.age"
   ]
  },
  {
   "cell_type": "code",
   "execution_count": 21,
   "metadata": {
    "collapsed": true
   },
   "outputs": [],
   "source": [
    "# Delete the user from the users table\n",
    "prepared_stmt = session.prepare (\"DELETE FROM users WHERE (lastname = ?)\")\n",
    "bound_stmt = prepared_stmt.bind(['Jones'])\n",
    "stmt = session.execute(bound_stmt)"
   ]
  },
  {
   "cell_type": "code",
   "execution_count": 23,
   "metadata": {
    "collapsed": true
   },
   "outputs": [],
   "source": [
    "# Show that the user is gone\n",
    "results = session.execute(\"SELECT * FROM users\")\n",
    "for x in results: \n",
    "    print x.firstname, x.age"
   ]
  },
  {
   "cell_type": "markdown",
   "metadata": {},
   "source": [
    "----\n",
    "Step 6: Use an ORM for Cassandra\n",
    "----\n",
    "\n",
    "[ORM refresher](https://www.fullstackpython.com/object-relational-mappers-orms.html)\n",
    "\n",
    "[Complete Part III of DataStax demo](https://academy.datastax.com/resources/getting-started-apache-cassandra-and-python-part-i?unit=2214)"
   ]
  },
  {
   "cell_type": "code",
   "execution_count": 2,
   "metadata": {
    "collapsed": false
   },
   "outputs": [],
   "source": [
    "try:\n",
    "    from cqlengine import columns\n",
    "    from cqlengine.models import Model\n",
    "except ImportError:\n",
    "    import pip\n",
    "    pip.main([\"install\", \"cqlengine\"])\n",
    "    from cqlengine import columns\n",
    "    from cqlengine.models import Model"
   ]
  },
  {
   "cell_type": "code",
   "execution_count": 32,
   "metadata": {
    "collapsed": true
   },
   "outputs": [],
   "source": [
    "# Connect to the demo keyspace on our cluster running at 127.0.0.1\n",
    "connection.setup(['127.0.0.1'], \"demo\")"
   ]
  },
  {
   "cell_type": "code",
   "execution_count": 33,
   "metadata": {
    "collapsed": true
   },
   "outputs": [],
   "source": [
    "# Define a model\n",
    "class Users(Model):\n",
    "  firstname = columns.Text()\n",
    "  age = columns.Integer()\n",
    "  city = columns.Text()\n",
    "  email = columns.Text()\n",
    "  lastname = columns.Text(primary_key=True)\n",
    "  def __repr__(self):\n",
    "    return '%s %d' % (self.firstname, self.age)"
   ]
  },
  {
   "cell_type": "code",
   "execution_count": 34,
   "metadata": {
    "collapsed": true
   },
   "outputs": [],
   "source": [
    "from cqlengine.management import sync_table"
   ]
  },
  {
   "cell_type": "code",
   "execution_count": null,
   "metadata": {
    "collapsed": false
   },
   "outputs": [],
   "source": [
    "# Sync your model with your cql table\n",
    "sync_table(Users)"
   ]
  },
  {
   "cell_type": "code",
   "execution_count": 37,
   "metadata": {
    "collapsed": false
   },
   "outputs": [
    {
     "data": {
      "text/plain": [
       "Bob 35"
      ]
     },
     "execution_count": 37,
     "metadata": {},
     "output_type": "execute_result"
    }
   ],
   "source": [
    "# Create a row of user info for Bob\n",
    "Users.create(firstname='Bob', age=35, city='Austin', email='bob@example.com', lastname='Jones')"
   ]
  },
  {
   "cell_type": "code",
   "execution_count": 38,
   "metadata": {
    "collapsed": false
   },
   "outputs": [
    {
     "name": "stdout",
     "output_type": "stream",
     "text": [
      "Bob 35\n"
     ]
    }
   ],
   "source": [
    "# Read Bob’s information back and print\n",
    "q=Users.get(lastname='Jones')\n",
    "\n",
    "print q"
   ]
  },
  {
   "cell_type": "code",
   "execution_count": 40,
   "metadata": {
    "collapsed": false
   },
   "outputs": [
    {
     "name": "stdout",
     "output_type": "stream",
     "text": [
      "Bob 36\n"
     ]
    }
   ],
   "source": [
    "# Update Bob’s age and then print to show the change\n",
    "q.update(age=36)\n",
    "\n",
    "print q"
   ]
  },
  {
   "cell_type": "code",
   "execution_count": 42,
   "metadata": {
    "collapsed": false
   },
   "outputs": [
    {
     "ename": "QueryException",
     "evalue": "The partition key must be defined on delete queries",
     "output_type": "error",
     "traceback": [
      "\u001b[0;31m---------------------------------------------------------------------------\u001b[0m",
      "\u001b[0;31mQueryException\u001b[0m                            Traceback (most recent call last)",
      "\u001b[0;32m<ipython-input-42-099efb3031c5>\u001b[0m in \u001b[0;36m<module>\u001b[0;34m()\u001b[0m\n\u001b[1;32m      1\u001b[0m \u001b[0;31m# Delete Bob, then try to print all rows to show the user is gone\u001b[0m\u001b[0;34m\u001b[0m\u001b[0;34m\u001b[0m\u001b[0m\n\u001b[0;32m----> 2\u001b[0;31m \u001b[0mq\u001b[0m\u001b[0;34m.\u001b[0m\u001b[0mdelete\u001b[0m\u001b[0;34m(\u001b[0m\u001b[0;34m)\u001b[0m\u001b[0;34m\u001b[0m\u001b[0m\n\u001b[0m\u001b[1;32m      3\u001b[0m \u001b[0;34m\u001b[0m\u001b[0m\n\u001b[1;32m      4\u001b[0m \u001b[0mq\u001b[0m\u001b[0;34m=\u001b[0m\u001b[0mUsers\u001b[0m\u001b[0;34m.\u001b[0m\u001b[0mobjects\u001b[0m\u001b[0;34m(\u001b[0m\u001b[0;34m)\u001b[0m\u001b[0;34m\u001b[0m\u001b[0m\n\u001b[1;32m      5\u001b[0m \u001b[0;34m\u001b[0m\u001b[0m\n",
      "\u001b[0;32m/Users/brian/anaconda3/envs/py2_de/lib/python2.7/site-packages/cqlengine/query.pyc\u001b[0m in \u001b[0;36mdelete\u001b[0;34m(self)\u001b[0m\n\u001b[1;32m    646\u001b[0m         \u001b[0mpartition_key\u001b[0m \u001b[0;34m=\u001b[0m \u001b[0;34m[\u001b[0m\u001b[0mx\u001b[0m \u001b[0;32mfor\u001b[0m \u001b[0mx\u001b[0m \u001b[0;32min\u001b[0m \u001b[0mself\u001b[0m\u001b[0;34m.\u001b[0m\u001b[0mmodel\u001b[0m\u001b[0;34m.\u001b[0m\u001b[0m_primary_keys\u001b[0m\u001b[0;34m.\u001b[0m\u001b[0mvalues\u001b[0m\u001b[0;34m(\u001b[0m\u001b[0;34m)\u001b[0m\u001b[0;34m]\u001b[0m\u001b[0;34m[\u001b[0m\u001b[0;36m0\u001b[0m\u001b[0;34m]\u001b[0m\u001b[0;34m\u001b[0m\u001b[0m\n\u001b[1;32m    647\u001b[0m         \u001b[0;32mif\u001b[0m \u001b[0;32mnot\u001b[0m \u001b[0many\u001b[0m\u001b[0;34m(\u001b[0m\u001b[0;34m[\u001b[0m\u001b[0mc\u001b[0m\u001b[0;34m.\u001b[0m\u001b[0mfield\u001b[0m \u001b[0;34m==\u001b[0m \u001b[0mpartition_key\u001b[0m\u001b[0;34m.\u001b[0m\u001b[0mcolumn_name\u001b[0m \u001b[0;32mfor\u001b[0m \u001b[0mc\u001b[0m \u001b[0;32min\u001b[0m \u001b[0mself\u001b[0m\u001b[0;34m.\u001b[0m\u001b[0m_where\u001b[0m\u001b[0;34m]\u001b[0m\u001b[0;34m)\u001b[0m\u001b[0;34m:\u001b[0m\u001b[0;34m\u001b[0m\u001b[0m\n\u001b[0;32m--> 648\u001b[0;31m             \u001b[0;32mraise\u001b[0m \u001b[0mQueryException\u001b[0m\u001b[0;34m(\u001b[0m\u001b[0;34m\"The partition key must be defined on delete queries\"\u001b[0m\u001b[0;34m)\u001b[0m\u001b[0;34m\u001b[0m\u001b[0m\n\u001b[0m\u001b[1;32m    649\u001b[0m \u001b[0;34m\u001b[0m\u001b[0m\n\u001b[1;32m    650\u001b[0m         dq = DeleteStatement(\n",
      "\u001b[0;31mQueryException\u001b[0m: The partition key must be defined on delete queries"
     ]
    }
   ],
   "source": [
    "# Delete Bob, then try to print all rows to show the user is gone\n",
    "q.delete()\n",
    "\n",
    "q=Users.objects()\n",
    "\n",
    "for i in q: \n",
    "    print i"
   ]
  },
  {
   "cell_type": "markdown",
   "metadata": {
    "collapsed": true
   },
   "source": [
    "<br>\n",
    "<br> \n",
    "<br>\n",
    "\n",
    "----"
   ]
  }
 ],
 "metadata": {
  "kernelspec": {
   "display_name": "Python 2",
   "language": "python",
   "name": "python2"
  },
  "language_info": {
   "codemirror_mode": {
    "name": "ipython",
    "version": 2
   },
   "file_extension": ".py",
   "mimetype": "text/x-python",
   "name": "python",
   "nbconvert_exporter": "python",
   "pygments_lexer": "ipython2",
   "version": "2.7.11"
  }
 },
 "nbformat": 4,
 "nbformat_minor": 0
}
