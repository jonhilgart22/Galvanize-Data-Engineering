{
 "cells": [
  {
   "cell_type": "markdown",
   "metadata": {},
   "source": [
    "<img src=\"https://upload.wikimedia.org/wikipedia/commons/thumb/5/5e/Cassandra_logo.svg/2000px-Cassandra_logo.svg.png\" style=\"width: 400px;\"/>"
   ]
  },
  {
   "cell_type": "markdown",
   "metadata": {},
   "source": [
    "<img src=\"images/twitter.png\" style=\"width: 400px;\"/>"
   ]
  },
  {
   "cell_type": "markdown",
   "metadata": {},
   "source": [
    "---\n",
    "By the end of this session, you should be able to:\n",
    "----\n",
    "- Explain the use case for Cassandra\n",
    "- Explain how Cassandra works\n",
    "- Use Hash Rings\n",
    "- Perform queries Cassandra"
   ]
  },
  {
   "cell_type": "markdown",
   "metadata": {
    "collapsed": true
   },
   "source": [
    "---\n",
    "History\n",
    "---\n",
    "\n",
    "![](images/baby.png)\n",
    "\n",
    "Started by Facebook\n",
    "\n",
    "[Announcement](https://www.facebook.com/notes/facebook-engineering/cassandra-a-structured-storage-system-on-a-p2p-network/24413138919/)  \n",
    "[Building Products On It](https://www.facebook.com/notes/facebook-engineering/the-underlying-technology-of-messages/454991608919/)\n",
    "\n",
    "Thus ...\n",
    "\n",
    "- Great idea \n",
    "- Widespread adoption \n",
    "- Will slowly introduce features that bug you (and are slightly creepy)\n",
    "- But you'll be forced to use because that is what every one else is using\n",
    "\n",
    "(Sounds like Facebook itself) thus..."
   ]
  },
  {
   "cell_type": "markdown",
   "metadata": {},
   "source": [
    "aka, Brian's Law of Open Source Projects\n",
    "\n",
    "HT: Conways' Law: \n",
    "    \n",
    ">organizations which design systems ... are constrained to produce designs which are copies of the communication structures of these organizations\n",
    "\n",
    "<img src=\"http://www.sixteensmallstones.org/wp-content/uploads/2015/07/IMG_1029.png\" style=\"width: 400px;\"/>"
   ]
  },
  {
   "cell_type": "markdown",
   "metadata": {},
   "source": [
    "---\n",
    "Widely Adopted\n",
    "---\n",
    "\n",
    "<img src=\"images/adoption.png\" style=\"width: 400px;\"/>"
   ]
  },
  {
   "cell_type": "markdown",
   "metadata": {},
   "source": [
    "---\n",
    "Cassandra is great for...\n",
    "---\n",
    "\n",
    "- Massive, linear scaling\n",
    "\n",
    "- Extremely heavy writes\n",
    "\n",
    "- High availability\n"
   ]
  },
  {
   "cell_type": "markdown",
   "metadata": {},
   "source": [
    "---\n",
    "Linear FTW!\n",
    "----\n",
    "\n",
    "![](images/linear.png)\n",
    "\n"
   ]
  },
  {
   "cell_type": "markdown",
   "metadata": {},
   "source": [
    "---\n",
    "Writes more that Stephen King\n",
    "---\n",
    "\n",
    "![](images/scaling.png)"
   ]
  },
  {
   "cell_type": "markdown",
   "metadata": {},
   "source": [
    "---\n",
    "Cassandra stays up like a kid at a sleep over\n",
    "----\n",
    "\n",
    "> Cassandra, our distributed cloud persistence store which is distributed across all zones and regions, dealt with __the loss of one third of its regional nodes without any loss of data or availability__.\n",
    "\n",
    "[Source](http://techblog.netflix.com/2012/07/lessons-netflix-learned-from-aws-storm.html)"
   ]
  },
  {
   "cell_type": "markdown",
   "metadata": {},
   "source": [
    "---\n",
    "Cassandra Overview\n",
    "---\n",
    "\n",
    "<img src=\"http://cassandraconsultingllc.com/wp-content/uploads/2014/03/header-who-is-cassandra-590x224-02.png\" style=\"width: 400px;\"/>\n",
    "\n",
    "Cassandra was a figure in Greek mythology who possessed the gift of prophecy, with the caveat that no-one would believe her prophecies.\n",
    "\n",
    "For instance, she warned the Trojans about the Greeks hiding inside the Trojan Horse, but no-one believed her. So Troy was destroyed.\n",
    "\n",
    "Don't be like Troy - Believe in Cassandra!"
   ]
  },
  {
   "cell_type": "markdown",
   "metadata": {},
   "source": [
    "> Cassandra is a distributed storage system for managing structured data that is designed to scale to a very large size across many commodity servers, with no single point of failure... \n",
    "\n",
    "> Hence Cassandra aims to run on top of an infrastructure of hundreds of nodes (possibly spread across different datacenters). \n",
    "\n",
    "Cassandra has achieved several goals:\n",
    "\n",
    "- scalability\n",
    "- high performance\n",
    "- high availability\n",
    "- applicability\n",
    "\n",
    "Cassandra manages the persistent state in the face of these failures drives reliability and scalability.\n",
    "\n",
    "It can be write heavy real-time datastore (aka, the \"system of record) and read heavy database for Business Intelligence (BI) applications"
   ]
  },
  {
   "cell_type": "markdown",
   "metadata": {},
   "source": [
    "----\n",
    "Cassandra as a NoSQL solution\n",
    "----\n",
    "\n",
    "In many ways, Cassandra resembles a traditional database. \n",
    "\n",
    "__However__, Cassandra does not support a full relational data model.\n",
    "\n",
    "Instead, it provides clients with a simple data model that supports dynamic control over data layout and format"
   ]
  },
  {
   "cell_type": "markdown",
   "metadata": {},
   "source": [
    "---\n",
    "Data Model\n",
    "---\n",
    "\n",
    "Every row is identified by a unique key (string).\n",
    "\n",
    "An instance of Cassandra has 1 table which is made up of one or more \"column families\".\n",
    "\n",
    "Column families are defined by the user."
   ]
  },
  {
   "cell_type": "markdown",
   "metadata": {},
   "source": [
    "<img src=\"images/c_a.jpg\" style=\"width: 400px;\"/>\n",
    "\n",
    "Built from the ground-up in a distributed world, like Apache Kafka\n",
    "\n",
    "Peer-to-peer, distributed system (remember Conway's Law)\n",
    "\n",
    "All nodes are the same (no leaders, no Main nodes)\n",
    "\n",
    "Data partitioned among all nodes in a the cluster\n",
    "\n",
    "Read/Write __anywhere__ design, not limited to communication to Single Point of Failure (SPOF)\n",
    "\n",
    "Gossip protocol to exchange information:\n",
    "\n",
    "> Who is up?  \n",
    "> Who knows what?  \n",
    "> Which node is \"It's complicated\" with which other node?  "
   ]
  },
  {
   "cell_type": "markdown",
   "metadata": {},
   "source": [
    "---\n",
    "Distribution, Replication and Fault Tolerance\n",
    "---\n",
    "\n",
    "Data is distributed across the nodes in the cluster using __Consistent Hashing__ based and on an Order Preserving Hash function. Order Preserving Hash is used that we could perform range scans over the data for analysis at some later point.\n",
    "\n",
    "Cluster membership is maintained via Gossip style membership algorithm. Failures of nodes within the cluster are monitored using an Accrual Style Failure Detector.\n",
    "\n",
    "High availability is achieved using replication and we actively replicate data across data centers. Since _eventual consistency_ is the mantra of the system reads execute on the closest replica and data is repaired in the background for increased read throughput.\n",
    "\n",
    "System exhibits incremental scalability properties which can be achieved as easily as dropping nodes and having them automatically bootstrapped with data."
   ]
  },
  {
   "cell_type": "markdown",
   "metadata": {},
   "source": [
    "----\n",
    "Data Writing\n",
    "----\n",
    "\n",
    "A commit log is used on each node to capture write activity to assure data durability\n",
    "\n",
    "Data is also written to an in-memory structure (memory) and then to disk once the memory structure is full (SStable)"
   ]
  },
  {
   "cell_type": "markdown",
   "metadata": {},
   "source": [
    "<img src=\"images/write.png\" style=\"width: 400px;\"/>"
   ]
  },
  {
   "cell_type": "markdown",
   "metadata": {},
   "source": [
    "---\n",
    "Cluster Architecture\n",
    "---"
   ]
  },
  {
   "cell_type": "markdown",
   "metadata": {},
   "source": [
    "---\n",
    "Remeber Hashing...\n",
    "---\n",
    "\n",
    "<img src=\"http://www.cannabisculture.com/files/images/6/hashbrick.JPG\" style=\"width: 400px;\"/>\n",
    "\n",
    "\n",
    "A hash table (e.g., Python dict) is a data structure hat can map keys to values. A hash table uses a hash function to compute an index into an array of slots, from which the desired value can be found.\n",
    "\n",
    "Map a key k into one of m slots by taking the remainder of k divided by m. That is, the hash function is:\n",
    "\n",
    "$$h(k) = k \\space mod(m)$$"
   ]
  },
  {
   "cell_type": "markdown",
   "metadata": {},
   "source": [
    "---\n",
    "Check for understanding\n",
    "---\n",
    "\n",
    "<details><summary>\n",
    "If table size m = 6 and key k = 40, what is the slot index?\n",
    "</summary>\n",
    "4\n",
    "</details>\n",
    "<br>\n",
    "<br>\n",
    "<details><summary>\n",
    "Name 2 reasons why this a bad design:\n",
    "</summary>\n",
    "1. That stupid small hash table. You will get collisions all the freaking time.  \n",
    "2. The pro tip is to make the size of your hash table a prime number so you don't lots of collisions in the 1st bucket.  \n",
    "</details>"
   ]
  },
  {
   "cell_type": "markdown",
   "metadata": {},
   "source": [
    "---\n",
    "Modulo Arithmetic Sidebar\n",
    "----\n",
    "\n",
    "Modulo Arithmetic is analog clock math:\n",
    "\n",
    "<img src=\"https://upload.wikimedia.org/wikipedia/commons/thumb/a/a4/Clock_group.svg/2000px-Clock_group.svg.png\" style=\"width: 400px;\"/>\n",
    "\n",
    "Modulo arithmetic uses only a finite set of numbers, wrapping the results of any calculations that fall outside the given set back into the set.\n",
    "\n",
    "Use a ring hash instead of a row of slots:\n",
    "<img src=\"http://67.media.tumblr.com/63a7e035f115934aee7529e48b8842ae/tumblr_nfnwaqw7LR1u4zn7qo1_400.gif\" style=\"width: 400px;\"/>\n"
   ]
  },
  {
   "cell_type": "markdown",
   "metadata": {},
   "source": [
    "### Modulo Arithmetic practice: \n",
    "\n",
    "For example, the common everyday clock uses modulo 12 arithmetic. Numbers in this system can only be 1 through 12. Therefore, in the \"clock\" system, 9 plus 9 equals 6. This can be more easily visualized as a number circle:\n",
    "<br>\n",
    "<details><summary>\n",
    "Click here for visual solution...\n",
    "</summary>\n",
    "<img src=\"http://www.mathworks.com/help/fixedpoint/ug/fixed-point_concepts23.png\" style=\"width: 400px;\"/>\n",
    "</details>\n",
    "<br>\n",
    "<br>\n",
    "\n",
    "Similarly, binary math can only use the numbers 0 and 1, and any arithmetic results that fall outside this range are wrapped \"around the circle\" to either 0 or 1.\n",
    "\n",
    "[Source](http://www.mathworks.com/help/fixedpoint/ug/arithmetic-operations.html?requestedDomain=www.mathworks.com)"
   ]
  },
  {
   "cell_type": "markdown",
   "metadata": {},
   "source": [
    "---\n",
    "Consistent hashing FTW!\n",
    "---\n",
    "\n",
    "> Consistent hashing allows distributing data across a cluster which minimizes reorganization when nodes are added or removed\n",
    "\n",
    "> Consistent hashing partitions data based on the partition key"
   ]
  },
  {
   "cell_type": "code",
   "execution_count": 1,
   "metadata": {
    "collapsed": false
   },
   "outputs": [
    {
     "data": {
      "image/jpeg": "[encoded data removed]",
      "text/html": [
       "\n",
       "        <iframe\n",
       "            width=\"400\"\n",
       "            height=\"300\"\n",
       "            src=\"https://www.youtube.com/embed/viaNG1zyx1g\"\n",
       "            frameborder=\"0\"\n",
       "            allowfullscreen\n",
       "        ></iframe>\n",
       "        "
      ],
      "text/plain": [
       "<IPython.lib.display.YouTubeVideo at 0x104024f10>"
      ]
     },
     "execution_count": 1,
     "metadata": {},
     "output_type": "execute_result"
    }
   ],
   "source": [
    "from IPython.display import YouTubeVideo\n",
    "\n",
    "YouTubeVideo('viaNG1zyx1g')"
   ]
  },
  {
   "cell_type": "markdown",
   "metadata": {},
   "source": [
    "---\n",
    "Consistent Hashing of Cassandra Data\n",
    "---"
   ]
  },
  {
   "cell_type": "markdown",
   "metadata": {
    "collapsed": false
   },
   "source": [
    "[Source](https://docs.datastax.com/en/cassandra/2.0/cassandra/architecture/architectureDataDistributeHashing_c.html)"
   ]
  },
  {
   "cell_type": "markdown",
   "metadata": {},
   "source": [
    "---\n",
    "Data Distribution\n",
    "---"
   ]
  },
  {
   "cell_type": "markdown",
   "metadata": {},
   "source": [
    "[Consistent Hashing demo](http://vanstee.me/distributed-data/consistent-hashing.html)"
   ]
  },
  {
   "cell_type": "markdown",
   "metadata": {},
   "source": [
    "![](images/nodes.png)"
   ]
  },
  {
   "cell_type": "markdown",
   "metadata": {},
   "source": [
    "<img src=\"images/ring_hash.png\" style=\"width: 400px;\"/>"
   ]
  },
  {
   "cell_type": "markdown",
   "metadata": {},
   "source": [
    "<img src=\"images/replication.png\" style=\"width: 400px;\"/>"
   ]
  },
  {
   "cell_type": "markdown",
   "metadata": {},
   "source": [
    "---\n",
    "Across Data Centers\n",
    "---\n",
    "\n",
    "<img src=\"images/dc.png\" style=\"width: 400px;\"/>"
   ]
  },
  {
   "cell_type": "markdown",
   "metadata": {},
   "source": [
    "![](images/replication_dc.png)"
   ]
  },
  {
   "cell_type": "markdown",
   "metadata": {},
   "source": [
    "![](https://mariadb.org/wp-content/uploads/2015/02/cops.jpeg)"
   ]
  },
  {
   "cell_type": "markdown",
   "metadata": {
    "collapsed": true
   },
   "source": [
    "---\n",
    "You say SQL; I say CQL\n",
    "---\n",
    "\n",
    "Cassandra Query Language. CQL for short. \n",
    "\n",
    "SQL look-a-like (best effort)."
   ]
  },
  {
   "cell_type": "markdown",
   "metadata": {
    "collapsed": true
   },
   "source": [
    "<img src=\"images/terms.png\" style=\"width: 400px;\"/>"
   ]
  },
  {
   "cell_type": "markdown",
   "metadata": {},
   "source": [
    "Keyspace is akin to a database in the RDMS universe\n",
    "\n",
    "A column family is similar to RDMS table but is more flexible/dynamic\n",
    "\n",
    "A row in a column family is indexed by its key. Other columns can be indexed also"
   ]
  },
  {
   "cell_type": "markdown",
   "metadata": {
    "collapsed": true
   },
   "source": [
    "<img src=\"images/example.png\" style=\"width: 400px;\"/>"
   ]
  },
  {
   "cell_type": "markdown",
   "metadata": {
    "collapsed": true
   },
   "source": [
    "<img src=\"images/modeling.png\" style=\"width: 400px;\"/>"
   ]
  },
  {
   "cell_type": "markdown",
   "metadata": {},
   "source": [
    "---\n",
    "Denormalize\n",
    "---\n",
    "\n",
    "> Denormalization is the process of attempting to optimize the read performance of a database by adding redundant data or by grouping data.\n",
    "\n",
    "Create materialized views of the same data to support different queries\n",
    "\n",
    "Storage space is cheap & Cassandra is fast"
   ]
  },
  {
   "cell_type": "markdown",
   "metadata": {},
   "source": [
    "---\n",
    "Example: User Logins\n",
    "----"
   ]
  },
  {
   "cell_type": "markdown",
   "metadata": {},
   "source": [
    "<img src=\"images/query.png\" style=\"width: 400px;\"/>"
   ]
  },
  {
   "cell_type": "markdown",
   "metadata": {},
   "source": [
    "----\n",
    "<img src=\"images/key.png\" style=\"width: 400px;\"/>"
   ]
  },
  {
   "cell_type": "markdown",
   "metadata": {},
   "source": [
    "----\n",
    "<img src=\"images/clustering.png\" style=\"width: 400px;\"/>"
   ]
  },
  {
   "cell_type": "markdown",
   "metadata": {},
   "source": [
    "---\n",
    "<img src=\"images/columns.png\" style=\"width: 400px;\"/>"
   ]
  },
  {
   "cell_type": "markdown",
   "metadata": {},
   "source": [
    "----\n",
    "<img src=\"images/add_cols.png\" style=\"width: 400px;\"/>"
   ]
  },
  {
   "cell_type": "markdown",
   "metadata": {},
   "source": [
    "---\n",
    "<img src=\"images/result.png\" style=\"width: 400px;\"/>"
   ]
  },
  {
   "cell_type": "markdown",
   "metadata": {},
   "source": [
    "But watch out for ...\n",
    "![](images/watch.png)"
   ]
  },
  {
   "cell_type": "markdown",
   "metadata": {},
   "source": [
    "---\n",
    "Summary\n",
    "----\n",
    "\n",
    "- Cassandra is very popular NoSQL solution\n",
    "- It allows for massive, linear scaling, extremely heavy writes, and high availability\n",
    "- Modulo Arithmetic is nice trick for job interviews and building distributed databases\n",
    "- Cassandra use Consistent Hashing (via Modulo Arthimetic) for distrbuted data storage\n",
    "- The data model allows for flexible querying\n"
   ]
  },
  {
   "cell_type": "markdown",
   "metadata": {},
   "source": [
    "<br>\n",
    "<br>\n",
    "<br>\n",
    "<br>\n",
    "<br>\n",
    "<br>\n",
    "\n",
    "---\n",
    "Bonus Materials\n",
    "----"
   ]
  },
  {
   "cell_type": "markdown",
   "metadata": {},
   "source": [
    "Learn More \n",
    "----\n",
    "\n",
    "- [DataStack's Free Online Course](https://academy.datastax.com/courses)\n",
    "- [cassandra succinctly](https://www.syncfusion.com/resources/techportal/ebooks/cassandra)\n",
    "- [Cassandra: The Definitive Guide](http://shop.oreilly.com/product/0636920010852.do)"
   ]
  },
  {
   "cell_type": "markdown",
   "metadata": {},
   "source": [
    "---\n",
    "Where does Cassandra shine?\n",
    "----\n",
    "\n",
    "__TimeSeries__ is the most common data model\n",
    "\n",
    "Examples:\n",
    "    \n",
    "- event logs\n",
    "- metrics\n",
    "- sensors / IoT (drink 🍸)"
   ]
  },
  {
   "cell_type": "markdown",
   "metadata": {},
   "source": [
    "---\n",
    "![](images/another_query.png)"
   ]
  },
  {
   "cell_type": "markdown",
   "metadata": {},
   "source": [
    "---\n",
    "![](images/create.png)"
   ]
  },
  {
   "cell_type": "markdown",
   "metadata": {},
   "source": [
    "---\n",
    "Implementation Details\n",
    "---"
   ]
  },
  {
   "cell_type": "markdown",
   "metadata": {},
   "source": [
    "![](http://4.bp.blogspot.com/-mb-4_3qLkGk/TrG5kOlMGCI/AAAAAAAAAWY/_DEzto-YwOs/s1600/local.png)"
   ]
  },
  {
   "cell_type": "markdown",
   "metadata": {},
   "source": [
    "![](images/read.png)"
   ]
  },
  {
   "cell_type": "markdown",
   "metadata": {},
   "source": [
    "<br>\n",
    "<br> \n",
    "<br>\n",
    "\n",
    "----"
   ]
  }
 ],
 "metadata": {
  "kernelspec": {
   "display_name": "Python [default]",
   "language": "python",
   "name": "python2"
  },
  "language_info": {
   "codemirror_mode": {
    "name": "ipython",
    "version": 2
   },
   "file_extension": ".py",
   "mimetype": "text/x-python",
   "name": "python",
   "nbconvert_exporter": "python",
   "pygments_lexer": "ipython2",
   "version": "2.7.12"
  }
 },
 "nbformat": 4,
 "nbformat_minor": 0
}
