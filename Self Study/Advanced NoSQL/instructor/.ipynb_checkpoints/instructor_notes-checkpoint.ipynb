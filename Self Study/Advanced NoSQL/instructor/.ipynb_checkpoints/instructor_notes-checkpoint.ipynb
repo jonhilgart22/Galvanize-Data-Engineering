{
 "cells": [
  {
   "cell_type": "markdown",
   "metadata": {},
   "source": [
    "---\n",
    "Agenda\n",
    "----\n",
    "\n",
    "1. Final Project Check-in\n",
    "    - Get started because of roadblocks - last minute vs minute\n",
    "    - General\n",
    "    - Individual during lab\n",
    "2. Review / Q&A Spark Streaming\n",
    "3. Lecture: NoSQL \n",
    "4. Break\n",
    "5. Lecture: Cassandra\n",
    "6. Lab: Cassandra (Hbase self study)\n",
    " \n"
   ]
  },
  {
   "cell_type": "markdown",
   "metadata": {},
   "source": [
    "TODOs\n",
    "---\n",
    "\n",
    "- Too much material\n",
    "    - cut out data center parts\n",
    "    - tighten up every section, too much repetion\n",
    "- https://www.jeffknupp.com/blog/2014/09/01/what-is-a-nosql-database-learn-by-writing-one-in-python/\n",
    "- http://neovintage.org/2016/04/07/data-modeling-in-cassandra-from-a-postgres-perspective/v;\n",
    "- work an modalur arthnictmic problem\n",
    "- add content \n",
    "    - from video - https://www.youtube.com/watch?v=5qEoEAfAer8\n",
    "    - from blog http://www.planetcassandra.org/blog/the-most-important-thing-to-know-in-cassandra-data-modeling-the-primary-key/?imm_mid=0e120d&cmp=em-data-na-na-newsltr_20160302"
   ]
  },
  {
   "cell_type": "markdown",
   "metadata": {},
   "source": [
    "---\n",
    "Extra resources\n",
    "---\n",
    "\n",
    "http://www.planetcassandra.org/what-is-nosql/\n",
    "\n",
    "https://www.safaribooksonline.com/library/view/cassandra-the-definitive/9781449399764/ch01.html\n",
    "    https://www.oreilly.com/ideas/cassandra-data-modeling\n",
    "\n",
    "http://www.sitepoint.com/a-quick-introduction-to-apache-cassandra/\n",
    "\n",
    "http://www.tutorialspoint.com/cassandra/cassandra_introduction.htm"
   ]
  }
 ],
 "metadata": {
  "anaconda-cloud": {},
  "kernelspec": {
   "display_name": "Python [default]",
   "language": "python",
   "name": "python2"
  },
  "language_info": {
   "codemirror_mode": {
    "name": "ipython",
    "version": 2
   },
   "file_extension": ".py",
   "mimetype": "text/x-python",
   "name": "python",
   "nbconvert_exporter": "python",
   "pygments_lexer": "ipython2",
   "version": "2.7.12"
  }
 },
 "nbformat": 4,
 "nbformat_minor": 0
}
