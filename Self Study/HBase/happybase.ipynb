{
 "cells": [
  {
   "cell_type": "markdown",
   "metadata": {},
   "source": [
    "Step 1: Design Stock Data Row Keys\n",
    "----------------------------------\n",
    "\n",
    "Suppose you wanted to store stock data into HBase for multiple companies. Further, you want to calculate the minimum/maximum/average prices for a company over the period covered in the data.\n",
    "Question: What would the design of your row key be?\n",
    "\n",
    "Suppose the hedge fund you work for, HedgeBase, now wants to create an index fund based on the stocks of these companies. Each share of the index fund is made up of exactly one share of the constituent companies.\n",
    "They want to use HBase to calculate the minimum/maximum/average price of this index fund.\n",
    "Question: What row key should they use?"
   ]
  },
  {
   "cell_type": "code",
   "execution_count": null,
   "metadata": {
    "collapsed": true
   },
   "outputs": [],
   "source": []
  },
  {
   "cell_type": "markdown",
   "metadata": {},
   "source": [
    "Step 2: Install HBase\n",
    "---------------------\n",
    "\n",
    "Install HBase on your machine in *standalone* mode."
   ]
  },
  {
   "cell_type": "code",
   "execution_count": null,
   "metadata": {
    "collapsed": true
   },
   "outputs": [],
   "source": []
  },
  {
   "cell_type": "markdown",
   "metadata": {},
   "source": [
    "Step 3: Import Data\n",
    "-------------------\n",
    "\n",
    "Type 'hbase shell ./for-hbase-succinctly.hbsh' to import the tables and associated data into HBase.\n",
    "\n",
    "From the HBase shell list the tables to verify that they imported succesfully.\n",
    "\n",
    "Exit the HBase shell.\n",
    "\n",
    "Question: Notice the row keys are built from elements separated by \"|\" characters.  Why do you think the author used this character?"
   ]
  },
  {
   "cell_type": "code",
   "execution_count": null,
   "metadata": {
    "collapsed": true
   },
   "outputs": [],
   "source": []
  },
  {
   "cell_type": "markdown",
   "metadata": {},
   "source": [
    "Step 4: Start the Thrift Server\n",
    "-------------------------------\n",
    "\n",
    "HBase has native Java bindings but you are using Python for this lab.  HBase supports other language bindings via Thrift.  \n",
    "\n",
    "Start HBase's Thrift server by typing 'hbase thrift start'. "
   ]
  },
  {
   "cell_type": "code",
   "execution_count": null,
   "metadata": {
    "collapsed": true
   },
   "outputs": [],
   "source": []
  },
  {
   "cell_type": "markdown",
   "metadata": {},
   "source": [
    "Step 5: Install HappyBase\n",
    "-------------------------\n",
    "\n",
    "Install HappyBase using 'pip install happybase'.\n",
    "\n",
    "Try the following Python code to verify that you can make a connection to HBase:\n",
    "\n",
    "import happybase\n",
    " \n",
    "connection = happybase.Connection()\n",
    "\n",
    "print connection.tables() # print list of tables\n",
    "\n",
    "table = connection.table('access-logs')"
   ]
  },
  {
   "cell_type": "code",
   "execution_count": null,
   "metadata": {
    "collapsed": true
   },
   "outputs": [],
   "source": []
  },
  {
   "cell_type": "markdown",
   "metadata": {},
   "source": [
    "Step 3: Write HappyBase Queries\n",
    "-------------------------------\n",
    "\n",
    "Question: What is the row key schema for the access-log table?\n",
    "\n",
    "Question: How would you retrieve the table row for the user 'elton' and the system 'jericho' for November 2015?\n",
    "\n",
    "Question: How would you retrieve the column t:1106 for user 'elton' and the system 'jericho' for November 2015?\n",
    "\n",
    "Question: Using the rows() method, retrieve both the October and November 2015 rows for the 'jericho' system and user 'elton'.\n",
    "\n",
    "HBase can keep multiple versions of cells.  The 'with-custom-config' table has cells with multiple versions.\n",
    "\n",
    "Question: How would you retrieve the 3 versions of the 'cf1:data' column from the 'rk1' row?  Include the timestamps.\n",
    "\n",
    "HBase can keep counters in rows.  That allows multiple clients to update the counters without having to worry about syncrhonization issues.\n",
    "\n",
    "Question: How would you retrieve the value of the counter 'c:1' in row 'rk1' of the table 'counters'?\n",
    "\n",
    "Question: How would you increment the value of that counter by 100?\n",
    "\n",
    "Question: How would you retrieve all of the 'jericho' rows for user 'elton'?\n",
    "\n",
    "Question: How would you retrieve only columns 't:1106' for all of the 'jericho' rows for user 'elton'?\n",
    "\n",
    "Question: How would you retrieve only the 't' columns beginning with '11' for all of the 'jericho' rows for user 'elton'?\n",
    "\n",
    "Question: For the 'elton' user, 'jericho' system, and for November 2015 add a column 't:1309' with a value '400' and a column 't:1310' with a value of '200'.  What column values does this user have now for the November 2015 row?\n"
   ]
  },
  {
   "cell_type": "code",
   "execution_count": null,
   "metadata": {
    "collapsed": true
   },
   "outputs": [],
   "source": []
  }
 ],
 "metadata": {
  "kernelspec": {
   "display_name": "Python 2",
   "language": "python",
   "name": "python2"
  },
  "language_info": {
   "codemirror_mode": {
    "name": "ipython",
    "version": 2
   },
   "file_extension": ".py",
   "mimetype": "text/x-python",
   "name": "python",
   "nbconvert_exporter": "python",
   "pygments_lexer": "ipython2",
   "version": "2.7.11"
  }
 },
 "nbformat": 4,
 "nbformat_minor": 0
}
