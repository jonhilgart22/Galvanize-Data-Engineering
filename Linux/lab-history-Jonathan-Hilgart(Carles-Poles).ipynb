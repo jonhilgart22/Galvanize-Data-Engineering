{
 "cells": [
  {
   "cell_type": "markdown",
   "metadata": {},
   "source": [
    "3. Find the total number lines in the files"
   ]
  },
  {
   "cell_type": "markdown",
   "metadata": {},
   "source": [
    "- gunzip -c NASA_access_log_Jul95.gz |wc -l\n",
    " \n",
    " 18915314"
   ]
  },
  {
   "cell_type": "markdown",
   "metadata": {},
   "source": [
    "# 2\n",
    "\n",
    "Using `gunzip -c` how can you find the total number of lines\n",
    "containing client errors? The\n",
    "\n",
    "- For HTTP codes in the 9th positions startign with 4XX\n",
    "- `gunzip -c NASA_access_log_Jul95.gz | awk '{print $9}' |  grep -E '^4[0-9][0-9]$' |wc -l ` \n",
    "\n",
    "10769\n",
    "   \n",
    "- For HTTP codes in the 8th position startign with 4XX\n",
    "- `gunzip -c NASA_access_log_Jul95.gz | awk '{print $8}' |  grep -E '^4[0-9][0-9]$' |wc -l`\n",
    "\n",
    "69\n",
    "\n",
    "- TOTAL: 10769 + 69 = 10838"
   ]
  },
  {
   "cell_type": "code",
   "execution_count": 1,
   "metadata": {
    "collapsed": false
   },
   "outputs": [
    {
     "name": "stdout",
     "output_type": "stream",
     "text": [
      "10838\r\n"
     ]
    }
   ],
   "source": [
    "!expr 10769 + 69"
   ]
  },
  {
   "cell_type": "code",
   "execution_count": 5,
   "metadata": {
    "collapsed": false
   },
   "outputs": [
    {
     "data": {
      "text/plain": [
       "0.0005729748921958156"
      ]
     },
     "execution_count": 5,
     "metadata": {},
     "output_type": "execute_result"
    }
   ],
   "source": [
    "float(10838 / 18915314.0)"
   ]
  },
  {
   "cell_type": "markdown",
   "metadata": {},
   "source": [
    "# 3\n",
    "\n",
    "- Find the total number of server errors in the file. This means that you will be\n",
    "including status codes in the range from 500-599.\n",
    "\n",
    "- `gunzip -c NASA_access_log_Jul95.gz | awk '{print $9}' |  grep -E '^5[0-9][0-9]$' | wc -l`\n",
    "\n",
    "124\n",
    "\n",
    "\n",
    "- `gunzip -c NASA_access_log_Jul95.gz | awk '{print $8}' |  grep -E '^5[0-9][0-9]$' | wc -l`\n",
    "\n",
    "0\n",
    "\n",
    "\n",
    "- Total = 124"
   ]
  },
  {
   "cell_type": "markdown",
   "metadata": {},
   "source": [
    "# 4\n",
    "\n",
    "- 6. Find the total count of all the different status codes in the\n",
    "`NASA_access_log_Jul95.gz` file.\n",
    "\n",
    "\n",
    "- `gunzip -c NASA_access_log_Jul95.gz | awk '{print $8}' |  grep -E '^[1-5][[:digit:]]{2}$' | sort | uniq -c`\n",
    "\n",
    "Position 8 : \n",
    ">2831 200\n",
    "\n",
    ">22 302\n",
    "\n",
    ">69 404\n",
    "\n",
    "\n",
    "- `gunzip -c NASA_access_log_Jul95.gz | awk '{print $9}' |  grep -E '^[1-5][[:digit:]]{2}$' | sort | uniq -c`\n",
    "\n",
    ">  1 110\n",
    "\n",
    ">3 111\n",
    "\n",
    ">8 156\n",
    "\n",
    ">1697914 200\n",
    "\n",
    ">1 225\n",
    "\n",
    ">169 234\n",
    " \n",
    " >2 263\n",
    "  \n",
    "  >2 286\n",
    "\n",
    ">46549 302\n",
    "\n",
    ">132626 304\n",
    "\n",
    ">1 305\n",
    "\n",
    ">3 306\n",
    "\n",
    ">7 308\n",
    "\n",
    ">168 363\n",
    "\n",
    ">2 368\n",
    "\n",
    ">3 374\n",
    "\n",
    ">1 377\n",
    "\n",
    ">2 378\n",
    "\n",
    ">54 403\n",
    "\n",
    ">10714 404\n",
    "\n",
    ">1 421\n",
    "\n",
    ">62 500\n",
    " \n",
    " >14 501\n",
    "  \n",
    "  >19 509\n",
    "\n",
    ">4 515\n",
    "\n",
    ">13 527\n",
    " \n",
    " >9 543\n",
    "  \n",
    "  >3 598"
   ]
  },
  {
   "cell_type": "code",
   "execution_count": null,
   "metadata": {
    "collapsed": true
   },
   "outputs": [],
   "source": []
  }
 ],
 "metadata": {
  "kernelspec": {
   "display_name": "Python [conda env:dsci6007]",
   "language": "python",
   "name": "conda-env-dsci6007-py"
  },
  "language_info": {
   "codemirror_mode": {
    "name": "ipython",
    "version": 2
   },
   "file_extension": ".py",
   "mimetype": "text/x-python",
   "name": "python",
   "nbconvert_exporter": "python",
   "pygments_lexer": "ipython2",
   "version": "2.7.13"
  }
 },
 "nbformat": 4,
 "nbformat_minor": 1
}
