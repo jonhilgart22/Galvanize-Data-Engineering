{
 "cells": [
  {
   "cell_type": "markdown",
   "metadata": {
    "collapsed": true
   },
   "source": [
    "---\n",
    "Probabilistic Data Structures\n",
    "===\n",
    "\n",
    "<img src=\"images/die.png\" style=\"width: 400px;\"/>\n",
    "\n",
    "      \n",
    "> Get your data structures correct first, and the rest of the program will write itself.  \n",
    "> \\- David Jones"
   ]
  },
  {
   "cell_type": "markdown",
   "metadata": {},
   "source": [
    "---\n",
    "Student Discussion\n",
    "---\n",
    "\n",
    "<details><summary>\n",
    "If your data is too to big query, what do you do?\n",
    "</summary>\n",
    "- Sample (i.e., use less of it)  \n",
    "- Get more resources (rent a bigger computer or a cluster)\n",
    "</details>"
   ]
  },
  {
   "cell_type": "markdown",
   "metadata": {},
   "source": [
    "---\n",
    "Why probabilistic data structure?\n",
    "---\n",
    "\n",
    "__Too much data (often too fast)__\n",
    "\n",
    "<img src=\"http://screenmediadaily.com/wp-content/uploads/2015/01/IAB-Complexity.jpg\" style=\"width: 400px;\"/>\n",
    "\n",
    "Get the approximate/estimates answer. This is opposite of tradiational data structures that provide precise answers. As a data scientist, you can manage that ambiguity.\n",
    "\n",
    "> You can the approximate answer shortly or ...   \n",
    "> the precise answer NEVER!\n",
    "\n",
    "Reduce the computational complexity and storage requirements (RAM, CPU, etc.)  \n",
    "(Usually) fixed size memory and storage requirements\n",
    "\n",
    "Need to accept a certain error rate. \n",
    "\n",
    "Tradeoff between __size__ and __error__. "
   ]
  },
  {
   "cell_type": "markdown",
   "metadata": {},
   "source": [
    "---\n",
    "When to use them?\n",
    "---\n",
    "\n",
    "- Designed to answer queries only about specific properties \n",
    "    (e.g., set cardinality, set membership, etc.)\n",
    "- Support only specific operations\n",
    "    (e.g., adding a set member, set unions but not removing or intersections)\n",
    "- It is okay to have possible false positives/overestimations"
   ]
  },
  {
   "cell_type": "markdown",
   "metadata": {},
   "source": [
    "### Student Activity\n",
    "\n",
    "List types of nonprobablistic data structures"
   ]
  },
  {
   "cell_type": "markdown",
   "metadata": {},
   "source": [
    "---\n",
    "Probabilistic data structures covered\n",
    "---\n",
    "\n",
    "1. Bloom filter\n",
    "2. Count–min sketch\n",
    "2. Locality-sensitive hashing (LSH)\n",
    "4. HyperLogLog"
   ]
  },
  {
   "cell_type": "markdown",
   "metadata": {},
   "source": [
    "---\n",
    "Hash functions ftw\n",
    "---\n",
    "\n",
    "<img src=\"images/hash.png\" style=\"width: 400px;\"/>\n",
    "\n",
    "- Hash functions maps an arbitrary input to a single numeric output\n",
    "- Hash functions are deterministic\n",
    "- Right now, hash functions are a \"solved\" problem - there is perfect hashing and with a mechanims to handle collisions\n",
    "- Names of common hash functions:\n",
    "    - hashCode()\n",
    "    - CRC32\n",
    "    - MD5\n",
    "    - SHA\n",
    "    - MurmurHash"
   ]
  },
  {
   "cell_type": "markdown",
   "metadata": {},
   "source": [
    "---\n",
    "Review Question\n",
    "---\n",
    "\n",
    "<details><summary>\n",
    "What is the difference between Hash Set and Hash Map?\n",
    "</summary>\n",
    "Set is unordered collection of unique objects. <br>\n",
    "Map is unordered collection of unique keys (with associated values).\n",
    "</details>"
   ]
  },
  {
   "cell_type": "markdown",
   "metadata": {},
   "source": [
    "---\n",
    "Hash Set\n",
    "---\n",
    "\n",
    "- Cardinality and membership is O(1)\n",
    "- Insert and delete O(1)\n",
    "- Fast and universal\n",
    "- However they can take a lot resources\n",
    "    - If you want to store UUIDs in a HashSet: \n",
    "        - UUID - 36 bytes\n",
    "        - ~100m UUIDs * 36B ~= 3.35GB"
   ]
  },
  {
   "cell_type": "markdown",
   "metadata": {},
   "source": [
    "---\n",
    "Bloom Filter\n",
    "---\n",
    "\n",
    "<img src=\"https://upload.wikimedia.org/wikipedia/commons/thumb/a/ac/Bloom_filter.svg/2000px-Bloom_filter.svg.png\" style=\"width: 400px;\"/>"
   ]
  },
  {
   "cell_type": "markdown",
   "metadata": {},
   "source": [
    "- What does it do? Probablistic membership queries\n",
    "- Several hash functions mapping a single input to mupltiple bits in a bit mask\n",
    "- An element is a member if all hash values map to a 1"
   ]
  },
  {
   "cell_type": "markdown",
   "metadata": {},
   "source": [
    "---\n",
    "Add\n",
    "---\n",
    "\n",
    "<img src=\"images/add.jpg\" style=\"width: 400px;\"/>"
   ]
  },
  {
   "cell_type": "markdown",
   "metadata": {},
   "source": [
    "---\n",
    "Membership Check\n",
    "---\n",
    "\n",
    "<img src=\"images/check.png\" style=\"width: 400px;\"/>"
   ]
  },
  {
   "cell_type": "markdown",
   "metadata": {},
   "source": [
    "---\n",
    "Bloom Filters's scale well\n",
    "----\n",
    "\n",
    "Remember our UUID problem...\n",
    "\n",
    "In a Bloom Filter, 100m UUIDs ~= 79.85MB (with 4% error rate)"
   ]
  },
  {
   "cell_type": "markdown",
   "metadata": {},
   "source": [
    "---\n",
    "Bloom Filters for DBs\n",
    "---\n",
    "\n",
    "<img src=\"http://crzyjcky.com/wp-content/uploads/2013/01/bloom-filter-database.png\" style=\"width: 400px;\"/>\n",
    "\n",
    "True -> maybe contains   \n",
    "False -> definitely __does not__ contain"
   ]
  },
  {
   "cell_type": "markdown",
   "metadata": {},
   "source": [
    "---\n",
    "Let's build a Boom Filter\n",
    "---\n",
    "\n",
    "__What You'll Need__:\n",
    "1. A bit array (as the name suggests it's just an array of bits)\n",
    "2. A quick non-cryptographic hash function (e.g., murmurhash3 or cityhash)"
   ]
  },
  {
   "cell_type": "code",
   "execution_count": 25,
   "metadata": {
    "collapsed": false
   },
   "outputs": [
    {
     "name": "stdout",
     "output_type": "stream",
     "text": [
      "Requirement already satisfied (use --upgrade to upgrade): bitarray in /Users/brianspiering/anaconda/envs/py2_de/lib/python2.7/site-packages\r\n"
     ]
    }
   ],
   "source": [
    "! pip install bitarray"
   ]
  },
  {
   "cell_type": "code",
   "execution_count": 26,
   "metadata": {
    "collapsed": false
   },
   "outputs": [
    {
     "name": "stdout",
     "output_type": "stream",
     "text": [
      "Requirement already satisfied (use --upgrade to upgrade): mmh3 in /Users/brianspiering/anaconda/envs/py2_de/lib/python2.7/site-packages\r\n"
     ]
    }
   ],
   "source": [
    "! pip install mmh3"
   ]
  },
  {
   "cell_type": "code",
   "execution_count": 27,
   "metadata": {
    "collapsed": true
   },
   "outputs": [],
   "source": [
    "from bitarray import bitarray\n",
    "import mmh3\n",
    " \n",
    "# Create our empty bit array\n",
    "bit_array = bitarray(10)\n",
    "bit_array.setall(0)"
   ]
  },
  {
   "cell_type": "code",
   "execution_count": 28,
   "metadata": {
    "collapsed": false
   },
   "outputs": [
    {
     "data": {
      "text/plain": [
       "bitarray('0000000000')"
      ]
     },
     "execution_count": 28,
     "metadata": {},
     "output_type": "execute_result"
    }
   ],
   "source": [
    "bit_array"
   ]
  },
  {
   "cell_type": "code",
   "execution_count": 29,
   "metadata": {
    "collapsed": false
   },
   "outputs": [
    {
     "data": {
      "text/plain": [
       "-1322301282"
      ]
     },
     "execution_count": 29,
     "metadata": {},
     "output_type": "execute_result"
    }
   ],
   "source": [
    "# Let's hash something\n",
    "mmh3.hash(\"foo\", seed=42)"
   ]
  },
  {
   "cell_type": "markdown",
   "metadata": {},
   "source": [
    "---\n",
    "Challenge question\n",
    "---\n",
    "\n",
    "<details><summary>\n",
    "How do we put that hash into our bit array?\n",
    "</summary>\n",
    "index = mmh3.hash(\"foo\", 42) % len(bit_array)\n",
    "<br>\n",
    "`bit_array[index] = 1` <br>\n",
    "</details>"
   ]
  },
  {
   "cell_type": "markdown",
   "metadata": {},
   "source": [
    "<br>\n",
    "<br>\n",
    "<br>\n",
    "<br>"
   ]
  },
  {
   "cell_type": "code",
   "execution_count": 30,
   "metadata": {
    "collapsed": false
   },
   "outputs": [],
   "source": [
    "index = mmh3.hash(\"foo\", seed=42) % len(bit_array)\n",
    "bit_array[index] = 1"
   ]
  },
  {
   "cell_type": "code",
   "execution_count": 31,
   "metadata": {
    "collapsed": false
   },
   "outputs": [
    {
     "data": {
      "text/plain": [
       "bitarray('0000000010')"
      ]
     },
     "execution_count": 31,
     "metadata": {},
     "output_type": "execute_result"
    }
   ],
   "source": [
    "bit_array"
   ]
  },
  {
   "cell_type": "markdown",
   "metadata": {},
   "source": [
    "Bloom filters work by hashing an object several times using either multiple hash functions or the same hash function with a different seed. This insures that when we hash an object we're unlikely to get the same result."
   ]
  },
  {
   "cell_type": "code",
   "execution_count": 32,
   "metadata": {
    "collapsed": true
   },
   "outputs": [],
   "source": [
    "bit_array[mmh3.hash(\"foo\", seed=999) % len(bit_array)] = 1"
   ]
  },
  {
   "cell_type": "code",
   "execution_count": 33,
   "metadata": {
    "collapsed": false
   },
   "outputs": [
    {
     "data": {
      "text/plain": [
       "bitarray('0000000110')"
      ]
     },
     "execution_count": 33,
     "metadata": {},
     "output_type": "execute_result"
    }
   ],
   "source": [
    "bit_array"
   ]
  },
  {
   "cell_type": "code",
   "execution_count": 35,
   "metadata": {
    "collapsed": false
   },
   "outputs": [
    {
     "name": "stdout",
     "output_type": "stream",
     "text": [
      "Probably in set\n"
     ]
    }
   ],
   "source": [
    "if (bit_array[mmh3.hash(\"foo\", seed=42) % len(bit_array)] == 1) and \\\n",
    "    (bit_array[mmh3.hash(\"foo\", seed=999) % len(bit_array)] == 1):\n",
    "    print(\"Probably in set\")\n",
    "else:\n",
    "    print(\"Definitely not in set\")"
   ]
  },
  {
   "cell_type": "markdown",
   "metadata": {},
   "source": [
    "Let's make a class'"
   ]
  },
  {
   "cell_type": "code",
   "execution_count": 11,
   "metadata": {
    "collapsed": true
   },
   "outputs": [],
   "source": [
    "from bitarray import bitarray\n",
    "import mmh3\n",
    " \n",
    "class BloomFilter(object):\n",
    "    \"Simple implementation of a Bloom Filter\"\n",
    "    \n",
    "    def __init__(self, size, hash_count):\n",
    "        self.size = size\n",
    "        self.hash_count = hash_count # Number of hashes for seeds\n",
    "        self.bit_array = bitarray(size) \n",
    "        self.bit_array.setall(0)\n",
    "        \n",
    "    def add(self, string):\n",
    "        \"\"\"Add element to current Bloom Filter.\n",
    "        TODO: Add awesome code\n",
    "        \"\"\"\n",
    "        \n",
    "    def lookup(self, string):\n",
    "        \"\"\"Check if element is in current Bloom Filter.\n",
    "        \n",
    "        >>> bf = BloomFilter(size=10, hash_count=3)\n",
    "        >>> bf.add('pudding')\n",
    "        >>> bf.lookup('pudding')\n",
    "        'Probably'\n",
    "        >>> bf.lookup('salad')\n",
    "        'Nope'\n",
    "\n",
    "        TODO: Add awesome code\n",
    "        \"\"\""
   ]
  },
  {
   "cell_type": "markdown",
   "metadata": {},
   "source": [
    "---\n",
    "Solutions\n",
    "---\n",
    "\n",
    "<details><summary>\n",
    "Click here for `add` code.\n",
    "</summary>\n",
    "```\n",
    "def add(self, string):\n",
    "    \"\"\"Add element to current Bloom Filter.\n",
    "    \"\"\"\n",
    "    for seed in xrange(self.hash_count):\n",
    "        result = mmh3.hash(string, seed) % self.size\n",
    "        self.bit_array[result] = 1\n",
    "```\n",
    "</details>\n",
    "\n",
    "<details><summary>\n",
    "Click here for `lookup` code.\n",
    "</summary>\n",
    "```\n",
    "def lookup(self, string):\n",
    "    \"\"\"Check if element is in current Bloom Filter.\n",
    "\n",
    "    >>> bf = BloomFilter(size=10, hash_count=3)\n",
    "    >>> bf.add('pudding')\n",
    "    >>> bf.lookup('pudding')\n",
    "    'Probably'\n",
    "    >>> bf.lookup('salad')\n",
    "    'Nope'\n",
    "    \"\"\"\n",
    "    for seed in xrange(self.hash_count):\n",
    "        result = mmh3.hash(string, seed) % self.size\n",
    "        if self.bit_array[result] == 0:\n",
    "            return \"Nope\"\n",
    "    return \"Probably\"\n",
    "```\n",
    "</details>"
   ]
  },
  {
   "cell_type": "markdown",
   "metadata": {},
   "source": [
    "[Source](http://www.maxburstein.com/blog/creating-a-simple-bloom-filter/)"
   ]
  },
  {
   "cell_type": "markdown",
   "metadata": {},
   "source": [
    "---\n",
    "Let's use a Bloom Filter package\n",
    "---\n",
    "\n",
    "<img src=\"http://i.imgur.com/xTiuVsi.jpg\" style=\"width: 400px;\"/>"
   ]
  },
  {
   "cell_type": "code",
   "execution_count": 37,
   "metadata": {
    "collapsed": false
   },
   "outputs": [
    {
     "name": "stdout",
     "output_type": "stream",
     "text": [
      "Requirement already satisfied (use --upgrade to upgrade): pybloom in /Users/brianspiering/anaconda/envs/py2_de/lib/python2.7/site-packages\r\n",
      "Requirement already satisfied (use --upgrade to upgrade): bitarray>=0.3.4 in /Users/brianspiering/anaconda/envs/py2_de/lib/python2.7/site-packages (from pybloom)\r\n"
     ]
    }
   ],
   "source": [
    "! pip install pybloom"
   ]
  },
  {
   "cell_type": "code",
   "execution_count": 13,
   "metadata": {
    "collapsed": true
   },
   "outputs": [],
   "source": [
    "from pybloom import BloomFilter"
   ]
  },
  {
   "cell_type": "code",
   "execution_count": 38,
   "metadata": {
    "collapsed": true
   },
   "outputs": [],
   "source": [
    "# Create a Bloom filter\n",
    "bf = BloomFilter(capacity=1000, \n",
    "                error_rate=0.001)"
   ]
  },
  {
   "cell_type": "code",
   "execution_count": 39,
   "metadata": {
    "collapsed": false
   },
   "outputs": [
    {
     "data": {
      "text/plain": [
       "[False, False, False, False, False]"
      ]
     },
     "execution_count": 39,
     "metadata": {},
     "output_type": "execute_result"
    }
   ],
   "source": [
    "# Let's put in some numbers\n",
    "[bf.add(_) for _ in range(5)]"
   ]
  },
  {
   "cell_type": "code",
   "execution_count": 40,
   "metadata": {
    "collapsed": false
   },
   "outputs": [
    {
     "data": {
      "text/plain": [
       "True"
      ]
     },
     "execution_count": 40,
     "metadata": {},
     "output_type": "execute_result"
    }
   ],
   "source": [
    "# Are the numbers there?\n",
    "0 in bf"
   ]
  },
  {
   "cell_type": "code",
   "execution_count": 42,
   "metadata": {
    "collapsed": false
   },
   "outputs": [
    {
     "data": {
      "text/plain": [
       "True"
      ]
     },
     "execution_count": 42,
     "metadata": {},
     "output_type": "execute_result"
    }
   ],
   "source": [
    "# Are they all there?\n",
    "all((_ in bf) for _ in range(5))"
   ]
  },
  {
   "cell_type": "code",
   "execution_count": 43,
   "metadata": {
    "collapsed": false
   },
   "outputs": [
    {
     "data": {
      "text/plain": [
       "False"
      ]
     },
     "execution_count": 43,
     "metadata": {},
     "output_type": "execute_result"
    }
   ],
   "source": [
    "# How about other numbers?\n",
    "5 in bf"
   ]
  },
  {
   "cell_type": "markdown",
   "metadata": {},
   "source": [
    "---\n",
    "Fun Facts about Bloom Filters\n",
    "---\n",
    "\n",
    "-  Databases such as Cassandra and HBase use bloom filters to see if it should do a large query or not.\n",
    "\n",
    "- Elements only added, never removed\n",
    "\n",
    "- A fixed size Bloom filter can represent a set with an arbitrarily large number of elements. Adding an element never fails due to the data structure \"filling up.\" However, the false positive rate increases steadily as elements are added until all bits in the filter are set to 1, at which point __all queries yield a positive result__."
   ]
  },
  {
   "cell_type": "markdown",
   "metadata": {},
   "source": [
    "---\n",
    "What is a use case for Bloom Filters?\n",
    "---\n",
    "\n",
    "A browser could keep a local copy of all the malicious URLs that it could query to warn users (eliminates the network requests).\n",
    "\n",
    "But what about the wrong answers? \n",
    "\n",
    "A Bloom filter of malicious URLs will never report a malicious URL as “safe”, it might only report a “safe” URL as “malicious”. "
   ]
  },
  {
   "cell_type": "markdown",
   "metadata": {},
   "source": [
    "---\n",
    "Additional Resources\n",
    "---\n",
    "\n",
    "- [Cuckoo Filters](http://mybiasedcoin.blogspot.com/2014/10/cuckoo-filters.html)\n",
    "- [Cuckoo Filters: Better than Bloom](https://www.cs.cmu.edu/~binfan/papers/login_cuckoofilter.pdf)\n",
    "- [Cuckoo Filter: Simplification and Analysis](http://arxiv.org/abs/1604.06067)"
   ]
  },
  {
   "cell_type": "markdown",
   "metadata": {
    "collapsed": true
   },
   "source": [
    "<br>\n",
    "<br> \n",
    "<br>\n",
    "\n",
    "----\n",
    "What is Count-Min Sketch?\n",
    "---\n",
    "\n",
    "- Analogous to a Bloom filter that stores Approximate frequency counts\n",
    "- #1 use case: top unique entries for key (i.e., “Heavy Hitters” on Twitter)"
   ]
  },
  {
   "cell_type": "markdown",
   "metadata": {},
   "source": [
    "----\n",
    "How does count-min sketch work?\n",
    "----\n",
    "\n",
    "- Intialize a 2-dimensional array of counters\n",
    "- Number of hash functions * (fixed) number of counters\n",
    "- Insert by incrementing the counters on hashed indexes"
   ]
  },
  {
   "cell_type": "markdown",
   "metadata": {
    "collapsed": true
   },
   "source": [
    "![](images/count_min.png)"
   ]
  },
  {
   "cell_type": "markdown",
   "metadata": {},
   "source": [
    "---\n",
    "Add\n",
    "---\n",
    "\n",
    "Given a stream of occurrences\n",
    "\n",
    "<img src=\"images/add_count.png\" style=\"width: 400px;\"/>"
   ]
  },
  {
   "cell_type": "markdown",
   "metadata": {},
   "source": [
    "---\n",
    "Count\n",
    "---\n",
    "\n",
    "<img src=\"images/count_count.png\" style=\"width: 400px;\"/>"
   ]
  },
  {
   "cell_type": "markdown",
   "metadata": {},
   "source": [
    "----\n",
    "What kind of errors do Count Min Sketch have\n",
    "----\n",
    "\n",
    "> Can overestimate, but never underestimate"
   ]
  },
  {
   "cell_type": "markdown",
   "metadata": {},
   "source": [
    "---\n",
    "Check for understanding\n",
    "---\n",
    "\n",
    "<details><summary>\n",
    "If I wanted to estimate frequency, which data structure would I use?\n",
    "</summary>\n",
    "Count-Min Sketch<br>\n",
    "</details>"
   ]
  },
  {
   "cell_type": "markdown",
   "metadata": {},
   "source": [
    "<br>\n",
    "<br> \n",
    "<br>\n",
    "\n",
    "----\n",
    "Summary\n",
    "----\n",
    "\n",
    "- Trade bounded errors for greatly reduced resource costs\n",
    "- The algorithms are straight forward to implement\n",
    "- Could possible be the \"silver bullet\" for your scaling problem"
   ]
  },
  {
   "cell_type": "markdown",
   "metadata": {},
   "source": [
    "### Summary Table\n",
    "\n",
    "| Problem | Solution  |  \n",
    "|:-------:|:------:|\n",
    "| Set Membership | Bloom Filter  |\n",
    "| Frequency summaries | Count-Min Sketch |"
   ]
  },
  {
   "cell_type": "markdown",
   "metadata": {},
   "source": [
    "<br>\n",
    "<br> \n",
    "<br>\n",
    "\n",
    "----\n",
    "Bonus Materials\n",
    "----"
   ]
  },
  {
   "cell_type": "markdown",
   "metadata": {},
   "source": [
    "---\n",
    "Distributed Streaming Quantiles (DSQ)\n",
    "---\n",
    "\n",
    "- Sketch-based streaming quantile computation\n",
    "- The domain of possible values is split into dyadic intervals (powers of two) up to a specified number of levels. (This also means the domain must be specified in advance.) \n",
    "- Each level has its own count-min sketch. \n",
    "- When computing a quantile, we estimate the number of observations to the left of the specified quantile (along with the total count of observations). \n",
    "- The estimate is built by taking the largest possible intervals from the highest levels of the tree; higher levels are more accurate."
   ]
  },
  {
   "cell_type": "markdown",
   "metadata": {},
   "source": [
    "---\n",
    "Additional Resources\n",
    "----\n",
    "\n",
    "- [DSQ in PySpark](https://github.com/laserson/dsq)\n",
    "- [Orginal Paper](http://www.sciencedirect.com/science/article/pii/S0196677403001913)"
   ]
  }
 ],
 "metadata": {
  "anaconda-cloud": {},
  "kernelspec": {
   "display_name": "Python [default]",
   "language": "python",
   "name": "python2"
  },
  "language_info": {
   "codemirror_mode": {
    "name": "ipython",
    "version": 2
   },
   "file_extension": ".py",
   "mimetype": "text/x-python",
   "name": "python",
   "nbconvert_exporter": "python",
   "pygments_lexer": "ipython2",
   "version": "2.7.12"
  }
 },
 "nbformat": 4,
 "nbformat_minor": 0
}
