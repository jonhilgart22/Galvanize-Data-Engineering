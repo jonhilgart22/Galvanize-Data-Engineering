{
 "cells": [
  {
   "cell_type": "markdown",
   "metadata": {},
   "source": [
    "---\n",
    "Hadoop Ecosystem\n",
    "---\n",
    "\n",
    "\n",
    "<img src=\"http://datadotz.com/wp-content/uploads/2015/02/hadoop-stodgy-1345x1345.jpg\" width=\"250\">\n",
    "\n",
    "Our little elephant is all grown-up and ready to go to work"
   ]
  },
  {
   "cell_type": "markdown",
   "metadata": {},
   "source": [
    "---\n",
    "By the end of this session, you should know:\n",
    "----\n",
    "\n",
    "- Advanved MapReduce design patterns\n",
    "- MapReduce anti-patterns\n",
    "- The difference between Hadoop 1.* and 2.*\n",
    "- The \"animals\" in the current Hadoop \"Zoo\"\n",
    "- What the hell YARN and ZooKeeper are"
   ]
  },
  {
   "cell_type": "markdown",
   "metadata": {},
   "source": [
    "---\n",
    "MapReduce Redux\n",
    "---\n",
    "\n",
    "__Think about the output first in terms of Key-Value. __\n",
    "\n",
    "For example:\n",
    "\n",
    "- Metrics (date, webpage, locale: #users, #visits, #abandonment)\n",
    "- Membership:List of members\n",
    "- Property:Value (userId: name, location, #transactions, purchase Categories with frequencies )\n",
    "\n",
    "[Learn WAY more here](https://highlyscalable.wordpress.com/2012/02/01/mapreduce-patterns/)"
   ]
  },
  {
   "cell_type": "markdown",
   "metadata": {},
   "source": [
    "---\n",
    "Join in MapReduce\n",
    "---\n",
    "\n",
    "![](https://chamibuddhika.files.wordpress.com/2012/02/reducesidejoin.jpg)"
   ]
  },
  {
   "cell_type": "markdown",
   "metadata": {},
   "source": [
    "--- \n",
    "MapReduce anti-patterns\n",
    "---\n",
    "\n",
    "![](images/anti-pattern.png)\n",
    "\n",
    "1) __NEVER DO GRAPH SEARCH__\n",
    "\n",
    "aka How many friends to my friends have?\n",
    "\n",
    "2) Full Table Join\n",
    "\n",
    "```sql\n",
    "SELECT *\n",
    "FROM huge_table\n",
    "JOIN ON some_other_huge_table\n",
    "\n",
    "Remeber \"data locality\" - Compute is pushed to storage\n",
    "\n",
    "![](images/slow.png)\n",
    "\n",
    "![](images/filter.png)\n",
    "\n",
    "![](images/merge.png)\n",
    "\n",
    "__Extra points for MERGE JOIN__:\n",
    "\n",
    "__Optional Reading:__\n",
    "\n",
    "[Apache Hadoop: Best Practices and Anti-Patterns](https://developer.yahoo.com/blogs/hadoop/apache-hadoop-best-practices-anti-patterns-465.html)\n",
    "\n",
    "[The Top 7 Hadoop Patterns and Anti-patterns](https://www.google.com/url?sa=t&rct=j&q=&esrc=s&source=web&cd=2&cad=rja&uact=8&ved=0ahUKEwjhtuLD1dnKAhUIxGMKHa_VBpoQFggnMAE&url=https%3A%2F%2Foracleus.activeevents.com%2F2014%2Fconnect%2FfileDownload%2Fsession%2FFAB2683E5956C5B4E00139F262A6D055%2FCON3515_Holmes-javaone-2014-top-hadoop-patterns.pdf&usg=AFQjCNFrwyAtvlytw7m04kQLjID0AVrtrw&sig2=H7dtPgkDI2QvxrmtgSSl5w)"
   ]
  },
  {
   "cell_type": "markdown",
   "metadata": {},
   "source": [
    "---\n",
    "Limitations of Hadoop 1.x\n",
    "---\n",
    "\n",
    "- No horizontal scalability of NameNode\n",
    "- Does not support NameNode High Availability\n",
    "- Overburdened JobTracker\n",
    "- Not possible to run Non\n",
    "- MapReduce Big Data Applications on HDFS\n",
    "- Does not support Multi-tenancy"
   ]
  },
  {
   "cell_type": "markdown",
   "metadata": {},
   "source": [
    "Points to Ponder\n",
    "----\n",
    "\n",
    "<details><summary>\n",
    "Can you use hundreds of Hadoop DataNode for any other processing than MapReduce in Hadoop 1.x? Why?\n",
    "</summary>\n",
    " No. Hadoop 1.x dedicates all the DataNode resources to Map and Reduce slots\n",
    "<br>\n",
    "\n",
    "</details>\n",
    "\n",
    "<details><summary>\n",
    "Can you use Hadoop for Real-time processing? Why?\n",
    "</summary>\n",
    " No. Hadoop is designed and developer for massively parallel batch processing.\n",
    "<br>\n",
    "\n",
    "</details>\n",
    "\n",
    "</details>\n",
    "\n",
    "<details><summary>\n",
    " Can you store 1 billion files in a Hadoop 1.x cluster? Why?\n",
    "</summary>\n",
    " No. Even though you have hundreds of DataNodes in the cluster, the NameNode keeps all its metadata in memory, so you are limited to a maximum of only 50-100M files in the entire cluster because of a Single NameNode in Hadoop 1.x.\n",
    "<br>\n",
    "\n",
    "</details>\n"
   ]
  },
  {
   "cell_type": "markdown",
   "metadata": {},
   "source": [
    "![](images/hadoop_1_summary.png)"
   ]
  },
  {
   "cell_type": "markdown",
   "metadata": {},
   "source": [
    "---\n",
    "Hadoop 1.0 vs 2.0\n",
    "---\n",
    "\n",
    "![](images/1-to-2.png)"
   ]
  },
  {
   "cell_type": "markdown",
   "metadata": {},
   "source": [
    "---\n",
    "YARN\n",
    "---\n",
    "\n",
    "![](http://static01.nyt.com/images/2011/05/19/fashion/Z-YARN-P1-2/Z-YARN-P1-2-articleLarge.jpg)\n",
    "\n",
    "- __Y__et\n",
    "- __A__nother\n",
    "- __R__esource\n",
    "- __N__egotiator\n",
    "\n",
    "A global ResourceManager (RM) and per-application ApplicationMaster (AM)\n",
    "\n",
    "Not tied to MapReduce (Praise the Heavens 🙌)\n",
    "\n",
    "![](http://image.slidesharecdn.com/yarn-china-131217110834-phpapp02/95/apache-hadoop-yarn-understanding-the-data-operating-system-of-hadoop-7-638.jpg?cb=1387278584)\n",
    "\n",
    " "
   ]
  },
  {
   "cell_type": "markdown",
   "metadata": {},
   "source": [
    "---\n",
    "Rearchitectured for modularity\n",
    "---\n",
    "\n",
    "![](images/YARN.png)"
   ]
  },
  {
   "cell_type": "markdown",
   "metadata": {},
   "source": [
    "---\n",
    "Other important Hadoop 2.0 features\n",
    "----\n",
    "\n",
    "- HDFS Snapshots\n",
    "- Improved (i.e., NFSv3) access to data in HDFS\n",
    "- Support for running Hadoop on MS Windows (if you like that kind of thing)\n",
    "- Binary Compatibility for MapReduce applications built on Hadoop 1.0\n",
    "- Substantial amount of Integration testing with rest of the projects (such as PIG, HIVE) in Hadoop ecosystem\n"
   ]
  },
  {
   "cell_type": "markdown",
   "metadata": {},
   "source": [
    "---\n",
    "(YAAD) Yet Another Architecture Diagram\n",
    "---\n",
    "\n",
    "![](images/yaard.png)"
   ]
  },
  {
   "cell_type": "markdown",
   "metadata": {},
   "source": [
    "---\n",
    "Coordination in a distributed system\n",
    "---\n",
    "\n",
    "Coordination: An act that multiple nodes must perform together.\n",
    "\n",
    "Examples:\n",
    "\n",
    "- Group membership\n",
    "- Locking\n",
    "- Publisher/Subscriber\n",
    "- Leader Election\n",
    "- Synchronization\n",
    "\n",
    "\n",
    "__Getting node coordination correct is very hard!__"
   ]
  },
  {
   "cell_type": "markdown",
   "metadata": {},
   "source": [
    "---\n",
    "ZooKeeper (ZK)\n",
    "---\n",
    "\n",
    "![](https://static-secure.guim.co.uk/sys-images/Guardian/Pix/pictures/2011/7/22/1311338718286/Zookeeper-007.jpg)\n",
    "\n",
    "![](https://www.mapr.com/sites/default/files/zookeeper-image.png)\n",
    "\n",
    "__ZooKeeper (ZK)__ is an open-source solution enables highly reliable distributed coordination.\n",
    "\n",
    "a centralized service for maintaining configuration information, naming, providing distributed synchronization, and providing group services. "
   ]
  },
  {
   "cell_type": "markdown",
   "metadata": {},
   "source": [
    "Exposes common services in simple interface: \n",
    "\n",
    "- Naming\n",
    "- Configuration management\n",
    "- Locks & synchronization\n",
    "- Group services\n",
    "\n",
    "… developers don't have to write them from scratch\n",
    "\n",
    "Build your own on it for specific needs. "
   ]
  },
  {
   "cell_type": "markdown",
   "metadata": {
    "collapsed": true
   },
   "source": [
    "![](https://cwiki.apache.org/confluence/download/attachments/24193436/service.png?version=1&modificationDate=1295027310000&api=v2)\n",
    "\n",
    "ZooKeeper Service is replicated over a set of machines\n",
    "\n",
    "All machines store a copy of the data (in memory)‏\n",
    "\n",
    "A leader is elected on service startup\n",
    "\n",
    "Clients only connect to a single ZooKeeper server & maintains a TCP connection.\n",
    "\n",
    "Client can read from any Zookeeper server, writes go through the leader & needs majority consensus.\n"
   ]
  },
  {
   "cell_type": "markdown",
   "metadata": {},
   "source": [
    "---\n",
    "ZooKeeper Consistency Guarantees\n",
    "---\n",
    "\n",
    "- Sequential Consistency: Updates are applied in order\n",
    "- Atomicity: Updates either succeed or fail\n",
    "- Single System Image: A client sees the same view of the service regardless of the ZK server it connects to.\n",
    "- Reliability: Updates persists once applied, till overwritten by some clients.\n",
    "- Timeliness: The clients’ view of the system is guaranteed to be up-to-date within a certain time bound. (Eventual Consistency)\n"
   ]
  },
  {
   "cell_type": "markdown",
   "metadata": {},
   "source": [
    "---\n",
    "ZK References\n",
    "---\n",
    "\n",
    "- The Chubby lock service for loosely-coupled distributed systems\n",
    "- Google Research (7th USENIX Symposium on Operating Systems Design and Implementation (OSDI), {USENIX} (2006) )\n",
    "- ZooKeeper: Wait-free coordination for Internet-scale systems\n",
    "- Yahoo Research (USENIX Annual Technology Conference 2010)\n",
    "- Apache ZooKeeper Home: http://zookeeper.apache.org/\n",
    "- Presentations:\n",
    "    - http://www.slideshare.net/mumrah/introduction-to-zookeeper-trihug-may-22-2012\n",
    "    - http://www.slideshare.net/scottleber/apache-zookeeper\n",
    "    - https://cwiki.apache.org/confluence/display/ZOOKEEPER/ZooKeeperPresentations\n"
   ]
  },
  {
   "cell_type": "markdown",
   "metadata": {
    "collapsed": true
   },
   "source": [
    "Check for understanding\n",
    "----\n",
    "\n",
    "<details><summary>\n",
    "What is the relationship between Yarn and ZooKeeper?\n",
    "</summary>\n",
    "YARN is the new Map Reduce daemon (MRv1) and it's primary job is to take jobs and run them in the Hadoop cluster. So it primarily farms out and manages cluster work load. <br>\n",
    "<br>\n",
    "Zookeeper provides a distributed configuration service, a synchronization service and a naming registry for distributed systems. It is used by many daemons (including YARN) to manage their peers in a multiple node setup for high availability.\n",
    "<br>\n",
    "![](http://image.slidesharecdn.com/yarnprojectpreview-121122042407-phpapp01/95/high-availability-in-yarn-project-preview-3-638.jpg?cb=1353558314)\n",
    "[Source](https://www.quora.com/What-is-the-relationship-between-YARN-and-ZooKeeper-which-both-manage-a-cluster-of-nodes)\n",
    "</details>"
   ]
  },
  {
   "cell_type": "markdown",
   "metadata": {},
   "source": [
    "---\n",
    "Hadoop is written in Java therefore ...\n",
    "---\n",
    "\n",
    "it is __compiled!__\n",
    "\n",
    "It matters which versions are on your cluster.\n",
    "\n",
    "Welcome to __Hadoop Jar Hell__\n",
    "![](images/hell.png)"
   ]
  },
  {
   "cell_type": "markdown",
   "metadata": {},
   "source": [
    "---\n",
    "Pick the right tool\n",
    "---\n",
    "\n",
    "![](http://image.slidesharecdn.com/sparkforthebusinessanalyst-150812021110-lva1-app6891/95/spark-for-the-business-analyst-25-638.jpg?cb=1439345583)"
   ]
  },
  {
   "cell_type": "markdown",
   "metadata": {
    "collapsed": true
   },
   "source": [
    "---\n",
    "Summary\n",
    "---\n",
    "\n",
    "- We explored common advanced patterns\n",
    "- You have been warned about anti-patterns\n",
    "- Hadoop 2.0 is better. Enables Yarn (and Spark)\n",
    "- Yarn maximizes resources use.\n",
    "- I introduced ZooKeeper just to confuse you. ZK keeps clusters from being confused."
   ]
  }
 ],
 "metadata": {
  "anaconda-cloud": {},
  "kernelspec": {
   "display_name": "Python [default]",
   "language": "python",
   "name": "python2"
  },
  "language_info": {
   "codemirror_mode": {
    "name": "ipython",
    "version": 2
   },
   "file_extension": ".py",
   "mimetype": "text/x-python",
   "name": "python",
   "nbconvert_exporter": "python",
   "pygments_lexer": "ipython2",
   "version": "2.7.12"
  }
 },
 "nbformat": 4,
 "nbformat_minor": 0
}
