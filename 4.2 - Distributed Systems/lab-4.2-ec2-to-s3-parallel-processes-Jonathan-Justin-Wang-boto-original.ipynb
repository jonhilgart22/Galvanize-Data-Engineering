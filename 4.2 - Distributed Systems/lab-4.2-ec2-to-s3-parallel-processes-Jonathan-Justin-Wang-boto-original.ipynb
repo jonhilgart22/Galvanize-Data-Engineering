{
 "cells": [
  {
   "cell_type": "code",
   "execution_count": 16,
   "metadata": {
    "collapsed": false,
    "deletable": true,
    "editable": true
   },
   "outputs": [],
   "source": [
    "from boto.s3.connection import S3Connection\n",
    "from ipyparallel import Client\n",
    "import json\n",
    "from collections import Counter"
   ]
  },
  {
   "cell_type": "code",
   "execution_count": 2,
   "metadata": {
    "collapsed": false,
    "deletable": true,
    "editable": true
   },
   "outputs": [
    {
     "data": {
      "text/plain": [
       "10"
      ]
     },
     "execution_count": 2,
     "metadata": {},
     "output_type": "execute_result"
    }
   ],
   "source": [
    "# Start your engines!\n",
    "rc = Client()\n",
    "engines = rc[:]\n",
    "len(engines)"
   ]
  },
  {
   "cell_type": "code",
   "execution_count": 26,
   "metadata": {
    "collapsed": false,
    "deletable": true,
    "editable": true
   },
   "outputs": [
    {
     "name": "stdout",
     "output_type": "stream",
     "text": [
      "importing S3Connection from boto.s3.connection on engine(s)\n",
      "importing json on engine(s)\n"
     ]
    }
   ],
   "source": [
    "## ensure that every engine has the same functions available\n",
    "with engines.sync_imports():\n",
    "    from boto.s3.connection import S3Connection\n",
    "    import json\n"
   ]
  },
  {
   "cell_type": "code",
   "execution_count": 27,
   "metadata": {
    "collapsed": false,
    "deletable": true,
    "editable": true
   },
   "outputs": [],
   "source": [
    "## connect to aws\n",
    "s3 = S3Connection()\n",
    "bucket = s3.get_bucket('twitter-streaming02062017')\n",
    "list_of_aws_keys = [str(i.name) for i in bucket.list()]"
   ]
  },
  {
   "cell_type": "code",
   "execution_count": 33,
   "metadata": {
    "collapsed": false,
    "deletable": true,
    "editable": true
   },
   "outputs": [],
   "source": [
    "\n",
    "%%px \n",
    "def twitter_scatter(individual_key):\n",
    "    \"\"\"Create a client to s3. Then, iterate through the keys in the given bucket. Return a counter of each hashtag.\"\"\"\n",
    "    s3 = S3Connection()\n",
    "    bucket = s3.get_bucket('twitter-streaming02062017',validate=False)\n",
    "    key_file = bucket.get_key(individual_key)\n",
    "    strFile = key_file.get_contents_as_string()\n",
    "    result = []\n",
    "    count = 0\n",
    "    for tweet in strFile.split('/n'):\n",
    "        try:\n",
    "            entity = json.loads(tweet)\n",
    "            try:\n",
    "                entity = entity['entities']\n",
    "                if entity != None and (entity['hashtags'] != None or len(entity['hashtags']) != 0):\n",
    "                    for hashtags in entity['hashtags']:\n",
    "                        result.append(hashtags['text'])\n",
    "            except KeyError :\n",
    "                count+=1\n",
    "        except ValueError:\n",
    "            count+=1\n",
    "    return result\n",
    "\n"
   ]
  },
  {
   "cell_type": "code",
   "execution_count": 34,
   "metadata": {
    "collapsed": false,
    "deletable": true,
    "editable": true
   },
   "outputs": [
    {
     "name": "stdout",
     "output_type": "stream",
     "text": [
      "27\n"
     ]
    }
   ],
   "source": [
    "print(len(list_of_aws_keys)) ## Number of files to go through\n",
    "## scatter the keys to each engine\n",
    "engines.scatter('s3' , list_of_aws_keys).get()\n",
    "%px y = [twitter_scatter(_) for _ in s3]\n"
   ]
  },
  {
   "cell_type": "code",
   "execution_count": 35,
   "metadata": {
    "collapsed": false,
    "deletable": true,
    "editable": true
   },
   "outputs": [],
   "source": [
    "## next, ge the results of parsing the json from each engine\n",
    "result = engines.gather('y')\n",
    "from functools import reduce\n",
    "top_results = Counter(list(result)[0])\n",
    "\n"
   ]
  },
  {
   "cell_type": "code",
   "execution_count": 36,
   "metadata": {
    "collapsed": false
   },
   "outputs": [
    {
     "data": {
      "text/plain": [
       "[(u'CD9', 393),\n",
       " (u'OneDBestFans', 116),\n",
       " (u'CamilaBestFans', 108),\n",
       " (u'iHeartAwards', 51),\n",
       " (u'BestFanArmy', 45),\n",
       " (u'KCAPinoyStar', 42),\n",
       " (u'\\uc0ac\\uc124\\ud1a0\\ud1a0\\uc0ac\\uc774\\ud2b8\\ucd94\\ucc9c', 41),\n",
       " (u'\\u0e25\\u0e38\\u0e07\\u0e27\\u0e34\\u0e28\\u0e27\\u0e30', 33),\n",
       " (u'LizaSoberano', 31),\n",
       " (u'KCAEstrellaLatina', 27),\n",
       " (u'\\u0632\\u064a\\u0632\\u0648_HBD', 27),\n",
       " (u'BestFans2017', 26),\n",
       " (u'quote', 23),\n",
       " (u'NavoiyDay', 22),\n",
       " (u'KCAPersonalidadeBR', 20),\n",
       " (u'6DaysUntilMyExAndWhys', 20),\n",
       " (u'ChainedToTheRhythm', 19),\n",
       " (u'BIGOLIVE', 19),\n",
       " (u'ShePersisted', 19),\n",
       " (u'Lovatics', 18),\n",
       " (u'\\u0628\\u0636\\u0627\\u064a\\u0642_\\u0644\\u0645\\u0627', 18),\n",
       " (u'\\u062a\\u064a\\u0645_\\u0627\\u0644\\u063a\\u0627\\u0628\\u0647', 18),\n",
       " (u'ALDUB82ndWeeksary', 17),\n",
       " (u'\\u0628\\u0641\\u0643\\u0631_\\u0627\\u0644\\u0635\\u0631\\u062e\\u064a_\\u0633\\u064a\\u0646\\u062a\\u0635\\u0631_\\u0627\\ufef7\\u0633\\u0644\\u0627\\u0645',\n",
       "  16),\n",
       " (u'\\u0627\\u0644\\u0641\\u0631\\u0633\\u0627\\u0646_\\u0648\\u062d\\u0641\\u0644\\u0629_\\u0627\\u0644\\u0641\\u0648\\u0644\\u0648\\u0632',\n",
       "  16),\n",
       " (u'MyFirstAndLast', 16),\n",
       " (u'Harmonizers', 15),\n",
       " (u'NOW2016', 15),\n",
       " (u'TwoJustin', 15),\n",
       " (u'izmirescort', 14),\n",
       " (u'WelcomeparkbogumtoThailand', 14),\n",
       " (u'\\u0627\\u0644\\u064a\\u0648\\u0645_\\u0627\\u0644\\u0639\\u0627\\u0644\\u0645\\u064a_\\u0644\\u0644\\u0639\\u062a\\u0628\\u0627\\u0646',\n",
       "  13),\n",
       " (u'NCT_DREAM', 13),\n",
       " (u'\\uc0ac\\uc124\\ud1a0\\ud1a0\\ucd94\\ucc9c\\uc0ac\\uc774\\ud2b8', 12),\n",
       " (u'\\u0627\\u0645_\\u0632\\u0643\\u0631\\u064a\\u0627_\\u062a\\u0646\\u062e\\u0627\\u0643\\u0645',\n",
       "  11),\n",
       " (u'GobiernoBolivariano', 11),\n",
       " (u'Beliebers', 11),\n",
       " (u'escortizmir', 11),\n",
       " (u'job', 11),\n",
       " (u'ZaraBestFans', 10),\n",
       " (u'N1CanalFiesta5', 10),\n",
       " (u'\\u0645\\u0631\\u064a\\u0636\\u0647_\\u0627\\u0644\\u062c\\u0648\\u0641_\\u062a\\u0646\\u0627\\u0634\\u062f\\u0643\\u0645',\n",
       "  10),\n",
       " (u'PaQueMeInvitan', 10),\n",
       " (u'NOWZaraLarsson', 10),\n",
       " (u'\\u0631\\u0648\\u062d_\\u0627\\u0644\\u0648\\u0631\\u062f_20k_\\u0645\\u062d\\u0628',\n",
       "  9),\n",
       " (u'\\u0627\\u062e\\u0631\\u062c\\u0648\\u0627_\\u0639\\u062a\\u064a\\u0628\\u0647_\\u0645\\u0646_\\u0643\\u0648\\u0643\\u0628_\\u0627\\u0644\\u0627\\u0631\\u0636',\n",
       "  9),\n",
       " (u'TrumpRussia', 9),\n",
       " (u'ARAGUA', 9),\n",
       " (u'NadineLustre', 9),\n",
       " (u'LittyPalooza', 9),\n",
       " (u'\\ub9c8\\uc9c0\\ub9c9\\uccab\\uc0ac\\ub791', 9),\n",
       " (u'\\u062e\\u0627\\u0644\\u062f_\\u0627\\u0644\\u0639\\u062a\\u064a\\u0628\\u064a_\\u0641\\u064a_\\u0643\\u0644\\u0645\\u062a\\u064a\\u0646',\n",
       "  8),\n",
       " (u'TakipciKazan', 8),\n",
       " (u'ChavismoEsAmorySalud', 8),\n",
       " (u'\\u062f\\u0639\\u0627\\u0621', 8),\n",
       " (u'\\ufdfa', 8),\n",
       " (u'NowPlaying', 8),\n",
       " (u'GagaBestFans', 8),\n",
       " (u'Vernachanginglives2', 8),\n",
       " (u'LetLizSpeak', 8),\n",
       " (u'\\ud1a0\\ud1a0\\uc0ac\\uc774\\ud2b8\\ucd94\\ucc9c', 8),\n",
       " (u'umRei', 7),\n",
       " (u'\\ud6c4\\ubd88\\ucd9c\\uc7a5\\uc0f5', 7),\n",
       " (u'Trump', 7),\n",
       " (u'Quran', 7),\n",
       " (u'mlb\\uac8c\\uc784\\uac00\\uc785\\uc13c\\ud130', 7),\n",
       " (u'np', 7),\n",
       " (u'GOT7', 7),\n",
       " (u'\\uc0ac\\uc124\\ud1a0\\ud1a0\\uc0ac\\uc774\\ud2b8', 7),\n",
       " (u'\\ubc30\\ud2b8\\ub9e8\\ud1a0\\ud1a0', 7),\n",
       " (u'FiftyShadesDarker', 7),\n",
       " (u'\\uba40\\ud2f0\\uac8c\\uc784', 7),\n",
       " (u'\\uc5e0\\uc5d8\\ube44\\uac8c\\uc784', 7),\n",
       " (u'Hiring', 7),\n",
       " (u'\\uadf8\\ub79c\\ub4dc\\ubc14\\ub451\\uc774', 7),\n",
       " (u'VideoMTV2016', 7),\n",
       " (u'RT', 7),\n",
       " (u'AtinkaEntertainmentCity', 7),\n",
       " (u'Tetazo', 6),\n",
       " (u'news', 6),\n",
       " (u'SoundCloud', 6),\n",
       " (u'nowplaying', 6),\n",
       " (u'\\uc2a4\\ud3ec\\uce20\\ud1a0\\ud1a0\\uc0ac\\uc774\\ud2b8\\ucd94\\ucc9c', 6),\n",
       " (u'\\u0e17\\u0e35\\u0e21\\u0e25\\u0e38\\u0e07', 6),\n",
       " (u'BlackHistoryMonth', 6),\n",
       " (u'entrepreneur', 6),\n",
       " (u'QueCaigaLaMafiaYa', 6),\n",
       " (u'TreCru', 6),\n",
       " (u'letlizspeak', 6),\n",
       " (u'\\uc0ac\\uc124\\ub180\\uc774\\ud130\\ucd94\\ucc9c', 6),\n",
       " (u'giveaway', 6),\n",
       " (u'JaahilPMModi', 6),\n",
       " (u'\\u6bce\\u65e5\\u30ad\\u30ec\\u30c3\\u30ad\\u30ec', 6),\n",
       " (u'\\uc138\\ube10\\ud2f4', 6),\n",
       " (u'\\u0627\\u0644\\u0627\\u0645\\u064a\\u0631\\u0647_\\u0646\\u0628\\u0636_\\u0627\\u0644\\u063a\\u0644\\u0627_25k',\n",
       "  6),\n",
       " (u'\\uc804\\ub9bd\\uc120\\ub9c8\\uc0ac\\uc9c0', 6),\n",
       " (u'tm1dn', 5),\n",
       " (u'Kefera', 5),\n",
       " (u'MGWV', 5),\n",
       " (u'\\u0644\\u0627\\u0648\\u0644_\\u0645\\u0631\\u0647_\\u0628\\u0627\\u0644\\u0645\\u0645\\u0644\\u0643\\u0647',\n",
       "  5)]"
      ]
     },
     "execution_count": 36,
     "metadata": {},
     "output_type": "execute_result"
    }
   ],
   "source": [
    "#print out the top 100\n",
    "top_results.most_common(n=100)"
   ]
  },
  {
   "cell_type": "code",
   "execution_count": null,
   "metadata": {
    "collapsed": true
   },
   "outputs": [],
   "source": []
  }
 ],
 "metadata": {
  "kernelspec": {
   "display_name": "Python 2",
   "language": "python",
   "name": "python2"
  },
  "language_info": {
   "codemirror_mode": {
    "name": "ipython",
    "version": 2
   },
   "file_extension": ".py",
   "mimetype": "text/x-python",
   "name": "python",
   "nbconvert_exporter": "python",
   "pygments_lexer": "ipython2",
   "version": "2.7.12"
  }
 },
 "nbformat": 4,
 "nbformat_minor": 2
}
