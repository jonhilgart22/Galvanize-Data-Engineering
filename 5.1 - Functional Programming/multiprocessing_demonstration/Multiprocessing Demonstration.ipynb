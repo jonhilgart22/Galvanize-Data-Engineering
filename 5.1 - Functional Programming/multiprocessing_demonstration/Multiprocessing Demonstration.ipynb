{
 "cells": [
  {
   "cell_type": "markdown",
   "metadata": {},
   "source": [
    "# Multiprocessing Demonstration"
   ]
  },
  {
   "cell_type": "markdown",
   "metadata": {},
   "source": [
    "![multiprocessing](multiprocessing.jpg)"
   ]
  },
  {
   "cell_type": "markdown",
   "metadata": {},
   "source": [
    "### Learning Objectives:\n",
    "* Global Interpreter Lock (GIL)\n",
    "* What is multiprocessing?\n",
    "* Speed comparison \n",
    "* Multiprocessing vs Threading\n",
    "* Extending to other technologies"
   ]
  },
  {
   "cell_type": "markdown",
   "metadata": {},
   "source": [
    "### Global Interpreter Lock (GIL)"
   ]
  },
  {
   "cell_type": "markdown",
   "metadata": {
    "collapsed": true
   },
   "source": [
    "Global interpreter lock (GIL) is a mechanism used in computer language interpreters to synchronize the execution of threads so that only one native thread can execute at a time. (https://en.wikipedia.org/wiki/Global_interpreter_lock)\n",
    "\n",
    "* **In other words, CPython only runs one thread at a time**\n",
    "* This avoids compromising shared/global data structures\n",
    "* To get parallelization in python, we must run multiple jobs as separate processes\n"
   ]
  },
  {
   "cell_type": "markdown",
   "metadata": {
    "collapsed": false
   },
   "source": [
    "### What is multiprocessing?"
   ]
  },
  {
   "cell_type": "code",
   "execution_count": 1,
   "metadata": {
    "collapsed": false
   },
   "outputs": [
    {
     "name": "stderr",
     "output_type": "stream",
     "text": [
      "Warning: htop-2.0.2 already installed\n"
     ]
    }
   ],
   "source": [
    "%%bash \n",
    "brew install htop # installing htop"
   ]
  },
  {
   "cell_type": "code",
   "execution_count": 1,
   "metadata": {
    "collapsed": true
   },
   "outputs": [],
   "source": [
    "import time\n",
    "def how_to_fry_eggs_on_my_computer(t):\n",
    "    '''\n",
    "    INPUT: INT/FLOAT - time (seconds) to waste electricity\n",
    "    OUTPUT: None\n",
    "    '''\n",
    "    start = time.time()\n",
    "    while time.time() - start < t:\n",
    "        pass\n",
    "    return 'One process completed'"
   ]
  },
  {
   "cell_type": "markdown",
   "metadata": {},
   "source": [
    "This is serial processing.  Try running this and monitor `htop` for the activities of your different cores"
   ]
  },
  {
   "cell_type": "code",
   "execution_count": 3,
   "metadata": {
    "collapsed": false
   },
   "outputs": [
    {
     "data": {
      "text/plain": [
       "'One process completed'"
      ]
     },
     "execution_count": 3,
     "metadata": {},
     "output_type": "execute_result"
    }
   ],
   "source": [
    "how_to_fry_eggs_on_my_computer(10)"
   ]
  },
  {
   "cell_type": "markdown",
   "metadata": {},
   "source": [
    "Observations\n",
    "* What did you observe?\n",
    "* How many python processes were running?\n",
    "* Why did two cores show activity?"
   ]
  },
  {
   "cell_type": "markdown",
   "metadata": {},
   "source": [
    "Now let's try the same task but in parallel.  A lifecycle of a process is:\n",
    "\n",
    "* Fork\n",
    "* Execute \n",
    "* Exit\n",
    "* Reaped by parent"
   ]
  },
  {
   "cell_type": "code",
   "execution_count": 4,
   "metadata": {
    "collapsed": false
   },
   "outputs": [
    {
     "name": "stdout",
     "output_type": "stream",
     "text": [
      "This machine has 4 cpu's\n"
     ]
    }
   ],
   "source": [
    "from multiprocessing import Pool, cpu_count\n",
    "\n",
    "n_cpus = cpu_count()\n",
    "pool = Pool(processes=n_cpus)\n",
    "\n",
    "print('This machine has {} cpu\\'s'.format(n_cpus))"
   ]
  },
  {
   "cell_type": "code",
   "execution_count": 5,
   "metadata": {
    "collapsed": false
   },
   "outputs": [
    {
     "data": {
      "text/plain": [
       "['One process completed',\n",
       " 'One process completed',\n",
       " 'One process completed',\n",
       " 'One process completed']"
      ]
     },
     "execution_count": 5,
     "metadata": {},
     "output_type": "execute_result"
    }
   ],
   "source": [
    "import numpy as np\n",
    "\n",
    "pool.map(how_to_fry_eggs_on_my_computer, np.ones(n_cpus)*10)"
   ]
  },
  {
   "cell_type": "markdown",
   "metadata": {},
   "source": [
    "### Speed Comparison"
   ]
  },
  {
   "cell_type": "code",
   "execution_count": 6,
   "metadata": {
    "collapsed": false
   },
   "outputs": [
    {
     "name": "stdout",
     "output_type": "stream",
     "text": [
      "Computation taken 26.50576901435852 seconds with serial processing\n"
     ]
    }
   ],
   "source": [
    "def count_prime(n):\n",
    "    '''\n",
    "    INPUT: INT - positive number to calculate primes\n",
    "    OUTPUT: INT - number of prime numbers in digits up to n\n",
    "    '''\n",
    "    counter = 0\n",
    "    for i in range(2, n-1):\n",
    "        if n % i == 0:\n",
    "            counter += 1\n",
    "    return counter\n",
    "\n",
    "numbers = [int(i) for i in [7.7E7, 7.4E7, 7.3E7, 7.1E7]]\n",
    "start = time.time()\n",
    "[count_prime(n) for n in numbers]\n",
    "print('Computation taken {} seconds with serial processing'.format(time.time()-start))"
   ]
  },
  {
   "cell_type": "code",
   "execution_count": 7,
   "metadata": {
    "collapsed": false
   },
   "outputs": [
    {
     "name": "stdout",
     "output_type": "stream",
     "text": [
      "Computation taken 15.318376064300537 seconds with multiprocessing\n"
     ]
    }
   ],
   "source": [
    "pool = Pool(processes=n_cpus)\n",
    "start = time.time()\n",
    "pool.map(count_prime, numbers)\n",
    "print('Computation taken {} seconds with multiprocessing'.format(time.time()-start))"
   ]
  },
  {
   "cell_type": "markdown",
   "metadata": {},
   "source": [
    "When do you use multiprocessing?  The rule of thumb is that if you're waiting for your code to run long enough to ask this question, it might be a good idea"
   ]
  },
  {
   "cell_type": "markdown",
   "metadata": {
    "collapsed": false
   },
   "source": [
    "### Multiprocessing vs Threading"
   ]
  },
  {
   "cell_type": "markdown",
   "metadata": {},
   "source": [
    "Commit this to memory and you should always be able to pick the best tool:\n",
    "\n",
    "|Approach |Context |Memory Space | Example Use Case | \n",
    "|:-----:|:-----:|:-----:|:-----:|:-----:|\n",
    "|Threading | I/O bound | Shared | Webscraping (where you're waiting on GET requests) | \n",
    "|Multiprocessing | CPU bound | Separate |  Gridsearch (where you're limited by the computation) | "
   ]
  },
  {
   "cell_type": "code",
   "execution_count": 8,
   "metadata": {
    "collapsed": false
   },
   "outputs": [
    {
     "data": {
      "text/plain": [
       "123145378021376"
      ]
     },
     "execution_count": 8,
     "metadata": {},
     "output_type": "execute_result"
    },
    {
     "name": "stdout",
     "output_type": "stream",
     "text": [
      "Thread-3: Mon Feb 13 09:59:30 2017\n",
      "Thread-1: Mon Feb 13 09:59:31 2017Thread-3: Mon Feb 13 09:59:31 2017\n",
      "\n",
      "Thread-3: Mon Feb 13 09:59:32 2017\n",
      "Thread-2: Mon Feb 13 09:59:33 2017\n",
      "Thread-1: Mon Feb 13 09:59:33 2017\n",
      "Thread-3: Mon Feb 13 09:59:33 2017\n",
      "Thread-4: Mon Feb 13 09:59:34 2017\n",
      "Thread-3: Mon Feb 13 09:59:34 2017\n",
      "Thread-1: Mon Feb 13 09:59:35 2017\n",
      "Thread-2: Mon Feb 13 09:59:37 2017\n",
      "Thread-1: Mon Feb 13 09:59:37 2017\n",
      "Thread-4: Mon Feb 13 09:59:39 2017\n",
      "Thread-1: Mon Feb 13 09:59:39 2017\n",
      "Thread-2: Mon Feb 13 09:59:41 2017\n",
      "Thread-4: Mon Feb 13 09:59:44 2017\n",
      "Thread-2: Mon Feb 13 09:59:45 2017\n",
      "Thread-4: Mon Feb 13 09:59:49 2017\n",
      "Thread-2: Mon Feb 13 09:59:49 2017\n",
      "Thread-4: Mon Feb 13 09:59:54 2017\n"
     ]
    }
   ],
   "source": [
    "import _thread # this is the deprecated module for demonstration purposes.  Also see `threading`\n",
    "\n",
    "def print_time(threadName, delay):\n",
    "    '''\n",
    "    INPUT: name of thread as a string, delay time in seconds\n",
    "    OUTPUT: None, prints time 5 times\n",
    "    '''\n",
    "    count = 0\n",
    "    while count < 5:\n",
    "        time.sleep(delay)\n",
    "        count += 1\n",
    "        print(\"{}: {}\".format(threadName, time.ctime(time.time())))\n",
    "\n",
    "_thread.start_new_thread( print_time, (\"Thread-1\", 2, ) )\n",
    "_thread.start_new_thread( print_time, (\"Thread-2\", 4, ) )\n",
    "_thread.start_new_thread( print_time, (\"Thread-3\", 1, ) )\n",
    "_thread.start_new_thread( print_time, (\"Thread-4\", 5, ) )"
   ]
  },
  {
   "cell_type": "markdown",
   "metadata": {
    "collapsed": false
   },
   "source": [
    "### Extending to other technologies"
   ]
  },
  {
   "cell_type": "markdown",
   "metadata": {},
   "source": [
    "|Tool |Distribute term|Consolidate term|Application|\n",
    "|:--------:|:--------:|:--------:|:--------:|\n",
    "| multiprocessing | `start` | `join` |Distributing work across processors|\n",
    "| threading | `run`/`start` | `join` |Running work concurrently with shared memory and less overhead |\n",
    "| ipyparallel | `scatter` (data) `map` (work) | `gather` |Distributing work across processors or nodes|\n",
    "| Hadoop | map | reduce|Distributing work across nodes|\n",
    "| Spark | many | many | Adds complexity to Hadoop through an understanding of DAG |"
   ]
  },
  {
   "cell_type": "markdown",
   "metadata": {
    "collapsed": true
   },
   "source": [
    "### Concluding Remarks"
   ]
  },
  {
   "cell_type": "markdown",
   "metadata": {
    "collapsed": true
   },
   "source": [
    "* Use parallel processing with computationally intensive jobs\n",
    "* Use threading for speed\n",
    "* Use a parallel processing when the length of the job offsets the cost of launching a process\n",
    "* Like always, make a minimum viable product and then scale.  \n",
    "  * In this case, that means code in serial first before parallelizing  \n",
    "  * \"Premature optimization is the root of all evil\"\n",
    "* Have fun debugging :-)"
   ]
  },
  {
   "cell_type": "code",
   "execution_count": null,
   "metadata": {
    "collapsed": true
   },
   "outputs": [],
   "source": []
  }
 ],
 "metadata": {
  "anaconda-cloud": {},
  "kernelspec": {
   "display_name": "Python [default]",
   "language": "python",
   "name": "python3"
  },
  "language_info": {
   "codemirror_mode": {
    "name": "ipython",
    "version": 3
   },
   "file_extension": ".py",
   "mimetype": "text/x-python",
   "name": "python",
   "nbconvert_exporter": "python",
   "pygments_lexer": "ipython3",
   "version": "3.5.2"
  }
 },
 "nbformat": 4,
 "nbformat_minor": 2
}
