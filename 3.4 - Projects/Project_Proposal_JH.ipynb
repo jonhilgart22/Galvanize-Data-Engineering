{
 "cells": [
  {
   "cell_type": "markdown",
   "metadata": {},
   "source": [
    "# Project Goal\n",
    "\n",
    "- What percent full will a bart train be at a given time, between two given stations?\n",
    "- Data:\n",
    "    - Historic ridership for each month and each hour http://www.bart.gov/about/reports/ridership\n",
    "    - Real time train arrival information http://api.bart.gov/docs/etd/etd.aspx\n",
    "    - Real time weather information (api endpoint to be determined) https://openweathermap.org/api\n",
    "    - sample data returned in final_data text file"
   ]
  },
  {
   "cell_type": "code",
   "execution_count": null,
   "metadata": {
    "collapsed": true
   },
   "outputs": [],
   "source": []
  }
 ],
 "metadata": {
  "anaconda-cloud": {},
  "kernelspec": {
   "display_name": "Python [conda env:dsci6007]",
   "language": "python",
   "name": "conda-env-dsci6007-py"
  },
  "language_info": {
   "codemirror_mode": {
    "name": "ipython",
    "version": 2
   },
   "file_extension": ".py",
   "mimetype": "text/x-python",
   "name": "python",
   "nbconvert_exporter": "python",
   "pygments_lexer": "ipython2",
   "version": "2.7.13"
  }
 },
 "nbformat": 4,
 "nbformat_minor": 1
}
