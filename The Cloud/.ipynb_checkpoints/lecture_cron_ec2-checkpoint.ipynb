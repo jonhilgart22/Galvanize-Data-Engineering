{
 "cells": [
  {
   "cell_type": "markdown",
   "metadata": {},
   "source": [
    "---\n",
    "EC2 & cron\n",
    "===\n",
    "\n",
    "![](http://cdn.meme.li/instances/500x/54179491.jpg)"
   ]
  },
  {
   "cell_type": "markdown",
   "metadata": {},
   "source": [
    "### Disclaimer\n",
    "\n",
    "![](https://s-media-cache-ak0.pinimg.com/564x/a3/3f/5e/a33f5e9c1fa7e8accb537307d883b00a.jpg)\n",
    "\n",
    "This is not the proper or best way. I'm a hacker\n",
    "\n",
    "This just my way - YMMV"
   ]
  },
  {
   "cell_type": "markdown",
   "metadata": {},
   "source": [
    "---\n",
    "By the end of this session, you should be able to:\n",
    "---\n",
    "- Spin up an EC2\n",
    "- Know what cron is and when to use it\n",
    "- Setup cron job"
   ]
  },
  {
   "cell_type": "markdown",
   "metadata": {},
   "source": [
    "---\n",
    "ec2 workflow\n",
    "---\n",
    "\n",
    "![](http://www.dagtech.com/wp-content/uploads/2015/09/aws-ec2_logo_small.jpg)\n",
    "\n",
    "- Goto Management Console\n",
    "- Click on EC2\n",
    "- Click on Launch Instance\n",
    "    - With key pair\n",
    "    - Launch\n",
    "- Wait...\n",
    "- Grab Public DNS\n",
    "- On local: "
   ]
  },
  {
   "cell_type": "markdown",
   "metadata": {},
   "source": [
    "---\n",
    "On local\n",
    "---\n",
    "\n",
    "`ssh -i ~/.ssh/class.pem ec2-user@ec2-52-24-2-168.us-west-2.compute.amazonaws.com`"
   ]
  },
  {
   "cell_type": "markdown",
   "metadata": {},
   "source": [
    "---\n",
    "On your Instance\n",
    "---"
   ]
  },
  {
   "cell_type": "markdown",
   "metadata": {},
   "source": [
    "`whoami #=> e2-user`"
   ]
  },
  {
   "cell_type": "markdown",
   "metadata": {},
   "source": [
    "__EC2 Help__:\n",
    "\n",
    "[RTFM](http://docs.aws.amazon.com/AWSEC2/latest/UserGuide/AccessingInstancesLinux.html)  \n",
    "[Troubleshooting](http://docs.aws.amazon.com/AWSEC2/latest/UserGuide/TroubleshootingInstancesConnecting.html)"
   ]
  },
  {
   "cell_type": "markdown",
   "metadata": {},
   "source": [
    "---\n",
    "What can we do with our puny nano?\n",
    "---"
   ]
  },
  {
   "cell_type": "markdown",
   "metadata": {},
   "source": [
    "---\n",
    "cron\n",
    "==="
   ]
  },
  {
   "cell_type": "markdown",
   "metadata": {
    "collapsed": true
   },
   "source": [
    "![](https://smhttp-nex.nexcesscdn.net/803313/static/images/blog/2014-01-30/cron-job.png)"
   ]
  },
  {
   "cell_type": "markdown",
   "metadata": {},
   "source": [
    "---\n",
    "cron\n",
    "----\n",
    "\n",
    "`cron` named for the Greek word Chronos, meaning time\n",
    "\n",
    "cron: a daemon that executes scheduled commands\n",
    "\n",
    "Enables users to schedule jobs (commands or shell scripts) to run periodically at certain times or dates\n",
    " \n",
    "Commonly used to automate system maintenance or administration"
   ]
  },
  {
   "cell_type": "markdown",
   "metadata": {},
   "source": [
    "![](images/cron.jpg)\n",
    "\n",
    "Cronjobs - list of scripts and times to run them\n",
    "\n",
    "Crontab  - where the the cronjobs are stored"
   ]
  },
  {
   "cell_type": "markdown",
   "metadata": {},
   "source": [
    "---\n",
    "Let's make some logs\n",
    "----"
   ]
  },
  {
   "cell_type": "code",
   "execution_count": 1,
   "metadata": {
    "collapsed": false
   },
   "outputs": [],
   "source": [
    "! echo `date +%s` >> ~/logs.txt"
   ]
  },
  {
   "cell_type": "code",
   "execution_count": 2,
   "metadata": {
    "collapsed": false
   },
   "outputs": [
    {
     "name": "stdout",
     "output_type": "stream",
     "text": [
      "1456785513\r\n"
     ]
    }
   ],
   "source": [
    "! cat ~/logs.txt"
   ]
  },
  {
   "cell_type": "code",
   "execution_count": 3,
   "metadata": {
    "collapsed": false
   },
   "outputs": [
    {
     "name": "stdout",
     "output_type": "stream",
     "text": [
      "rm: /Users/brianspiering/log.txt: No such file or directory\r\n"
     ]
    }
   ],
   "source": [
    "! rm ~/log.txt"
   ]
  },
  {
   "cell_type": "markdown",
   "metadata": {},
   "source": [
    "Great! \n",
    "\n",
    "Let's automate it"
   ]
  },
  {
   "cell_type": "markdown",
   "metadata": {},
   "source": [
    "Run in terminal:\n",
    "\n",
    "``` bash\n",
    "env EDITOR=nano crontab -e\n",
    "```"
   ]
  },
  {
   "cell_type": "markdown",
   "metadata": {},
   "source": [
    "Add logging\n",
    "\n",
    "```bash\n",
    "* * * * * echo `date +\\%s` >> ~/logs.txt\n",
    "```"
   ]
  },
  {
   "cell_type": "markdown",
   "metadata": {
    "collapsed": true
   },
   "source": [
    "---\n",
    "Cron Decoder Ring\n",
    "---\n",
    "\n",
    "![](https://tigr.net/wp-content/uploads/2014/09/LXF95.tut_cron1.png)"
   ]
  },
  {
   "cell_type": "markdown",
   "metadata": {},
   "source": [
    "---\n",
    "Challenge question\n",
    "---\n",
    "\n",
    "<details><summary>\n",
    "How often will the script run?\n",
    "</summary>\n",
    "One every minute. <br>\n",
    "That is the default (and the most often a job will run)\n",
    "</details>"
   ]
  },
  {
   "cell_type": "markdown",
   "metadata": {},
   "source": [
    "Let's look at the jobs"
   ]
  },
  {
   "cell_type": "markdown",
   "metadata": {
    "collapsed": false
   },
   "source": [
    "`! crontab -l`"
   ]
  },
  {
   "cell_type": "markdown",
   "metadata": {},
   "source": [
    "Check on daemon"
   ]
  },
  {
   "cell_type": "markdown",
   "metadata": {},
   "source": [
    "`ps aux | grep crond`"
   ]
  },
  {
   "cell_type": "markdown",
   "metadata": {},
   "source": [
    "---\n",
    "<br>\n",
    "<br>\n",
    "\n",
    "We check in on our logs and see what is happening through out the rest of the lecture.\n",
    "\n",
    "Remind me!"
   ]
  },
  {
   "cell_type": "code",
   "execution_count": 4,
   "metadata": {
    "collapsed": false
   },
   "outputs": [
    {
     "name": "stdout",
     "output_type": "stream",
     "text": [
      "1456785513\r\n"
     ]
    }
   ],
   "source": [
    "! cat ~/logs.txt"
   ]
  },
  {
   "cell_type": "markdown",
   "metadata": {},
   "source": [
    "---\n",
    "Gotachas\n",
    "---"
   ]
  },
  {
   "cell_type": "markdown",
   "metadata": {},
   "source": [
    "__1)__ Error logging is sent at mail on the system"
   ]
  },
  {
   "cell_type": "markdown",
   "metadata": {},
   "source": [
    "Let's look at there terminal...."
   ]
  },
  {
   "cell_type": "markdown",
   "metadata": {},
   "source": [
    "`You have new mail.`"
   ]
  },
  {
   "cell_type": "code",
   "execution_count": 6,
   "metadata": {
    "collapsed": false
   },
   "outputs": [
    {
     "name": "stdout",
     "output_type": "stream",
     "text": [
      "No mail for brian\r\n"
     ]
    }
   ],
   "source": [
    "! mail"
   ]
  },
  {
   "cell_type": "markdown",
   "metadata": {},
   "source": [
    "If being pen pals with your Terminal isn't your thing, you can disable this behaviour by inserting this line at the very top of your crontab file:\n",
    "\n",
    "```bash\n",
    "MAILTO=\"\"\n",
    "```"
   ]
  },
  {
   "cell_type": "markdown",
   "metadata": {},
   "source": [
    "Install mail client\n",
    "\n",
    "`sudo yum install mail`"
   ]
  },
  {
   "cell_type": "markdown",
   "metadata": {},
   "source": [
    "[mail commnads](https://www.cs.colostate.edu/helpdocs/email.html)"
   ]
  },
  {
   "cell_type": "markdown",
   "metadata": {},
   "source": [
    "__2)__ Permission denied when running shell scripts"
   ]
  },
  {
   "cell_type": "markdown",
   "metadata": {},
   "source": [
    "Common error:\n",
    "\n",
    "`/bin/sh: /home/ec2-user/logging.sh: Permission denied`"
   ]
  },
  {
   "cell_type": "markdown",
   "metadata": {
    "collapsed": false
   },
   "source": [
    "%%writefile ~/logging.sh\n",
    "#!/usr/bin/env bash\n",
    "echo `date +\\%s` >> ~/logs.txt"
   ]
  },
  {
   "cell_type": "markdown",
   "metadata": {
    "collapsed": true
   },
   "source": [
    "Add logging\n",
    "\n",
    "```bash\n",
    "* * * * * ~/Desktop/logging.sh\n",
    "```"
   ]
  },
  {
   "cell_type": "markdown",
   "metadata": {},
   "source": [
    "__Soluton__: Add shell script to path in crontab"
   ]
  },
  {
   "cell_type": "markdown",
   "metadata": {},
   "source": [
    "---\n",
    "Points to Ponder\n",
    "---\n",
    "\n",
    "<details><summary>\n",
    "What about on Mac?\n",
    "</summary>\n",
    "No cron. <br>\n",
    "Use [launchd](https://developer.apple.com/library/mac/documentation/MacOSX/Conceptual/BPSystemStartup/Chapters/ScheduledJobs.html)\n",
    "</details>\n",
    "\n",
    "<details><summary>\n",
    "What happens when if your computer is off?\n",
    "</summary>\n",
    "The job does __not__ run. <br>\n",
    "Use `anacron` to run once computer is turned on. <br>\n",
    "Or get a server on the cloud that never sleeps!\n",
    "</details>"
   ]
  },
  {
   "cell_type": "markdown",
   "metadata": {},
   "source": [
    "---\n",
    "Addtional Resources\n",
    "---\n",
    "\n",
    "[cron examples](http://www.thegeekstuff.com/2009/06/15-practical-crontab-examples/)\n",
    "\n",
    "[crontab.guru](https://crontab.guru/)"
   ]
  },
  {
   "cell_type": "markdown",
   "metadata": {},
   "source": [
    "---\n",
    "Remeber to stop (or terminate) instance\n",
    "===\n",
    "\n",
    "![](http://www.blackenterprise.com/wp-content/blogs.dir/1/files/2010/11/donald-trump-youre-fired.jpg)"
   ]
  },
  {
   "cell_type": "markdown",
   "metadata": {},
   "source": [
    "---\n",
    "Caveats\n",
    "---\n",
    "\n",
    "EC2, cronjobs, and shell scripts become very quickly unmaintainable \n",
    "\n",
    "![](http://www.quickmeme.com/img/4b/4b13379ccd882c9910256f803ec1670dd169859d3cb28cc050e61d4e228984c6.jpg)\n",
    "\n",
    "Check out:\n",
    "- [Celery](http://www.celeryproject.org/): Distributed Task Queue\n",
    "- [Airflow](https://github.com/airbnb/airflow): A system to programmatically author, schedule and monitor data pipelines."
   ]
  },
  {
   "cell_type": "markdown",
   "metadata": {},
   "source": [
    "---\n",
    "Futher reading\n",
    "---\n",
    "\n",
    "[cron best practices](https://sanctum.geek.nz/arabesque/cron-best-practices/?imm_mid=0e3bcf&cmp=em-prog-na-na-newsltr_20160514)"
   ]
  },
  {
   "cell_type": "markdown",
   "metadata": {},
   "source": [
    "---\n",
    "Summary\n",
    "----\n",
    "- EC2 are daemons, servers that run all the time\n",
    "- EC2 are good places for scheduled jobs\n",
    "- cron is a simple(?) way to set up scheduled jobs"
   ]
  },
  {
   "cell_type": "markdown",
   "metadata": {},
   "source": [
    "<br>\n",
    "<br>\n",
    "<br>\n",
    "----"
   ]
  }
 ],
 "metadata": {
  "anaconda-cloud": {},
  "kernelspec": {
   "display_name": "Python [default]",
   "language": "python",
   "name": "python3"
  },
  "language_info": {
   "codemirror_mode": {
    "name": "ipython",
    "version": 3
   },
   "file_extension": ".py",
   "mimetype": "text/x-python",
   "name": "python",
   "nbconvert_exporter": "python",
   "pygments_lexer": "ipython3",
   "version": "3.5.2"
  }
 },
 "nbformat": 4,
 "nbformat_minor": 0
}
