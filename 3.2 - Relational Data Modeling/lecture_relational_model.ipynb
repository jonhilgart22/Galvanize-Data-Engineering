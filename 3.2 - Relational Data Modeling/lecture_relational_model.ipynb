{
 "cells": [
  {
   "cell_type": "markdown",
   "metadata": {},
   "source": [
    "Relational Database Modeling\n",
    "==="
   ]
  },
  {
   "cell_type": "markdown",
   "metadata": {},
   "source": [
    "> Those who cannot remember the past are condemned to repeat it.\n",
    "\n",
    "-- _The Life of Reason_, by George Santayana"
   ]
  },
  {
   "cell_type": "markdown",
   "metadata": {},
   "source": [
    "By The End of This Session You Will Know:\n",
    "---\n",
    "- A brief history of relational database management system (RDBMS) \n",
    "- DB Design 101\n",
    "- The basics of Relational Algebra\n",
    "- The common types of keys\n",
    "- 1st, 2nd, and 3rd Nominal forms\n",
    "- ACID (the other kind)\n",
    "- Object-relational mapping (ORM), aka THE HORROR!"
   ]
  },
  {
   "cell_type": "markdown",
   "metadata": {},
   "source": [
    "---\n",
    "What is relational database management system (RDBMS)?\n",
    "\n",
    "> A program that lets you create, update, and administer a relational database. "
   ]
  },
  {
   "cell_type": "markdown",
   "metadata": {},
   "source": [
    "---\n",
    "DB Evolution\n",
    "---\n",
    "\n",
    "* 1960s\n",
    "    - Hierarchical data structure (IBM IMS)\n",
    "    - Network data structure (CODASYL)\n",
    "\n",
    "* 1970s\n",
    "    - Relational data model\n",
    "        * A Relational Model of Data for Large Shared Data Banks – E. F. Codd [1970]\n",
    "    - System R (IBM), Ingres (Berkeley)\n",
    "\n",
    "* 1980s\n",
    "    - Commercialization of RDBMS (relational database management systems)\n",
    "        * Oracle, Sybase, IBM DB2, Informix\n",
    "    - SQL (Structured Query Language)\n",
    "    - ACID (**A**tomic, **C**onsistent, **I**solated, **D**urable)\n",
    "\n",
    "* 1990s\n",
    "    - PC RDBMS\n",
    "        * Paradox, Microsoft SQL Server & Access\n",
    "    - Larger DBs, driven by internet\n",
    "    - Consolidation among commercial DB vendors\n",
    "\n",
    "* 2000s\n",
    "    - Commercialization of Open Source RDBMS\n",
    "        * MySQL, Postgres\n",
    "    - Evolving requirements expose RDBMS limitations\n",
    "        * Storing complex and dynamic objects\n",
    "        * Processing increasing data volumes\n",
    "        * Analyzing massive amounts of data\n",
    "\n"
   ]
  },
  {
   "cell_type": "markdown",
   "metadata": {},
   "source": [
    "---\n",
    "Design\n",
    "---\n",
    "![](images/entity.png)\n",
    "\n",
    "For every entity, create corresponding table\n",
    "\n",
    "For every relationship, create table"
   ]
  },
  {
   "cell_type": "markdown",
   "metadata": {},
   "source": [
    "---\n",
    "Relational Algebra\n",
    "---\n",
    "\n",
    "Relational Algebra is the pure mathmatical theory behind the specific instance of a RDMS\n",
    "\n",
    "Has 5 primitive operators:\n",
    "\n",
    "1. Selection\n",
    "2. Projection (aka, the picking a sub-set of all available columns)\n",
    "3. Cartesian product (also called the cross product or cross join)\n",
    "4. Set union\n",
    "5. Set difference\n",
    "\n",
    "These are the 1st principles. If you are RYO DB, you should know it inside and out.\n",
    "\n",
    "[Introduction to Relational Algebra](http://en.wikipedia.org/wiki/Relational_algebra) <br>\n",
    "[Deeper dive into relational algebra](http://www.tutorialspoint.com/dbms/relational_algebra.htm)"
   ]
  },
  {
   "cell_type": "markdown",
   "metadata": {},
   "source": [
    "Keys\n",
    "-------------\n",
    "* A **candidate key** of a relation is a minimal superkey for that relation; that is, a set of attributes such that:\n",
    "    1. the relation does not have two distinct tuples (*i.e.* rows or records in common database language) with the same values for these attributes (which means that the set of attributes is a superkey)\n",
    "    2. there is no proper subset of these attributes for which (1) holds (which means that the set is minimal).  \n",
    "* A **primary key** is a candidate key that is chosen to uniquely identify each tuple (row) in a relation (table). *N.B.* A **candidate key** is a logical construct. A **primary key** is an implementation detail.\n",
    "* A **foreign key** (when enforced) indicates a dependancy between two relations (tables). \n",
    "    - often (though not necessarily) a candidate key of the other table\n",
    "    - referential integrity exists when a candidate key exists for all foreign keys\n",
    "\n",
    "![Referential Integrity](https://s3-us-west-2.amazonaws.com/dsci6007/assets/Referential_integrity_broken.png)"
   ]
  },
  {
   "cell_type": "markdown",
   "metadata": {},
   "source": [
    "---\n",
    "Normalization\n",
    "---\n",
    "\n",
    "The objectives of normalization were stated as follows by Codd:\n",
    "\n",
    "> 1. To free the collection of relations from undesirable insertion, update and deletion dependencies;\n",
    "> 2. To reduce the need for restructuring the collection of relations, as new types of data are introduced, and thus increase the life span of application programs;\n",
    "> 3. To make the relational model more informative to users;\n",
    "> 4. To make the collection of relations neutral to the query statistics, where these statistics are liable to change as time goes by.  \n",
    "\n",
    "Codd, E.F. \"Further Normalization of the Data Base Relational Model\", p. 34\n",
    "\n",
    "First normal form (1NF)  \n",
    "------------------------\n",
    "A relation is in *first normal form* if the domain of each attribute contains only **atomic** values, and the value of each attribute contains only a **single value** from that domain.\n",
    "\n",
    "***The following scenario illustrates how a database design might violate first normal form.***\n",
    "\n",
    "*Taken from [http://en.wikipedia.org/wiki/First_normal_form](http://en.wikipedia.org/wiki/First_normal_form)*\n",
    "\n",
    "Suppose a designer wishes to record the names and telephone numbers of customers. He defines a customer table which looks like this:"
   ]
  },
  {
   "cell_type": "markdown",
   "metadata": {},
   "source": [
    "**Customer**\n",
    "\n",
    "| Customer ID | First Name | Surname   | Telephone Number |\n",
    "| -----------:| ---------- | --------- | ---------------- |\n",
    "|         123 | Robert     | Ingram    | 555-861-2025     |\n",
    "|         456 | Jane       | Wright    | 555-403-1659     |\n",
    "|         789 | Maria      | Fernandez | 555-808-9633     |\n",
    "\n",
    "The designer then becomes aware of a requirement to record **multiple** telephone numbers for some customers. He reasons that the simplest way of doing this is to allow the \"Telephone Number\" field in any given record to contain more than one value:"
   ]
  },
  {
   "cell_type": "markdown",
   "metadata": {},
   "source": [
    "**Customer**\n",
    "\n",
    "| Customer ID | First Name | Surname   | Telephone Number |\n",
    "| -----------:| ---------- | --------- | ---------------- |\n",
    "|         123 | Robert     | Ingram    | 555-861-2025     |\n",
    "|         456 | Jane       | Wright    | 555-403-1659 <br> 555-776-4100 |\n",
    "|         789 | Maria      | Fernandez | 555-808-9633     |\n",
    "\n",
    "Assuming, however, that the Telephone Number column is defined on some telephone number-like domain, such as the domain of 12-character strings, the representation above is not in first normal form. It is in violation of first normal form as a single field has been allowed to contain multiple values. A typical _relational database management system_ will not allow fields in a table to contain multiple values in this way."
   ]
  },
  {
   "cell_type": "markdown",
   "metadata": {},
   "source": [
    "### A design that complies with 1NF\n",
    "\n",
    "A design that is unambiguously in first normal form makes use of two tables: a Customer Name table and a Customer Telephone Number table.\n",
    "\n",
    "**Customer Name**\n",
    "\n",
    "| Customer ID | First Name | Surname   |\n",
    "| -----------:| ---------- | --------- |\n",
    "|         123 | Robert     | Ingram    |\n",
    "|         456 | Jane       | Wright    |\n",
    "|         789 | Maria      | Fernandez |\n",
    "\n",
    "\n",
    "**Customer Telephone Number **\n",
    "\n",
    "| Customer ID | Telephone Number |\n",
    "| ---:| --- |\n",
    "| 123 | 555-861-2025 |\n",
    "| 456 | 555-403-1659 |\n",
    "| 456 | 555-776-4100 |\n",
    "| 789 | 555-808-9633 |\n",
    "\n",
    "Repeating groups of telephone numbers do not occur in this design. Instead, each Customer-to-Telephone Number link appears on its own record. With Customer ID as key, a one-to-many relationship exists between the two tables. A record in the \"parent\" table, Customer Name, can have many telephone number records in the \"child\" table, Customer Telephone Number, but each telephone number belongs to one, and only one customer.\n",
    "\n",
    "Second normal form (2NF) \n",
    "------------------------\n",
    "A table is in 2NF *if and only if* it is in 1NF and every *non-prime attribute* of the table is dependent on *the whole of a candidate key*.\n",
    "\n",
    "***Consider a table describing employees' skills:***\n",
    "\n",
    "**Employees' Skills**\n",
    "\n",
    "| Employee \t|Skill \t|Current Work Location|\n",
    "| --------- | --------- | --------------- |\n",
    "| Brown \t|Light Cleaning \t|73 Industrial Way|\n",
    "| Brown \t|Typing \t|73 Industrial Way|\n",
    "| Harrison \t|Light Cleaning \t|73 Industrial Way|\n",
    "| Jones \t|Shorthand \t|114 Main Street|\n",
    "| Jones \t|Typing \t|114 Main Street|\n",
    "| Jones \t|Whittling \t|114 Main Street|\n",
    "\n",
    "Neither {Employee} nor {Skill} is a candidate key for the table. This is because a given Employee might need to appear more than once (he might have multiple Skills), and a given Skill might need to appear more than once (it might be possessed by multiple Employees). Only the composite key {Employee, Skill} qualifies as a candidate key for the table.\n",
    "\n",
    "*Taken from [http://en.wikipedia.org/wiki/Second_normal_form](http://en.wikipedia.org/wiki/Second_normal_form)*\n",
    "\n",
    "The remaining attribute, Current Work Location, is dependent on only part of the candidate key, namely Employee. Therefore the table is not in 2NF. Note the redundancy in the way Current Work Locations are represented: we are told three times that Jones works at 114 Main Street, and twice that Brown works at 73 Industrial Way. This redundancy makes the table vulnerable to update anomalies: it is, for example, possible to update Jones' work location on his \"**Shorthand**\" and \"**Typing**\" records and not update his \"**Whittling**\" record. The resulting data would imply contradictory answers to the question \"What is Jones' current work location?\"\n",
    "\n",
    "**Employees' Skills**\n",
    "\n",
    "| Employee \t|Skill \t|Current Work Location|\n",
    "| - | - | - |\n",
    "| Brown \t|Light Cleaning \t|73 Industrial Way|\n",
    "| Brown \t|Typing \t|73 Industrial Way|\n",
    "| Harrison \t|Light Cleaning \t|73 Industrial Way|\n",
    "| Jones \t|Shorthand \t|*414 Brannon Street* |\n",
    "| Jones \t|Typing \t|*414 Brannon Street* |\n",
    "| Jones \t|Whittling \t|114 Main Street|\n",
    "\n",
    "A 2NF alternative to this design would represent the same information in two tables: an \"Employees\" table with candidate key {Employee}, and an \"Employees' Skills\" table with candidate key {Employee, Skill}:\n",
    "\n",
    "\n",
    "**Employees**\n",
    "\n",
    "| Employee \t|Current Work Location\n",
    "| --- | ---\n",
    "| Brown \t|73 Industrial Way\n",
    "| Harrison \t|73 Industrial Way\n",
    "| Jones \t|114 Main Street\n",
    "\n",
    "\n",
    "**Employees' Skills**\n",
    "\n",
    "|Employee \t|Skill\n",
    "| --- | ---\n",
    "|Brown \t|Light Cleaning\n",
    "|Brown \t|Typing\n",
    "|Harrison \t|Light Cleaning\n",
    "|Jones \t|Shorthand\n",
    "|Jones \t|Typing\n",
    "|Jones \t|Whittling\n",
    "\n",
    "Neither of these tables can suffer from update anomalies.\n",
    "\n",
    "Not all 2NF tables are free from update anomalies, however. This brings us to...\n",
    "\n",
    "Third normal form (3NF) \n",
    "------------------------\n",
    "3NF was originally defined by E.F. Codd in 1971\n",
    "\n",
    "A table is in 3NF *if and only if* it is in 2NF and every *non-prime attribute* of the table is *non-transitively* (i.e. directly) dependent on *every superkey* of that table.\n",
    "\n",
    "Or...  \n",
    ">\"[Every] non-key [attribute] must provide a fact about the key, the whole key, and nothing but the key (so help me Codd).\"*\n",
    "\n",
    "* Requiring existence of \"the key\" ensures that the table is in 1NF\n",
    "* Requiring that non-key attributes be dependent on \"the whole key\" ensures 2NF\n",
    "* Requiring that non-key attributes be dependent on \"nothing but the key\" ensures 3NF\n",
    "\n",
    "***An example of a 2NF table that fails to meet the requirements of 3NF is:***\n",
    "\n",
    "**Tournament Winners**\n",
    "\n",
    "|Tournament \t|Year \t|Winner \t|Winner Date of Birth\n",
    "| --- | --- | --- | ---\n",
    "|Indiana Invitational \t|1998 \t|Al Fredrickson \t|21 July 1975\n",
    "|Cleveland Open \t|1999 \t|Bob Albertson \t|28 September 1968\n",
    "|Des Moines Masters \t|1999 \t|Al Fredrickson \t|21 July 1975\n",
    "|Indiana Invitational \t|1999 \t|Chip Masterson \t|14 March 1977\n",
    "\n",
    "Because each row in the table needs to tell us who won a particular Tournament in a particular Year, the composite key {Tournament, Year} is a minimal set of attributes guaranteed to uniquely identify a row. That is, {Tournament, Year} is a candidate key for the table.\n",
    "\n",
    "The breach of 3NF occurs because the non-prime attribute **Winner Date of Birth** is transitively dependent on the candidate key {Tournament, Year} via the non-prime attribute Winner. The fact that Winner Date of Birth is functionally dependent on Winner makes the table vulnerable to logical inconsistencies, as there is nothing to stop the same person from being shown with different dates of birth on different records.\n",
    "\n",
    "*Taken from [http://en.wikipedia.org/wiki/Third_normal_form](http://en.wikipedia.org/wiki/Third_normal_form)*\n",
    "\n",
    "In order to express the same facts without violating 3NF, it is necessary to split the table into two:\n",
    "\n",
    "**Tournament Winners**\n",
    "\n",
    "|Tournament \t|Year \t|Winner\n",
    "| --- | --- | ---\n",
    "|Indiana Invitational \t|1998 \t|Al Fredrickson\n",
    "|Cleveland Open \t|1999 \t|Bob Albertson\n",
    "|Des Moines Masters \t|1999 \t|Al Fredrickson\n",
    "|Indiana Invitational \t|1999 \t|Chip Masterson\n",
    "\n",
    "**Player Dates of Birth**\n",
    "\n",
    "|Player \t|Date of Birth\n",
    "| --- | ---\n",
    "|Chip Masterson \t|14 March 1977\n",
    "|Al Fredrickson \t|21 July 1975\n",
    "|Bob Albertson \t|28 September 1968\n",
    "\n",
    "\n",
    "Update anomalies cannot occur in these tables, which are both in 3NF.\n",
    "\n",
    "> I believe firmly that anything less than a fully normalized design is strongly contraindicated ... [Y]ou should \"denormalize\" only as a last resort. That is, you should back off from a fully normalized design only if all other strategies for improving performance have somehow failed to meet requirements.\n",
    "\n",
    "Date, C.J. Database in Depth: Relational Theory for Practitioners. O'Reilly (2005), p. 152"
   ]
  },
  {
   "cell_type": "markdown",
   "metadata": {},
   "source": [
    "---\n",
    "Tidy Data\n",
    "---\n",
    "\n",
    "![](images/HadleyObama.png)\n",
    "Single handled keeping R relevant.\n",
    "\n",
    "What it means to have \"tidy\" data:\n",
    "\n",
    "1. Each variable forms a column.\n",
    "2. Each observation forms a row.\n",
    "3. Each type of observational unit forms a table.\n",
    "\n",
    "Same things I have been saying only in Plain English."
   ]
  },
  {
   "cell_type": "markdown",
   "metadata": {},
   "source": [
    "---\n",
    "ACID\n",
    "---\n",
    "\n",
    "A set of properties that guarantee that database transactions are processed reliably\n",
    "\n",
    "What is a transaction?\n",
    "a single logical operation on the data\n",
    "\n",
    "One common example is the transfer of funds from one bank account to another. _Even though it involves multiple changes such as debiting one account and crediting another, is a single transaction_\n",
    "\n",
    "![](images/acid.jpg)\n",
    "\n",
    "- Atomicity: each transaction must be \"all or nothing\"\n",
    "- Consistency: any transaction will bring the database from one valid state to another\n",
    "- Isolation: concurrent execution of transactions results in a system state that would be obtained if transactions were executed serially,\n",
    "- Durability: once a group of SQL statements execute, the results need to be stored permanently\n",
    " \n",
    "![](images/uptime.jpg)\n",
    "\n",
    "This makes sense in single systems that are updated every night (think banking in 70s). It makes less sense in distrubted web world. \n",
    "\n",
    "![](images/mfbt.jpg)"
   ]
  },
  {
   "cell_type": "markdown",
   "metadata": {},
   "source": [
    "<!--\n",
    "\n",
    "----\n",
    "Why RDMS and SQL are fundmentally flawed\n",
    "----\n",
    "\n",
    "- The world is not Boolean\n",
    "- Scaling\n",
    "- Beggin the need for OOP <-> Relational, aka ORMs\n",
    "\n",
    "---\n",
    "The World is nonlinear (and non-Boolean)\n",
    "---\n",
    "\n",
    "Real World -> Web Application -> Database -> SQL -> Report -> Decision about real world\n",
    "\n",
    "> Each row within a table is a declaration about a fact in the world, and SQL allows for operator-efficient data retrieval of those facts using predicate logic to create inferences from those facts. \n",
    "\n",
    "wtf!?\n",
    "\n",
    "---\n",
    "Scaling\n",
    "---\n",
    "\n",
    "Given ACID requirements, it is non-trival to scale.\n",
    "\n",
    "The progressiong is\n",
    "1. Larger servers\n",
    "2. Sharding\n",
    "3. Complex/distrubted systems\n",
    "-->"
   ]
  },
  {
   "cell_type": "markdown",
   "metadata": {},
   "source": [
    "---\n",
    "ORMs \n",
    "---\n",
    "\n",
    "RDMS's basic abstraction are relations, tables with rows.\n",
    "\n",
    "Python's basic abstraction is Object Oriented Programming (OOP), classes with attributes and methods\n",
    "\n",
    "> In Python \"Everything is an object\""
   ]
  },
  {
   "cell_type": "code",
   "execution_count": 9,
   "metadata": {
    "collapsed": false
   },
   "outputs": [
    {
     "data": {
      "text/plain": [
       "True"
      ]
     },
     "execution_count": 9,
     "metadata": {},
     "output_type": "execute_result"
    }
   ],
   "source": [
    "# None is an object\n",
    "isinstance(None, object)"
   ]
  },
  {
   "cell_type": "markdown",
   "metadata": {},
   "source": [
    "### Different abstractions in OOP and relational models.\n",
    "\n",
    "Object Oriented Programming (OOP) abstractions:\n",
    "    \n",
    "- Identity\n",
    "- State\n",
    "- Behavior\n",
    "- Encapsulation\n",
    "\n",
    "Relational model abstractions:\n",
    "\n",
    "- Relation\n",
    "- Attribute\n",
    "- Tuple"
   ]
  },
  {
   "cell_type": "markdown",
   "metadata": {},
   "source": [
    "There is also different terms for same concept.\n",
    "\n",
    "Web Applications:\n",
    "\n",
    "- Create\n",
    "- Read\n",
    "- Update\n",
    "- Delete\n",
    "\n",
    "DBs:\n",
    "\n",
    "- Insert\n",
    "- Select\n",
    "- Update\n",
    "- Delete"
   ]
  },
  {
   "cell_type": "markdown",
   "metadata": {},
   "source": [
    "There is an impedence mismatch, aka diferent mental models.\n",
    "\n",
    "An ORM is a translation device.\n",
    "\n",
    "In Python, it is [SQLAlchemy](http://www.sqlalchemy.org/)\n",
    "\n",
    "[ORMs](https://en.wikipedia.org/wiki/Object-relational_mapping)"
   ]
  },
  {
   "cell_type": "markdown",
   "metadata": {},
   "source": [
    "---\n",
    "### Takehome message\n",
    "\n",
    "RDMS is a \"solved\" problem. <!--Hire someone to do it for you.-->\n",
    "\n",
    "Just Avoid Bad Decisions."
   ]
  },
  {
   "cell_type": "markdown",
   "metadata": {},
   "source": [
    "---\n",
    "Summary\n",
    "---\n",
    "- We learn about the world of RDMS (mathematical elegance...until reality hits).\n",
    "- A little bit of math (relational algebra) and lot of rules.\n",
    "- It is important that your data is 3rd Nominal form (or peole will laugh at you).\n",
    "- RDMS do not pair well with OOP. ORMs are bandaids on gaping flesh wounds."
   ]
  },
  {
   "cell_type": "markdown",
   "metadata": {
    "collapsed": true
   },
   "source": [
    "<br>\n",
    "---"
   ]
  }
 ],
 "metadata": {
  "anaconda-cloud": {},
  "kernelspec": {
   "display_name": "Python [default]",
   "language": "python",
   "name": "python2"
  },
  "language_info": {
   "codemirror_mode": {
    "name": "ipython",
    "version": 2
   },
   "file_extension": ".py",
   "mimetype": "text/x-python",
   "name": "python",
   "nbconvert_exporter": "python",
   "pygments_lexer": "ipython2",
   "version": "2.7.12"
  }
 },
 "nbformat": 4,
 "nbformat_minor": 0
}
